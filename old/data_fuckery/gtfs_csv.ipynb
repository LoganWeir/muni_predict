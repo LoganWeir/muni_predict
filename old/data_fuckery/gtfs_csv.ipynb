{
 "cells": [
  {
   "cell_type": "code",
   "execution_count": 2,
   "metadata": {},
   "outputs": [],
   "source": [
    "import pandas as pd"
   ]
  },
  {
   "cell_type": "code",
   "execution_count": 3,
   "metadata": {},
   "outputs": [],
   "source": [
    "#Manually Entering in GTFS File Date Ranges\n",
    "\n",
    "headers = ['from_date', 'to_date', 'directory']\n",
    "\n",
    "gtfs_raw = [\n",
    "    ['2016-08-13','2017-02-10','sfmta_2017-02-10'],\n",
    "    ['2016-06-04','2016-08-12','sfmta_2016-08-12'],\n",
    "    ['2016-04-23','2016-06-03','sfmta_2016-06-03'],\n",
    "    ['2016-09-26','2016-04-22','sfmta_2016-04-22']\n",
    "]\n",
    "\n",
    "df = pd.DataFrame(gtfs_raw, columns=headers)"
   ]
  },
  {
   "cell_type": "code",
   "execution_count": 4,
   "metadata": {},
   "outputs": [],
   "source": [
    "df.to_csv('gtfs_lookup.csv')"
   ]
  },
  {
   "cell_type": "code",
   "execution_count": null,
   "metadata": {},
   "outputs": [],
   "source": []
  }
 ],
 "metadata": {
  "kernelspec": {
   "display_name": "Python 3",
   "language": "python",
   "name": "python3"
  },
  "language_info": {
   "codemirror_mode": {
    "name": "ipython",
    "version": 3
   },
   "file_extension": ".py",
   "mimetype": "text/x-python",
   "name": "python",
   "nbconvert_exporter": "python",
   "pygments_lexer": "ipython3",
   "version": "3.6.5"
  }
 },
 "nbformat": 4,
 "nbformat_minor": 2
}
