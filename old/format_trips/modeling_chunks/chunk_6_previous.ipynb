{
 "cells": [
  {
   "cell_type": "code",
   "execution_count": 23,
   "metadata": {},
   "outputs": [],
   "source": [
    "from datetime import datetime\n",
    "import pandas as pd\n",
    "from geopy.distance import distance\n",
    "import numpy as np\n",
    "import random\n",
    "\n",
    "import pymongo\n",
    "from pymongo import MongoClient\n",
    "\n",
    "\n",
    "\n",
    "from sklearn.model_selection import train_test_split\n",
    "from sklearn.linear_model import LinearRegression\n",
    "\n",
    "from sklearn.ensemble import RandomForestRegressor\n",
    "\n",
    "from sklearn.preprocessing import StandardScaler\n",
    "\n",
    "import statsmodels.api as sm\n",
    "from sklearn.model_selection import cross_validate\n",
    "\n",
    "\n",
    "\n",
    "\n",
    "import pymongo\n",
    "from pymongo import MongoClient\n",
    "\n",
    "import matplotlib.pyplot as plt\n",
    "\n",
    "plt.style.use(\"ggplot\")\n",
    "\n",
    "%matplotlib inline"
   ]
  },
  {
   "cell_type": "code",
   "execution_count": 24,
   "metadata": {},
   "outputs": [],
   "source": [
    "client = MongoClient('localhost', 27017)\n",
    "\n",
    "db = client['avl_pipeline_test']\n",
    "\n",
    "trip_coll = db['clean_trips']\n",
    "chnk_coll = db['chunk_info']"
   ]
  },
  {
   "cell_type": "code",
   "execution_count": 25,
   "metadata": {},
   "outputs": [
    {
     "data": {
      "text/plain": [
       "{'_id': ObjectId('5ae4dcb33ad39e1721401dad'),\n",
       " 'HEADING': '82.0',\n",
       " 'LATITUDE': '37.78693',\n",
       " 'LONGITUDE': '-122.4565',\n",
       " 'PREDICTABLE': '1',\n",
       " 'REPORT_TIME': '10/28/2016 00:27:57',\n",
       " 'REV': '1526',\n",
       " 'SPEED': '0.0',\n",
       " 'TRAIN_ASSIGNMENT': '3305',\n",
       " 'VEHICLE_TAG': '5419',\n",
       " 'minutes_noon_sqr': 480249,\n",
       " 'sched_time_diff_seconds': 123,\n",
       " 'service_id': 1,\n",
       " 'time_stamp': 1477639677.0,\n",
       " 'trip_id': 7253717,\n",
       " 'trip_id_iso': '7253717_2016-10-28_JRMFT',\n",
       " 'trip_start': 1,\n",
       " 'chunk_2': '1',\n",
       " 'chunk_6': '1',\n",
       " 'chunk_12': '1'}"
      ]
     },
     "execution_count": 25,
     "metadata": {},
     "output_type": "execute_result"
    }
   ],
   "source": [
    "trip_coll.find_one()"
   ]
  },
  {
   "cell_type": "code",
   "execution_count": 26,
   "metadata": {},
   "outputs": [],
   "source": [
    "six_cnk_info = chnk_coll.find_one({'number_chunks':6})"
   ]
  },
  {
   "cell_type": "code",
   "execution_count": 27,
   "metadata": {},
   "outputs": [],
   "source": [
    "all_trips = trip_coll.distinct('trip_id_iso')\n",
    "# # Testing\n",
    "# all_trips = all_trips[33:40]"
   ]
  },
  {
   "cell_type": "code",
   "execution_count": 29,
   "metadata": {},
   "outputs": [],
   "source": [
    "trip_list = []\n",
    "\n",
    "for trip_id in all_trips:\n",
    "    \n",
    "    trip_data = {}\n",
    "    \n",
    "    breakin = 0\n",
    "\n",
    "    \n",
    "    \n",
    "    search = {\n",
    "                'trip_id_iso': trip_id,\n",
    "                'trip_start': 1\n",
    "            }\n",
    "    \n",
    "    trip_start = trip_coll.find_one(search)\n",
    "    \n",
    "    if not trip_start:\n",
    "        continue\n",
    "    \n",
    " \n",
    "\n",
    "\n",
    "    for chnk_seq, chnk_data in six_cnk_info['chunks'].items():\n",
    "        \n",
    "        if chnk_seq in ['2','3']:\n",
    "        \n",
    "            search = {\n",
    "                'trip_id_iso': trip_id,\n",
    "                'chunk_6': chnk_seq\n",
    "            }\n",
    "\n",
    "            chnk_str = '_chnk_' + chnk_seq\n",
    "\n",
    "            chnk_cursor = trip_coll.find(search)\n",
    "            \n",
    "            if chnk_cursor.count() == 0:\n",
    "                breakin += 1\n",
    "                break\n",
    "\n",
    "            chnk_df = pd.DataFrame(list(chnk_cursor))\n",
    "\n",
    "            min_ts = chnk_df['time_stamp'].min()\n",
    "            max_ts = chnk_df['time_stamp'].max()\n",
    "            chnk_secs = max_ts - min_ts\n",
    "            \n",
    "            if chnk_secs > 2500:\n",
    "                breakin += 1\n",
    "                break\n",
    "    \n",
    "  \n",
    "            trip_data['seconds' + chnk_str ] = chnk_secs\n",
    "\n",
    "            min_dt = datetime.fromtimestamp(min_ts)\n",
    "            mfn_sq = (((min_dt.hour * 60) + min_dt.minute) - 720)**2\n",
    "\n",
    "            mfn_abs = abs(((min_dt.hour * 60) + min_dt.minute) - 720)\n",
    "        \n",
    "            trip_data['mfn_sq' + chnk_str] = mfn_sq\n",
    "            trip_data['mfn_abs' + chnk_str] = mfn_abs\n",
    "            \n",
    "            avg_spd = chnk_df['SPEED'].astype('float').mean()\n",
    "\n",
    "            trip_data['avg_speed' + chnk_str] = avg_spd\n",
    "    \n",
    "    \n",
    "    \n",
    "    \n",
    "    first_trip_ts = trip_start['time_stamp']\n",
    "    \n",
    "    before_search = {\n",
    "        'time_stamp': {'$lt': first_trip_ts},\n",
    "        'trip_start': 1\n",
    "    }\n",
    "    \n",
    "    most_recent = list(trip_coll.find(before_search).sort('time_stamp', pymongo.DESCENDING).limit(1))\n",
    "    \n",
    "    if not most_recent:\n",
    "        continue\n",
    "        \n",
    "    most_recent = most_recent[0]\n",
    "    \n",
    "    prior_ts = most_recent['time_stamp']\n",
    "    prior_id = most_recent['trip_id_iso']\n",
    "    \n",
    "    start_diff = first_trip_ts - prior_ts\n",
    "    \n",
    "    if start_diff > 1800:\n",
    "        continue\n",
    "        \n",
    "        \n",
    "    # Get prior chunk data\n",
    "    for chnk_seq, chnk_data in six_cnk_info['chunks'].items():\n",
    "\n",
    "        if chnk_seq in ['2','3']:\n",
    "\n",
    "            search = {\n",
    "                'trip_id_iso': prior_id,\n",
    "                'chunk_6': chnk_seq\n",
    "            }\n",
    "\n",
    "            chnk_str = 'prior_chnk_' + chnk_seq\n",
    "\n",
    "            chnk_cursor = trip_coll.find(search)\n",
    "\n",
    "            if chnk_cursor.count() == 0:\n",
    "                breakin += 1\n",
    "                break\n",
    "\n",
    "            chnk_df = pd.DataFrame(list(chnk_cursor))\n",
    "\n",
    "            min_ts = chnk_df['time_stamp'].min()\n",
    "            max_ts = chnk_df['time_stamp'].max()\n",
    "            chnk_secs = max_ts - min_ts\n",
    "\n",
    "            if chnk_secs > 2500:\n",
    "                breakin += 1\n",
    "                break\n",
    "\n",
    "\n",
    "            trip_data['seconds' + chnk_str ] = chnk_secs\n",
    "\n",
    "            min_dt = datetime.fromtimestamp(min_ts)\n",
    "            mfn_sq = (((min_dt.hour * 60) + min_dt.minute) - 720)**2\n",
    "\n",
    "            mfn_abs = abs(((min_dt.hour * 60) + min_dt.minute) - 720)\n",
    "\n",
    "            trip_data['mfn_sq' + chnk_str] = mfn_sq\n",
    "            trip_data['mfn_abs' + chnk_str] = mfn_abs\n",
    "\n",
    "            avg_spd = chnk_df['SPEED'].astype('float').mean()\n",
    "\n",
    "            trip_data['avg_speed' + chnk_str] = avg_spd\n",
    "        \n",
    "    \n",
    "    if breakin == 0:\n",
    "    \n",
    "        trip_list.append(trip_data)"
   ]
  },
  {
   "cell_type": "code",
   "execution_count": 30,
   "metadata": {},
   "outputs": [],
   "source": [
    "chnky_df = pd.DataFrame(trip_list)"
   ]
  },
  {
   "cell_type": "code",
   "execution_count": 32,
   "metadata": {},
   "outputs": [
    {
     "name": "stdout",
     "output_type": "stream",
     "text": [
      "<class 'pandas.core.frame.DataFrame'>\n",
      "RangeIndex: 1060 entries, 0 to 1059\n",
      "Data columns (total 16 columns):\n",
      "avg_speed_chnk_2         1060 non-null float64\n",
      "avg_speed_chnk_3         1060 non-null float64\n",
      "avg_speedprior_chnk_2    1060 non-null float64\n",
      "avg_speedprior_chnk_3    1060 non-null float64\n",
      "mfn_abs_chnk_2           1060 non-null int64\n",
      "mfn_abs_chnk_3           1060 non-null int64\n",
      "mfn_absprior_chnk_2      1060 non-null int64\n",
      "mfn_absprior_chnk_3      1060 non-null int64\n",
      "mfn_sq_chnk_2            1060 non-null int64\n",
      "mfn_sq_chnk_3            1060 non-null int64\n",
      "mfn_sqprior_chnk_2       1060 non-null int64\n",
      "mfn_sqprior_chnk_3       1060 non-null int64\n",
      "seconds_chnk_2           1060 non-null float64\n",
      "seconds_chnk_3           1060 non-null float64\n",
      "secondsprior_chnk_2      1060 non-null float64\n",
      "secondsprior_chnk_3      1060 non-null float64\n",
      "dtypes: float64(8), int64(8)\n",
      "memory usage: 132.6 KB\n"
     ]
    }
   ],
   "source": [
    "chnky_df.info()"
   ]
  },
  {
   "cell_type": "code",
   "execution_count": 35,
   "metadata": {},
   "outputs": [],
   "source": [
    "y = chnky_df['seconds_chnk_3'].values\n",
    "y = y.reshape(-1,1)"
   ]
  },
  {
   "cell_type": "code",
   "execution_count": 36,
   "metadata": {},
   "outputs": [],
   "source": [
    "X = chnky_df[['seconds_chnk_2', 'mfn_abs_chnk_2', 'secondsprior_chnk_3']].values\n",
    "# X = X.reshape(-1,1)"
   ]
  },
  {
   "cell_type": "code",
   "execution_count": 37,
   "metadata": {},
   "outputs": [],
   "source": [
    "scaler = StandardScaler()\n",
    "X_norm = scaler.fit_transform(X)\n",
    "\n",
    "scaler_y = StandardScaler()\n",
    "y_norm = scaler_y.fit_transform(y)\n",
    "\n",
    "# X_train, X_test, y_train, y_test = train_test_split(X_norm, y_norm)\n",
    "\n",
    "# X_norm = X\n",
    "# y_norm = y\n",
    "\n",
    "X_train, X_test, y_train, y_test = train_test_split(X_norm, y_norm)"
   ]
  },
  {
   "cell_type": "code",
   "execution_count": 38,
   "metadata": {},
   "outputs": [
    {
     "data": {
      "text/html": [
       "<table class=\"simpletable\">\n",
       "<caption>OLS Regression Results</caption>\n",
       "<tr>\n",
       "  <th>Dep. Variable:</th>            <td>y</td>        <th>  R-squared:         </th> <td>   0.064</td>\n",
       "</tr>\n",
       "<tr>\n",
       "  <th>Model:</th>                   <td>OLS</td>       <th>  Adj. R-squared:    </th> <td>   0.060</td>\n",
       "</tr>\n",
       "<tr>\n",
       "  <th>Method:</th>             <td>Least Squares</td>  <th>  F-statistic:       </th> <td>   17.94</td>\n",
       "</tr>\n",
       "<tr>\n",
       "  <th>Date:</th>             <td>Fri, 04 May 2018</td> <th>  Prob (F-statistic):</th> <td>2.85e-11</td>\n",
       "</tr>\n",
       "<tr>\n",
       "  <th>Time:</th>                 <td>15:35:08</td>     <th>  Log-Likelihood:    </th> <td> -1128.0</td>\n",
       "</tr>\n",
       "<tr>\n",
       "  <th>No. Observations:</th>      <td>   795</td>      <th>  AIC:               </th> <td>   2262.</td>\n",
       "</tr>\n",
       "<tr>\n",
       "  <th>Df Residuals:</th>          <td>   792</td>      <th>  BIC:               </th> <td>   2276.</td>\n",
       "</tr>\n",
       "<tr>\n",
       "  <th>Df Model:</th>              <td>     3</td>      <th>                     </th>     <td> </td>   \n",
       "</tr>\n",
       "<tr>\n",
       "  <th>Covariance Type:</th>      <td>nonrobust</td>    <th>                     </th>     <td> </td>   \n",
       "</tr>\n",
       "</table>\n",
       "<table class=\"simpletable\">\n",
       "<tr>\n",
       "   <td></td>     <th>coef</th>     <th>std err</th>      <th>t</th>      <th>P>|t|</th>  <th>[0.025</th>    <th>0.975]</th>  \n",
       "</tr>\n",
       "<tr>\n",
       "  <th>x1</th> <td>    0.0639</td> <td>    0.035</td> <td>    1.809</td> <td> 0.071</td> <td>   -0.005</td> <td>    0.133</td>\n",
       "</tr>\n",
       "<tr>\n",
       "  <th>x2</th> <td>   -0.1739</td> <td>    0.037</td> <td>   -4.727</td> <td> 0.000</td> <td>   -0.246</td> <td>   -0.102</td>\n",
       "</tr>\n",
       "<tr>\n",
       "  <th>x3</th> <td>    0.1294</td> <td>    0.036</td> <td>    3.560</td> <td> 0.000</td> <td>    0.058</td> <td>    0.201</td>\n",
       "</tr>\n",
       "</table>\n",
       "<table class=\"simpletable\">\n",
       "<tr>\n",
       "  <th>Omnibus:</th>       <td>352.040</td> <th>  Durbin-Watson:     </th> <td>   2.077</td>\n",
       "</tr>\n",
       "<tr>\n",
       "  <th>Prob(Omnibus):</th> <td> 0.000</td>  <th>  Jarque-Bera (JB):  </th> <td>6951.285</td>\n",
       "</tr>\n",
       "<tr>\n",
       "  <th>Skew:</th>          <td> 1.507</td>  <th>  Prob(JB):          </th> <td>    0.00</td>\n",
       "</tr>\n",
       "<tr>\n",
       "  <th>Kurtosis:</th>      <td>17.169</td>  <th>  Cond. No.          </th> <td>    1.38</td>\n",
       "</tr>\n",
       "</table>"
      ],
      "text/plain": [
       "<class 'statsmodels.iolib.summary.Summary'>\n",
       "\"\"\"\n",
       "                            OLS Regression Results                            \n",
       "==============================================================================\n",
       "Dep. Variable:                      y   R-squared:                       0.064\n",
       "Model:                            OLS   Adj. R-squared:                  0.060\n",
       "Method:                 Least Squares   F-statistic:                     17.94\n",
       "Date:                Fri, 04 May 2018   Prob (F-statistic):           2.85e-11\n",
       "Time:                        15:35:08   Log-Likelihood:                -1128.0\n",
       "No. Observations:                 795   AIC:                             2262.\n",
       "Df Residuals:                     792   BIC:                             2276.\n",
       "Df Model:                           3                                         \n",
       "Covariance Type:            nonrobust                                         \n",
       "==============================================================================\n",
       "                 coef    std err          t      P>|t|      [0.025      0.975]\n",
       "------------------------------------------------------------------------------\n",
       "x1             0.0639      0.035      1.809      0.071      -0.005       0.133\n",
       "x2            -0.1739      0.037     -4.727      0.000      -0.246      -0.102\n",
       "x3             0.1294      0.036      3.560      0.000       0.058       0.201\n",
       "==============================================================================\n",
       "Omnibus:                      352.040   Durbin-Watson:                   2.077\n",
       "Prob(Omnibus):                  0.000   Jarque-Bera (JB):             6951.285\n",
       "Skew:                           1.507   Prob(JB):                         0.00\n",
       "Kurtosis:                      17.169   Cond. No.                         1.38\n",
       "==============================================================================\n",
       "\n",
       "Warnings:\n",
       "[1] Standard Errors assume that the covariance matrix of the errors is correctly specified.\n",
       "\"\"\""
      ]
     },
     "execution_count": 38,
     "metadata": {},
     "output_type": "execute_result"
    }
   ],
   "source": [
    "# fit with statsmodels\n",
    "model1 = sm.OLS(y_train,X_train)\n",
    "results = model1.fit()\n",
    "results.summary()"
   ]
  },
  {
   "cell_type": "code",
   "execution_count": 39,
   "metadata": {},
   "outputs": [
    {
     "name": "stdout",
     "output_type": "stream",
     "text": [
      "R-squared:  -1.0037300432420457\n",
      "RMSE:  539.5096766075443\n"
     ]
    }
   ],
   "source": [
    "regr = RandomForestRegressor(n_estimators=50)\n",
    "\n",
    "crossed = cross_validate(regr, X_norm, y_norm.flatten(), cv=20, \n",
    "                         scoring=['neg_mean_squared_error','r2'], return_train_score=False)\n",
    "\n",
    "rmse_norm = (abs(crossed['test_neg_mean_squared_error'].mean()))**.5\n",
    "r2 = crossed['test_neg_mean_squared_error'].mean()\n",
    "\n",
    "print (\"R-squared: \", r2)\n",
    "print ('RMSE: ', scaler_y.inverse_transform([rmse_norm])[0])"
   ]
  },
  {
   "cell_type": "code",
   "execution_count": 40,
   "metadata": {},
   "outputs": [],
   "source": [
    "x = chnky_df['secondsprior_chnk_3'].values\n",
    "y = chnky_df['seconds_chnk_3'].values"
   ]
  },
  {
   "cell_type": "code",
   "execution_count": 41,
   "metadata": {},
   "outputs": [
    {
     "data": {
      "image/png": "[encoded data removed]",
      "text/plain": [
       "<Figure size 864x576 with 1 Axes>"
      ]
     },
     "metadata": {},
     "output_type": "display_data"
    }
   ],
   "source": [
    "fig, ax = plt.subplots(figsize=(12, 8))\n",
    "ax.scatter(x, y);"
   ]
  },
  {
   "cell_type": "code",
   "execution_count": null,
   "metadata": {},
   "outputs": [],
   "source": []
  },
  {
   "cell_type": "code",
   "execution_count": null,
   "metadata": {},
   "outputs": [],
   "source": []
  },
  {
   "cell_type": "code",
   "execution_count": null,
   "metadata": {},
   "outputs": [],
   "source": []
  },
  {
   "cell_type": "code",
   "execution_count": null,
   "metadata": {},
   "outputs": [],
   "source": []
  }
 ],
 "metadata": {
  "kernelspec": {
   "display_name": "Python 3",
   "language": "python",
   "name": "python3"
  },
  "language_info": {
   "codemirror_mode": {
    "name": "ipython",
    "version": 3
   },
   "file_extension": ".py",
   "mimetype": "text/x-python",
   "name": "python",
   "nbconvert_exporter": "python",
   "pygments_lexer": "ipython3",
   "version": "3.6.5"
  }
 },
 "nbformat": 4,
 "nbformat_minor": 2
}
