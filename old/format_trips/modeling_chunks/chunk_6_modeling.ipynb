{
 "cells": [
  {
   "cell_type": "code",
   "execution_count": 27,
   "metadata": {},
   "outputs": [],
   "source": [
    "from datetime import datetime\n",
    "import pandas as pd\n",
    "from geopy.distance import distance\n",
    "import numpy as np\n",
    "import random\n",
    "\n",
    "import pymongo\n",
    "from pymongo import MongoClient\n",
    "\n",
    "\n",
    "\n",
    "from sklearn.model_selection import train_test_split\n",
    "from sklearn.linear_model import LinearRegression\n",
    "\n",
    "from sklearn.ensemble import RandomForestRegressor\n",
    "\n",
    "from sklearn.preprocessing import StandardScaler\n",
    "\n",
    "import statsmodels.api as sm\n",
    "from sklearn.model_selection import cross_validate\n",
    "\n",
    "\n",
    "\n",
    "\n",
    "import pymongo\n",
    "from pymongo import MongoClient\n",
    "\n",
    "import matplotlib.pyplot as plt\n",
    "\n",
    "plt.style.use(\"ggplot\")\n",
    "\n",
    "%matplotlib inline"
   ]
  },
  {
   "cell_type": "code",
   "execution_count": 28,
   "metadata": {},
   "outputs": [],
   "source": [
    "client = MongoClient('localhost', 27017)\n",
    "\n",
    "db = client['avl_pipeline_test']\n",
    "\n",
    "trip_coll = db['clean_trips']\n",
    "chnk_coll = db['chunk_info']"
   ]
  },
  {
   "cell_type": "code",
   "execution_count": 29,
   "metadata": {},
   "outputs": [
    {
     "data": {
      "text/plain": [
       "{'_id': ObjectId('5ae4dcb33ad39e1721401dad'),\n",
       " 'HEADING': '82.0',\n",
       " 'LATITUDE': '37.78693',\n",
       " 'LONGITUDE': '-122.4565',\n",
       " 'PREDICTABLE': '1',\n",
       " 'REPORT_TIME': '10/28/2016 00:27:57',\n",
       " 'REV': '1526',\n",
       " 'SPEED': '0.0',\n",
       " 'TRAIN_ASSIGNMENT': '3305',\n",
       " 'VEHICLE_TAG': '5419',\n",
       " 'minutes_noon_sqr': 480249,\n",
       " 'sched_time_diff_seconds': 123,\n",
       " 'service_id': 1,\n",
       " 'time_stamp': 1477639677.0,\n",
       " 'trip_id': 7253717,\n",
       " 'trip_id_iso': '7253717_2016-10-28_JRMFT',\n",
       " 'trip_start': 1,\n",
       " 'chunk_2': '1',\n",
       " 'chunk_6': '1',\n",
       " 'chunk_12': '1'}"
      ]
     },
     "execution_count": 29,
     "metadata": {},
     "output_type": "execute_result"
    }
   ],
   "source": [
    "trip_coll.find_one()"
   ]
  },
  {
   "cell_type": "code",
   "execution_count": 30,
   "metadata": {},
   "outputs": [],
   "source": [
    "six_cnk_info = chnk_coll.find_one({'number_chunks':6})"
   ]
  },
  {
   "cell_type": "code",
   "execution_count": 31,
   "metadata": {},
   "outputs": [],
   "source": [
    "all_trips = trip_coll.distinct('trip_id_iso')\n",
    "# # Testing\n",
    "# all_trips = all_trips[33:34]"
   ]
  },
  {
   "cell_type": "code",
   "execution_count": 37,
   "metadata": {},
   "outputs": [],
   "source": [
    "trip_list = []\n",
    "\n",
    "for trip in all_trips:\n",
    "    \n",
    "    trip_data = {}\n",
    "    \n",
    "    breakin = 0\n",
    "    \n",
    "    for chnk_seq, chnk_data in six_cnk_info['chunks'].items():\n",
    "        \n",
    "        if chnk_seq in ['1','2', '3']:\n",
    "        \n",
    "            search = {\n",
    "                'trip_id_iso': trip,\n",
    "                'chunk_6': chnk_seq\n",
    "            }\n",
    "\n",
    "            chnk_str = '_chnk_' + chnk_seq\n",
    "\n",
    "            chnk_cursor = trip_coll.find(search)\n",
    "            \n",
    "            if chnk_cursor.count() == 0:\n",
    "                continue\n",
    "\n",
    "            chnk_df = pd.DataFrame(list(chnk_cursor))\n",
    "\n",
    "            min_ts = chnk_df['time_stamp'].min()\n",
    "            max_ts = chnk_df['time_stamp'].max()\n",
    "            chnk_secs = max_ts - min_ts\n",
    "            \n",
    "            if chnk_secs > 2500:\n",
    "                breakin += 1\n",
    "                break\n",
    "\n",
    "            trip_data['seconds' + chnk_str ] = chnk_secs\n",
    "\n",
    "            min_dt = datetime.fromtimestamp(min_ts)\n",
    "            mfn_sq = (((min_dt.hour * 60) + min_dt.minute) - 720)**2\n",
    "\n",
    "            mfn_abs = abs(((min_dt.hour * 60) + min_dt.minute) - 720)\n",
    "        \n",
    "            trip_data['mfn_sq' + chnk_str] = mfn_sq\n",
    "            trip_data['mfn_abs' + chnk_str] = mfn_abs\n",
    "            \n",
    "            avg_spd = chnk_df['SPEED'].astype('float').mean()\n",
    "\n",
    "            trip_data['avg_speed' + chnk_str] = avg_spd\n",
    "        \n",
    "    \n",
    "    if breakin == 0:\n",
    "    \n",
    "        trip_list.append(trip_data)"
   ]
  },
  {
   "cell_type": "code",
   "execution_count": 38,
   "metadata": {},
   "outputs": [],
   "source": [
    "chnky_df = pd.DataFrame(trip_list)"
   ]
  },
  {
   "cell_type": "code",
   "execution_count": 52,
   "metadata": {
    "scrolled": true
   },
   "outputs": [],
   "source": [
    "chnky_df = chnky_df.dropna()"
   ]
  },
  {
   "cell_type": "code",
   "execution_count": 54,
   "metadata": {},
   "outputs": [
    {
     "data": {
      "text/plain": [
       "avg_speed_chnk_1             5.212797\n",
       "avg_speed_chnk_2             5.333654\n",
       "avg_speed_chnk_3             5.676692\n",
       "chnk1_mfn_abs_chnk_1       292.667925\n",
       "chnk1_mfn_abs_chnk_2       294.511698\n",
       "chnk1_mfn_abs_chnk_3       296.801509\n",
       "chnk1_mfn_sq_chnk_1     124639.798491\n",
       "chnk1_mfn_sq_chnk_2     126523.470189\n",
       "chnk1_mfn_sq_chnk_3     128583.806792\n",
       "seconds_chnk_1             499.183396\n",
       "seconds_chnk_2             467.242264\n",
       "seconds_chnk_3             443.842264\n",
       "dtype: float64"
      ]
     },
     "execution_count": 54,
     "metadata": {},
     "output_type": "execute_result"
    }
   ],
   "source": [
    "chnky_df.mean()"
   ]
  },
  {
   "cell_type": "code",
   "execution_count": 55,
   "metadata": {},
   "outputs": [],
   "source": [
    "y = chnky_df['seconds_chnk_3'].values\n",
    "y = y.reshape(-1,1)"
   ]
  },
  {
   "cell_type": "code",
   "execution_count": 60,
   "metadata": {},
   "outputs": [],
   "source": [
    "# X = chnky_df[['chnk1_mfn_sq_chnk_1', 'seconds_chnk_1']].values\n",
    "\n",
    "X = chnky_df[['seconds_chnk_2', 'chnk1_mfn_abs_chnk_2']].values\n",
    "# X = X.reshape(-1,1)\n"
   ]
  },
  {
   "cell_type": "code",
   "execution_count": 61,
   "metadata": {},
   "outputs": [],
   "source": [
    "scaler = StandardScaler()\n",
    "X_norm = scaler.fit_transform(X)\n",
    "\n",
    "scaler_y = StandardScaler()\n",
    "y_norm = scaler_y.fit_transform(y)\n",
    "\n",
    "# X_train, X_test, y_train, y_test = train_test_split(X_norm, y_norm)\n",
    "\n",
    "# X_norm = X\n",
    "# y_norm = y\n",
    "\n",
    "X_train, X_test, y_train, y_test = train_test_split(X_norm, y_norm)"
   ]
  },
  {
   "cell_type": "code",
   "execution_count": 62,
   "metadata": {},
   "outputs": [
    {
     "data": {
      "text/html": [
       "<table class=\"simpletable\">\n",
       "<caption>OLS Regression Results</caption>\n",
       "<tr>\n",
       "  <th>Dep. Variable:</th>            <td>y</td>        <th>  R-squared:         </th> <td>   0.095</td>\n",
       "</tr>\n",
       "<tr>\n",
       "  <th>Model:</th>                   <td>OLS</td>       <th>  Adj. R-squared:    </th> <td>   0.094</td>\n",
       "</tr>\n",
       "<tr>\n",
       "  <th>Method:</th>             <td>Least Squares</td>  <th>  F-statistic:       </th> <td>   52.23</td>\n",
       "</tr>\n",
       "<tr>\n",
       "  <th>Date:</th>             <td>Fri, 04 May 2018</td> <th>  Prob (F-statistic):</th> <td>2.72e-22</td>\n",
       "</tr>\n",
       "<tr>\n",
       "  <th>Time:</th>                 <td>13:24:04</td>     <th>  Log-Likelihood:    </th> <td> -1375.8</td>\n",
       "</tr>\n",
       "<tr>\n",
       "  <th>No. Observations:</th>      <td>   993</td>      <th>  AIC:               </th> <td>   2756.</td>\n",
       "</tr>\n",
       "<tr>\n",
       "  <th>Df Residuals:</th>          <td>   991</td>      <th>  BIC:               </th> <td>   2765.</td>\n",
       "</tr>\n",
       "<tr>\n",
       "  <th>Df Model:</th>              <td>     2</td>      <th>                     </th>     <td> </td>   \n",
       "</tr>\n",
       "<tr>\n",
       "  <th>Covariance Type:</th>      <td>nonrobust</td>    <th>                     </th>     <td> </td>   \n",
       "</tr>\n",
       "</table>\n",
       "<table class=\"simpletable\">\n",
       "<tr>\n",
       "   <td></td>     <th>coef</th>     <th>std err</th>      <th>t</th>      <th>P>|t|</th>  <th>[0.025</th>    <th>0.975]</th>  \n",
       "</tr>\n",
       "<tr>\n",
       "  <th>x1</th> <td>    0.2134</td> <td>    0.033</td> <td>    6.533</td> <td> 0.000</td> <td>    0.149</td> <td>    0.277</td>\n",
       "</tr>\n",
       "<tr>\n",
       "  <th>x2</th> <td>   -0.1698</td> <td>    0.033</td> <td>   -5.164</td> <td> 0.000</td> <td>   -0.234</td> <td>   -0.105</td>\n",
       "</tr>\n",
       "</table>\n",
       "<table class=\"simpletable\">\n",
       "<tr>\n",
       "  <th>Omnibus:</th>       <td>388.122</td> <th>  Durbin-Watson:     </th> <td>   1.971</td>\n",
       "</tr>\n",
       "<tr>\n",
       "  <th>Prob(Omnibus):</th> <td> 0.000</td>  <th>  Jarque-Bera (JB):  </th> <td>7871.391</td>\n",
       "</tr>\n",
       "<tr>\n",
       "  <th>Skew:</th>          <td> 1.278</td>  <th>  Prob(JB):          </th> <td>    0.00</td>\n",
       "</tr>\n",
       "<tr>\n",
       "  <th>Kurtosis:</th>      <td>16.554</td>  <th>  Cond. No.          </th> <td>    1.43</td>\n",
       "</tr>\n",
       "</table>"
      ],
      "text/plain": [
       "<class 'statsmodels.iolib.summary.Summary'>\n",
       "\"\"\"\n",
       "                            OLS Regression Results                            \n",
       "==============================================================================\n",
       "Dep. Variable:                      y   R-squared:                       0.095\n",
       "Model:                            OLS   Adj. R-squared:                  0.094\n",
       "Method:                 Least Squares   F-statistic:                     52.23\n",
       "Date:                Fri, 04 May 2018   Prob (F-statistic):           2.72e-22\n",
       "Time:                        13:24:04   Log-Likelihood:                -1375.8\n",
       "No. Observations:                 993   AIC:                             2756.\n",
       "Df Residuals:                     991   BIC:                             2765.\n",
       "Df Model:                           2                                         \n",
       "Covariance Type:            nonrobust                                         \n",
       "==============================================================================\n",
       "                 coef    std err          t      P>|t|      [0.025      0.975]\n",
       "------------------------------------------------------------------------------\n",
       "x1             0.2134      0.033      6.533      0.000       0.149       0.277\n",
       "x2            -0.1698      0.033     -5.164      0.000      -0.234      -0.105\n",
       "==============================================================================\n",
       "Omnibus:                      388.122   Durbin-Watson:                   1.971\n",
       "Prob(Omnibus):                  0.000   Jarque-Bera (JB):             7871.391\n",
       "Skew:                           1.278   Prob(JB):                         0.00\n",
       "Kurtosis:                      16.554   Cond. No.                         1.43\n",
       "==============================================================================\n",
       "\n",
       "Warnings:\n",
       "[1] Standard Errors assume that the covariance matrix of the errors is correctly specified.\n",
       "\"\"\""
      ]
     },
     "execution_count": 62,
     "metadata": {},
     "output_type": "execute_result"
    }
   ],
   "source": [
    "# fit with statsmodels\n",
    "model1 = sm.OLS(y_train,X_train)\n",
    "results = model1.fit()\n",
    "results.summary()"
   ]
  },
  {
   "cell_type": "code",
   "execution_count": 63,
   "metadata": {},
   "outputs": [
    {
     "name": "stdout",
     "output_type": "stream",
     "text": [
      "R-squared:  -0.9742037246446124\n",
      "RMSE:  530.5401597908635\n"
     ]
    }
   ],
   "source": [
    "regr = RandomForestRegressor(n_estimators=50)\n",
    "\n",
    "crossed = cross_validate(regr, X_norm, y_norm.flatten(), cv=20, \n",
    "                         scoring=['neg_mean_squared_error','r2'], return_train_score=False)\n",
    "\n",
    "rmse_norm = (abs(crossed['test_neg_mean_squared_error'].mean()))**.5\n",
    "r2 = crossed['test_neg_mean_squared_error'].mean()\n",
    "\n",
    "print (\"R-squared: \", r2)\n",
    "print ('RMSE: ', scaler_y.inverse_transform([rmse_norm])[0])"
   ]
  },
  {
   "cell_type": "code",
   "execution_count": 64,
   "metadata": {},
   "outputs": [],
   "source": [
    "x = chnky_df['seconds_chnk_3'].values\n",
    "y = chnky_df['seconds_chnk_2'].values"
   ]
  },
  {
   "cell_type": "code",
   "execution_count": 65,
   "metadata": {},
   "outputs": [
    {
     "data": {
      "image/png": "[encoded data removed]",
      "text/plain": [
       "<Figure size 864x576 with 1 Axes>"
      ]
     },
     "metadata": {},
     "output_type": "display_data"
    }
   ],
   "source": [
    "fig, ax = plt.subplots(figsize=(12, 8))\n",
    "ax.scatter(x, y);"
   ]
  },
  {
   "cell_type": "code",
   "execution_count": null,
   "metadata": {},
   "outputs": [],
   "source": []
  },
  {
   "cell_type": "code",
   "execution_count": null,
   "metadata": {},
   "outputs": [],
   "source": []
  },
  {
   "cell_type": "code",
   "execution_count": null,
   "metadata": {},
   "outputs": [],
   "source": []
  },
  {
   "cell_type": "code",
   "execution_count": null,
   "metadata": {},
   "outputs": [],
   "source": []
  }
 ],
 "metadata": {
  "kernelspec": {
   "display_name": "Python 3",
   "language": "python",
   "name": "python3"
  },
  "language_info": {
   "codemirror_mode": {
    "name": "ipython",
    "version": 3
   },
   "file_extension": ".py",
   "mimetype": "text/x-python",
   "name": "python",
   "nbconvert_exporter": "python",
   "pygments_lexer": "ipython3",
   "version": "3.6.5"
  }
 },
 "nbformat": 4,
 "nbformat_minor": 2
}
