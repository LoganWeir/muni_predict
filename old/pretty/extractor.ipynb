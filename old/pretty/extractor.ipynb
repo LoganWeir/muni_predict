{
 "cells": [
  {
   "cell_type": "code",
   "execution_count": 15,
   "metadata": {},
   "outputs": [],
   "source": [
    "import pandas as pd\n",
    "\n",
    "import pymongo\n",
    "from pymongo import MongoClient\n",
    "\n",
    "import extract as extrct"
   ]
  },
  {
   "cell_type": "code",
   "execution_count": 16,
   "metadata": {},
   "outputs": [],
   "source": [
    "client = MongoClient('localhost', 27017)\n",
    "\n",
    "db = client['muni_prediction']\n",
    "out_collection = db['avl_gtfs0']"
   ]
  },
  {
   "cell_type": "code",
   "execution_count": 17,
   "metadata": {},
   "outputs": [],
   "source": [
    "# Optional - Clean the collections\n",
    "out_collection.delete_many({});"
   ]
  },
  {
   "cell_type": "code",
   "execution_count": 18,
   "metadata": {},
   "outputs": [
    {
     "data": {
      "text/html": [
       "<div>\n",
       "<style scoped>\n",
       "    .dataframe tbody tr th:only-of-type {\n",
       "        vertical-align: middle;\n",
       "    }\n",
       "\n",
       "    .dataframe tbody tr th {\n",
       "        vertical-align: top;\n",
       "    }\n",
       "\n",
       "    .dataframe thead th {\n",
       "        text-align: right;\n",
       "    }\n",
       "</style>\n",
       "<table border=\"1\" class=\"dataframe\">\n",
       "  <thead>\n",
       "    <tr style=\"text-align: right;\">\n",
       "      <th></th>\n",
       "      <th>from_date</th>\n",
       "      <th>to_date</th>\n",
       "      <th>directory</th>\n",
       "      <th>sign_id</th>\n",
       "    </tr>\n",
       "  </thead>\n",
       "  <tbody>\n",
       "    <tr>\n",
       "      <th>0</th>\n",
       "      <td>2016-08-13</td>\n",
       "      <td>2017-02-10</td>\n",
       "      <td>sfmta_2017-02-10</td>\n",
       "      <td>105</td>\n",
       "    </tr>\n",
       "    <tr>\n",
       "      <th>1</th>\n",
       "      <td>2016-06-04</td>\n",
       "      <td>2016-08-12</td>\n",
       "      <td>sfmta_2016-08-12</td>\n",
       "      <td>105</td>\n",
       "    </tr>\n",
       "    <tr>\n",
       "      <th>2</th>\n",
       "      <td>2016-04-23</td>\n",
       "      <td>2016-06-03</td>\n",
       "      <td>sfmta_2016-06-03</td>\n",
       "      <td>102</td>\n",
       "    </tr>\n",
       "    <tr>\n",
       "      <th>3</th>\n",
       "      <td>2015-09-26</td>\n",
       "      <td>2016-04-22</td>\n",
       "      <td>sfmta_2016-04-22</td>\n",
       "      <td>100</td>\n",
       "    </tr>\n",
       "  </tbody>\n",
       "</table>\n",
       "</div>"
      ],
      "text/plain": [
       "    from_date     to_date         directory  sign_id\n",
       "0  2016-08-13  2017-02-10  sfmta_2017-02-10      105\n",
       "1  2016-06-04  2016-08-12  sfmta_2016-08-12      105\n",
       "2  2016-04-23  2016-06-03  sfmta_2016-06-03      102\n",
       "3  2015-09-26  2016-04-22  sfmta_2016-04-22      100"
      ]
     },
     "execution_count": 18,
     "metadata": {},
     "output_type": "execute_result"
    }
   ],
   "source": [
    "gtfs_periods = pd.read_csv('data/gtfs_lookup.csv')\n",
    "gtfs_periods"
   ]
  },
  {
   "cell_type": "code",
   "execution_count": 19,
   "metadata": {},
   "outputs": [],
   "source": [
    "extractor = extrct.Extractor(out_collection)"
   ]
  },
  {
   "cell_type": "code",
   "execution_count": 20,
   "metadata": {},
   "outputs": [],
   "source": [
    "extractor.setup()"
   ]
  },
  {
   "cell_type": "code",
   "execution_count": 21,
   "metadata": {},
   "outputs": [
    {
     "name": "stdout",
     "output_type": "stream",
     "text": [
      "Getting data from  08132016\n",
      "Getting data from  08142016\n",
      "Getting data from  08152016\n",
      "Getting data from  08162016\n",
      "Getting data from  08172016\n",
      "Getting data from  08182016\n",
      "Getting data from  08192016\n",
      "Getting data from  08202016\n",
      "Getting data from  08212016\n",
      "Getting data from  08222016\n",
      "Getting data from  08232016\n",
      "Getting data from  08242016\n",
      "Getting data from  08252016\n",
      "Getting data from  08262016\n",
      "Getting data from  08272016\n",
      "Getting data from  08282016\n",
      "Getting data from  08292016\n",
      "Getting data from  08302016\n",
      "Getting data from  08312016\n",
      "Getting data from  09012016\n",
      "Getting data from  09022016\n",
      "Getting data from  09032016\n",
      "Getting data from  09042016\n",
      "Getting data from  09052016\n",
      "Getting data from  09062016\n",
      "Getting data from  09072016\n",
      "Getting data from  09082016\n",
      "Getting data from  09092016\n",
      "Getting data from  09102016\n",
      "Getting data from  09112016\n",
      "Getting data from  09122016\n",
      "Getting data from  09132016\n",
      "Getting data from  09142016\n",
      "Getting data from  09152016\n",
      "Getting data from  09162016\n",
      "Getting data from  09172016\n",
      "Getting data from  09182016\n",
      "Getting data from  09192016\n",
      "Getting data from  09202016\n",
      "Getting data from  09212016\n",
      "Getting data from  09222016\n",
      "Getting data from  09232016\n",
      "Getting data from  09242016\n",
      "Getting data from  09252016\n",
      "Getting data from  09262016\n",
      "Getting data from  09272016\n",
      "Getting data from  09282016\n",
      "Getting data from  09292016\n",
      "Getting data from  09302016\n",
      "Getting data from  10012016\n",
      "Getting data from  10022016\n",
      "Getting data from  10032016\n",
      "Getting data from  10042016\n",
      "Getting data from  10052016\n",
      "Getting data from  10062016\n",
      "Getting data from  10072016\n",
      "Getting data from  10082016\n",
      "Getting data from  10092016\n",
      "Getting data from  10102016\n",
      "Getting data from  10112016\n",
      "Getting data from  10122016\n",
      "Getting data from  10132016\n",
      "Getting data from  10142016\n",
      "Getting data from  10152016\n",
      "Getting data from  10162016\n",
      "Getting data from  10172016\n",
      "Getting data from  10182016\n",
      "Getting data from  10192016\n",
      "Getting data from  10202016\n",
      "Getting data from  10212016\n",
      "Getting data from  10222016\n",
      "Getting data from  10232016\n",
      "Getting data from  10242016\n",
      "Getting data from  10252016\n",
      "Getting data from  10262016\n",
      "Getting data from  10272016\n",
      "Getting data from  10282016\n",
      "Getting data from  10292016\n",
      "Getting data from  10302016\n",
      "Getting data from  10312016\n",
      "Getting data from  11012016\n",
      "Getting data from  11022016\n",
      "Getting data from  11032016\n",
      "Getting data from  11042016\n",
      "Getting data from  11052016\n",
      "Getting data from  11062016\n",
      "Getting data from  11072016\n",
      "Getting data from  11082016\n",
      "Getting data from  11092016\n",
      "Getting data from  11102016\n",
      "Getting data from  11112016\n",
      "Getting data from  11122016\n",
      "Getting data from  11132016\n",
      "Getting data from  11142016\n",
      "Getting data from  11152016\n",
      "Getting data from  11162016\n",
      "Getting data from  11172016\n",
      "Getting data from  11182016\n",
      "Getting data from  11192016\n",
      "Getting data from  11202016\n",
      "Getting data from  11212016\n",
      "Getting data from  11222016\n",
      "Getting data from  11232016\n",
      "Getting data from  12032016\n",
      "Getting data from  12042016\n",
      "Getting data from  12052016\n",
      "Total lines read:  140778387\n",
      "Filtered lines kept:  989439\n"
     ]
    }
   ],
   "source": [
    "extractor.get_insert_data()"
   ]
  },
  {
   "cell_type": "code",
   "execution_count": 22,
   "metadata": {},
   "outputs": [
    {
     "data": {
      "text/plain": [
       "989439"
      ]
     },
     "execution_count": 22,
     "metadata": {},
     "output_type": "execute_result"
    }
   ],
   "source": [
    "out_collection.count()"
   ]
  },
  {
   "cell_type": "code",
   "execution_count": null,
   "metadata": {},
   "outputs": [],
   "source": []
  }
 ],
 "metadata": {
  "kernelspec": {
   "display_name": "Python 3",
   "language": "python",
   "name": "python3"
  },
  "language_info": {
   "codemirror_mode": {
    "name": "ipython",
    "version": 3
   },
   "file_extension": ".py",
   "mimetype": "text/x-python",
   "name": "python",
   "nbconvert_exporter": "python",
   "pygments_lexer": "ipython3",
   "version": "3.6.5"
  }
 },
 "nbformat": 4,
 "nbformat_minor": 2
}
