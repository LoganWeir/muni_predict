{
 "cells": [
  {
   "cell_type": "code",
   "execution_count": 28,
   "metadata": {},
   "outputs": [],
   "source": [
    "import pandas as pd\n",
    "import json\n",
    "\n",
    "import pymongo\n",
    "from pymongo import MongoClient\n",
    "\n",
    "import src.extract as extract"
   ]
  },
  {
   "cell_type": "code",
   "execution_count": 59,
   "metadata": {},
   "outputs": [
    {
     "data": {
      "text/plain": [
       "{'ftp_days': 5,\n",
       " 'gtfs_period': 0,\n",
       " 'database': 'muni_prediction_data',\n",
       " 'avl_collection': 'avl_raw',\n",
       " 'labeled_collection': 'labeled_trips',\n",
       " 'bus': '33',\n",
       " 'direction': 0}"
      ]
     },
     "execution_count": 59,
     "metadata": {},
     "output_type": "execute_result"
    }
   ],
   "source": [
    "with open('parameters.json') as f:\n",
    "    params = json.load(f)\n",
    "\n",
    "params"
   ]
  },
  {
   "cell_type": "code",
   "execution_count": 23,
   "metadata": {},
   "outputs": [],
   "source": [
    "gtfs_lookup = pd.read_csv('data/gtfs_lookup.csv')"
   ]
  },
  {
   "cell_type": "code",
   "execution_count": 57,
   "metadata": {},
   "outputs": [],
   "source": [
    "client = MongoClient('localhost', 27017)\n",
    "\n",
    "db = client['muni_prediction_data']\n",
    "raw_coll = db['avl_raw']\n",
    "label_coll = db['labeled_trips']"
   ]
  },
  {
   "cell_type": "code",
   "execution_count": 80,
   "metadata": {},
   "outputs": [],
   "source": [
    "# Optional - Clean the collections\n",
    "raw_coll.delete_many({});\n",
    "label_coll.delete_many({});"
   ]
  },
  {
   "cell_type": "code",
   "execution_count": 77,
   "metadata": {},
   "outputs": [
    {
     "data": {
      "text/plain": [
       "0"
      ]
     },
     "execution_count": 77,
     "metadata": {},
     "output_type": "execute_result"
    }
   ],
   "source": [
    "raw_coll.count()"
   ]
  },
  {
   "cell_type": "code",
   "execution_count": 78,
   "metadata": {},
   "outputs": [
    {
     "data": {
      "text/plain": [
       "0"
      ]
     },
     "execution_count": 78,
     "metadata": {},
     "output_type": "execute_result"
    }
   ],
   "source": [
    "label_coll.count()"
   ]
  },
  {
   "cell_type": "code",
   "execution_count": 92,
   "metadata": {},
   "outputs": [
    {
     "data": {
      "text/plain": [
       "[{'REPORT_TIME': '08/13/2016 06:37:57'},\n",
       " {'REPORT_TIME': '08/13/2016 07:16:41'},\n",
       " {'REPORT_TIME': '08/13/2016 08:15:27'},\n",
       " {'REPORT_TIME': '08/13/2016 09:22:41'},\n",
       " {'REPORT_TIME': '08/13/2016 09:49:55'},\n",
       " {'REPORT_TIME': '08/13/2016 10:15:27'},\n",
       " {'REPORT_TIME': '08/13/2016 10:45:49'},\n",
       " {'REPORT_TIME': '08/13/2016 11:07:06'},\n",
       " {'REPORT_TIME': '08/13/2016 11:16:41'},\n",
       " {'REPORT_TIME': '08/13/2016 11:45:00'},\n",
       " {'REPORT_TIME': '08/13/2016 12:04:55'},\n",
       " {'REPORT_TIME': '08/13/2016 12:39:27'},\n",
       " {'REPORT_TIME': '08/13/2016 13:03:49'},\n",
       " {'REPORT_TIME': '08/13/2016 13:49:41'},\n",
       " {'REPORT_TIME': '08/13/2016 14:02:14'},\n",
       " {'REPORT_TIME': '08/13/2016 14:24:25'},\n",
       " {'REPORT_TIME': '08/13/2016 14:50:14'},\n",
       " {'REPORT_TIME': '08/13/2016 15:03:27'},\n",
       " {'REPORT_TIME': '08/13/2016 15:24:49'},\n",
       " {'REPORT_TIME': '08/13/2016 16:20:14'}]"
      ]
     },
     "execution_count": 92,
     "metadata": {},
     "output_type": "execute_result"
    }
   ],
   "source": [
    "list(label_coll.find({},{'_id':0, 'REPORT_TIME':1}).sort('time_stamp').limit(20))"
   ]
  },
  {
   "cell_type": "code",
   "execution_count": 89,
   "metadata": {
    "scrolled": true
   },
   "outputs": [
    {
     "data": {
      "text/plain": [
       "{'_id': ObjectId('5aee480a3ad39e7bab4806c2'),\n",
       " 'HEADING': '0.0',\n",
       " 'LATITUDE': '37.78697',\n",
       " 'LONGITUDE': '-122.45642',\n",
       " 'PREDICTABLE': '1',\n",
       " 'REPORT_TIME': '08/13/2016 10:57:05',\n",
       " 'REV': '1524',\n",
       " 'SPEED': '0.0',\n",
       " 'TRAIN_ASSIGNMENT': '3306',\n",
       " 'VEHICLE_TAG': '5407',\n",
       " 'minutes_noon_sqr': 3969,\n",
       " 'sched_time_diff_seconds': 775,\n",
       " 'service_id': 2,\n",
       " 'time_stamp': 1471111025.0,\n",
       " 'trip_id': 7253842,\n",
       " 'trip_id_iso': '7253842_2016-08-13_9O8ZP',\n",
       " 'trip_start': 1}"
      ]
     },
     "execution_count": 89,
     "metadata": {},
     "output_type": "execute_result"
    }
   ],
   "source": [
    "label_coll.find_one()"
   ]
  },
  {
   "cell_type": "code",
   "execution_count": 107,
   "metadata": {},
   "outputs": [],
   "source": [
    "routes = pd.read_csv('data/gtfs/sfmta_2017-02-10/routes.txt')"
   ]
  },
  {
   "cell_type": "code",
   "execution_count": 108,
   "metadata": {},
   "outputs": [],
   "source": [
    "routes['muni_routes'] = routes['route_short_name'].apply(lambda x: x.strip())"
   ]
  },
  {
   "cell_type": "code",
   "execution_count": 109,
   "metadata": {},
   "outputs": [],
   "source": [
    "routes['muni_routes'].to_frame().to_csv('muni_routes.csv', index=False)"
   ]
  },
  {
   "cell_type": "code",
   "execution_count": null,
   "metadata": {},
   "outputs": [],
   "source": [
    "label_coll.delete_one()"
   ]
  }
 ],
 "metadata": {
  "kernelspec": {
   "display_name": "Python 3",
   "language": "python",
   "name": "python3"
  },
  "language_info": {
   "codemirror_mode": {
    "name": "ipython",
    "version": 3
   },
   "file_extension": ".py",
   "mimetype": "text/x-python",
   "name": "python",
   "nbconvert_exporter": "python",
   "pygments_lexer": "ipython3",
   "version": "3.6.5"
  }
 },
 "nbformat": 4,
 "nbformat_minor": 2
}
