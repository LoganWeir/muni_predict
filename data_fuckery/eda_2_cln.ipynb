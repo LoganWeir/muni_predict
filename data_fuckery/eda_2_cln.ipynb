{
 "cells": [
  {
   "cell_type": "code",
   "execution_count": null,
   "metadata": {},
   "outputs": [],
   "source": [
    "import pandas as pd"
   ]
  },
  {
   "cell_type": "markdown",
   "metadata": {},
   "source": [
    "# Load in the AVL data\n",
    "\n",
    "### Format DateTime columns, Remove NAN's"
   ]
  },
  {
   "cell_type": "code",
   "execution_count": 4,
   "metadata": {},
   "outputs": [],
   "source": [
    "# I have a theoretical process for doing this programatically, where\n",
    "# I don't need to assume the column names.\n",
    "\n",
    "headers = ['REV', 'REPORT_TIME', 'VEHICLE_TAG', 'LONGITUDE', 'LATITUDE',\n",
    "           'SPEED', 'HEADING', 'TRAIN_ASSIGNMENT', 'PREDICTABLE']\n",
    "\n",
    "avl_df = pd.read_csv('data/avl/sfmtaAVLRawData01032016.csv', skiprows=[0], names=headers,\n",
    "                dtype={2: str, 7: str}, parse_dates=[1])\n",
    "\n",
    "avl_df = avl_df.dropna(axis=0)"
   ]
  },
  {
   "cell_type": "markdown",
   "metadata": {},
   "source": [
    "### Get the date of the data from the first row"
   ]
  },
  {
   "cell_type": "code",
   "execution_count": 5,
   "metadata": {},
   "outputs": [],
   "source": [
    "data_date = avl_df.iloc[0]['REPORT_TIME']"
   ]
  },
  {
   "cell_type": "markdown",
   "metadata": {},
   "source": [
    "### Load in the block and sign reference data"
   ]
  },
  {
   "cell_type": "code",
   "execution_count": 26,
   "metadata": {},
   "outputs": [],
   "source": [
    "blockref_df = pd.read_csv('data/lookUpBlockIDToBlockNumNam.csv')\n",
    "signref_df = pd.read_csv('data/lookUpSignUpPeriods.csv', parse_dates=[2,3])"
   ]
  },
  {
   "cell_type": "markdown",
   "metadata": {},
   "source": [
    "### Get the SignID during which our data is valid"
   ]
  },
  {
   "cell_type": "code",
   "execution_count": 27,
   "metadata": {},
   "outputs": [],
   "source": [
    "sign_id = signref_df[(signref_df['FROMDATE'] < data_date) & (signref_df['TODATE'] > data_date)]['SIGNID'].values[0]"
   ]
  },
  {
   "cell_type": "markdown",
   "metadata": {},
   "source": [
    "### Get the block which occur during the SignID"
   ]
  },
  {
   "cell_type": "code",
   "execution_count": 28,
   "metadata": {},
   "outputs": [],
   "source": [
    "date_blocks = blockref_df[blockref_df['SIGNID'] == sign_id]"
   ]
  },
  {
   "cell_type": "code",
   "execution_count": 39,
   "metadata": {},
   "outputs": [
    {
     "data": {
      "text/html": [
       "<div>\n",
       "<style scoped>\n",
       "    .dataframe tbody tr th:only-of-type {\n",
       "        vertical-align: middle;\n",
       "    }\n",
       "\n",
       "    .dataframe tbody tr th {\n",
       "        vertical-align: top;\n",
       "    }\n",
       "\n",
       "    .dataframe thead th {\n",
       "        text-align: right;\n",
       "    }\n",
       "</style>\n",
       "<table border=\"1\" class=\"dataframe\">\n",
       "  <thead>\n",
       "    <tr style=\"text-align: right;\">\n",
       "      <th></th>\n",
       "      <th>SIGNID</th>\n",
       "      <th>BLOCKID</th>\n",
       "      <th>BLOCKNUM</th>\n",
       "      <th>BLOCKNAME</th>\n",
       "    </tr>\n",
       "  </thead>\n",
       "  <tbody>\n",
       "    <tr>\n",
       "      <th>11</th>\n",
       "      <td>100</td>\n",
       "      <td>511037</td>\n",
       "      <td>6009</td>\n",
       "      <td>6009</td>\n",
       "    </tr>\n",
       "    <tr>\n",
       "      <th>12</th>\n",
       "      <td>100</td>\n",
       "      <td>517357</td>\n",
       "      <td>9302</td>\n",
       "      <td>9302</td>\n",
       "    </tr>\n",
       "    <tr>\n",
       "      <th>13</th>\n",
       "      <td>100</td>\n",
       "      <td>517361</td>\n",
       "      <td>9306</td>\n",
       "      <td>9306</td>\n",
       "    </tr>\n",
       "    <tr>\n",
       "      <th>14</th>\n",
       "      <td>100</td>\n",
       "      <td>532326</td>\n",
       "      <td>9401</td>\n",
       "      <td>9401</td>\n",
       "    </tr>\n",
       "    <tr>\n",
       "      <th>15</th>\n",
       "      <td>100</td>\n",
       "      <td>532330</td>\n",
       "      <td>9409</td>\n",
       "      <td>9409</td>\n",
       "    </tr>\n",
       "  </tbody>\n",
       "</table>\n",
       "</div>"
      ],
      "text/plain": [
       "    SIGNID  BLOCKID  BLOCKNUM BLOCKNAME\n",
       "11     100   511037      6009      6009\n",
       "12     100   517357      9302      9302\n",
       "13     100   517361      9306      9306\n",
       "14     100   532326      9401      9401\n",
       "15     100   532330      9409      9409"
      ]
     },
     "execution_count": 39,
     "metadata": {},
     "output_type": "execute_result"
    }
   ],
   "source": [
    "date_blocks.head()"
   ]
  },
  {
   "cell_type": "markdown",
   "metadata": {},
   "source": [
    "# Load in the GTFS data\n",
    "\n",
    "### Load in the Routes"
   ]
  },
  {
   "cell_type": "code",
   "execution_count": 32,
   "metadata": {},
   "outputs": [],
   "source": [
    "routes = pd.read_csv('data/gtfs/sfmta_2015-11-01/routes.txt')"
   ]
  },
  {
   "cell_type": "markdown",
   "metadata": {},
   "source": [
    "### Load in the Trips"
   ]
  },
  {
   "cell_type": "code",
   "execution_count": 33,
   "metadata": {
    "scrolled": false
   },
   "outputs": [],
   "source": [
    "trips = pd.read_csv('data/gtfs/sfmta_2015-11-01/trips.txt')"
   ]
  },
  {
   "cell_type": "markdown",
   "metadata": {},
   "source": [
    "### Get the Route ID for the 33 Bus"
   ]
  },
  {
   "cell_type": "code",
   "execution_count": 34,
   "metadata": {},
   "outputs": [],
   "source": [
    "route_33_id = routes[routes['route_short_name'] == '33']['route_id'].values[0]"
   ]
  },
  {
   "cell_type": "markdown",
   "metadata": {},
   "source": [
    "### Get all 33 trips, going in the same direction"
   ]
  },
  {
   "cell_type": "code",
   "execution_count": 36,
   "metadata": {},
   "outputs": [],
   "source": [
    "trips_33_dir0 = trips[(trips['route_id'] == route_33_id) & (trips['direction_id'] == 0)]"
   ]
  },
  {
   "cell_type": "markdown",
   "metadata": {},
   "source": [
    "### Get all the 33 trip block_id's"
   ]
  },
  {
   "cell_type": "code",
   "execution_count": 38,
   "metadata": {},
   "outputs": [],
   "source": [
    "trip33_blocks = trips_33_dir0['block_id'].unique()"
   ]
  },
  {
   "cell_type": "markdown",
   "metadata": {},
   "source": [
    "# Match trip block_id's to the Date-constrained BlockRef Blocks"
   ]
  },
  {
   "cell_type": "code",
   "execution_count": 40,
   "metadata": {},
   "outputs": [],
   "source": [
    "dateblock_33 = date_blocks[date_blocks['BLOCKNUM'].isin(trip33_blocks)]"
   ]
  },
  {
   "cell_type": "markdown",
   "metadata": {},
   "source": [
    "### Get all the BlockNames"
   ]
  },
  {
   "cell_type": "code",
   "execution_count": 46,
   "metadata": {},
   "outputs": [],
   "source": [
    "dateblock33_names = dateblock_33['BLOCKNAME'].values"
   ]
  },
  {
   "cell_type": "markdown",
   "metadata": {},
   "source": [
    "# Filter AVL Data based on BlockNames"
   ]
  },
  {
   "cell_type": "code",
   "execution_count": 47,
   "metadata": {},
   "outputs": [],
   "source": [
    "avl_33dir_df = avl_df[avl_df['TRAIN_ASSIGNMENT'].isin(dateblock33_names)]"
   ]
  },
  {
   "cell_type": "code",
   "execution_count": 50,
   "metadata": {},
   "outputs": [
    {
     "data": {
      "text/html": [
       "<div>\n",
       "<style scoped>\n",
       "    .dataframe tbody tr th:only-of-type {\n",
       "        vertical-align: middle;\n",
       "    }\n",
       "\n",
       "    .dataframe tbody tr th {\n",
       "        vertical-align: top;\n",
       "    }\n",
       "\n",
       "    .dataframe thead th {\n",
       "        text-align: right;\n",
       "    }\n",
       "</style>\n",
       "<table border=\"1\" class=\"dataframe\">\n",
       "  <thead>\n",
       "    <tr style=\"text-align: right;\">\n",
       "      <th></th>\n",
       "      <th>REV</th>\n",
       "      <th>REPORT_TIME</th>\n",
       "      <th>VEHICLE_TAG</th>\n",
       "      <th>LONGITUDE</th>\n",
       "      <th>LATITUDE</th>\n",
       "      <th>SPEED</th>\n",
       "      <th>HEADING</th>\n",
       "      <th>TRAIN_ASSIGNMENT</th>\n",
       "      <th>PREDICTABLE</th>\n",
       "    </tr>\n",
       "  </thead>\n",
       "  <tbody>\n",
       "    <tr>\n",
       "      <th>157426</th>\n",
       "      <td>1506</td>\n",
       "      <td>2016-01-03 09:47:39</td>\n",
       "      <td>5412</td>\n",
       "      <td>-122.43882</td>\n",
       "      <td>37.76066</td>\n",
       "      <td>7.500</td>\n",
       "      <td>267.0</td>\n",
       "      <td>3305</td>\n",
       "      <td>1</td>\n",
       "    </tr>\n",
       "    <tr>\n",
       "      <th>157427</th>\n",
       "      <td>1506</td>\n",
       "      <td>2016-01-03 09:50:15</td>\n",
       "      <td>5412</td>\n",
       "      <td>-122.44467</td>\n",
       "      <td>37.75970</td>\n",
       "      <td>3.889</td>\n",
       "      <td>243.0</td>\n",
       "      <td>3305</td>\n",
       "      <td>1</td>\n",
       "    </tr>\n",
       "    <tr>\n",
       "      <th>157428</th>\n",
       "      <td>1506</td>\n",
       "      <td>2016-01-03 09:53:15</td>\n",
       "      <td>5412</td>\n",
       "      <td>-122.44671</td>\n",
       "      <td>37.76167</td>\n",
       "      <td>0.000</td>\n",
       "      <td>355.0</td>\n",
       "      <td>3305</td>\n",
       "      <td>1</td>\n",
       "    </tr>\n",
       "    <tr>\n",
       "      <th>157429</th>\n",
       "      <td>1506</td>\n",
       "      <td>2016-01-03 09:53:36</td>\n",
       "      <td>5412</td>\n",
       "      <td>-122.44693</td>\n",
       "      <td>37.76227</td>\n",
       "      <td>6.667</td>\n",
       "      <td>351.0</td>\n",
       "      <td>3305</td>\n",
       "      <td>1</td>\n",
       "    </tr>\n",
       "    <tr>\n",
       "      <th>157430</th>\n",
       "      <td>1506</td>\n",
       "      <td>2016-01-03 09:55:21</td>\n",
       "      <td>5412</td>\n",
       "      <td>-122.44644</td>\n",
       "      <td>37.76736</td>\n",
       "      <td>2.500</td>\n",
       "      <td>347.0</td>\n",
       "      <td>3305</td>\n",
       "      <td>1</td>\n",
       "    </tr>\n",
       "  </tbody>\n",
       "</table>\n",
       "</div>"
      ],
      "text/plain": [
       "         REV         REPORT_TIME VEHICLE_TAG  LONGITUDE  LATITUDE  SPEED  \\\n",
       "157426  1506 2016-01-03 09:47:39        5412 -122.43882  37.76066  7.500   \n",
       "157427  1506 2016-01-03 09:50:15        5412 -122.44467  37.75970  3.889   \n",
       "157428  1506 2016-01-03 09:53:15        5412 -122.44671  37.76167  0.000   \n",
       "157429  1506 2016-01-03 09:53:36        5412 -122.44693  37.76227  6.667   \n",
       "157430  1506 2016-01-03 09:55:21        5412 -122.44644  37.76736  2.500   \n",
       "\n",
       "        HEADING TRAIN_ASSIGNMENT  PREDICTABLE  \n",
       "157426    267.0             3305            1  \n",
       "157427    243.0             3305            1  \n",
       "157428    355.0             3305            1  \n",
       "157429    351.0             3305            1  \n",
       "157430    347.0             3305            1  "
      ]
     },
     "execution_count": 50,
     "metadata": {},
     "output_type": "execute_result"
    }
   ],
   "source": [
    "avl_33dir_df.head()"
   ]
  },
  {
   "cell_type": "code",
   "execution_count": null,
   "metadata": {},
   "outputs": [],
   "source": []
  }
 ],
 "metadata": {
  "kernelspec": {
   "display_name": "Python 3",
   "language": "python",
   "name": "python3"
  },
  "language_info": {
   "codemirror_mode": {
    "name": "ipython",
    "version": 3
   },
   "file_extension": ".py",
   "mimetype": "text/x-python",
   "name": "python",
   "nbconvert_exporter": "python",
   "pygments_lexer": "ipython3",
   "version": "3.6.5"
  }
 },
 "nbformat": 4,
 "nbformat_minor": 2
}
