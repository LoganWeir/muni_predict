{
 "cells": [
  {
   "cell_type": "code",
   "execution_count": 21,
   "metadata": {},
   "outputs": [
    {
     "name": "stderr",
     "output_type": "stream",
     "text": [
      "/anaconda3/lib/python3.6/site-packages/statsmodels/compat/pandas.py:56: FutureWarning: The pandas.core.datetools module is deprecated and will be removed in a future version. Please use the pandas.tseries module instead.\n",
      "  from pandas.core import datetools\n"
     ]
    }
   ],
   "source": [
    "from datetime import datetime\n",
    "import pandas as pd\n",
    "from geopy.distance import distance\n",
    "import numpy as np\n",
    "import random\n",
    "import json\n",
    "\n",
    "import pymongo\n",
    "from pymongo import MongoClient\n",
    "\n",
    "from sklearn.model_selection import train_test_split\n",
    "from sklearn.linear_model import RidgeCV\n",
    "from sklearn.ensemble import RandomForestRegressor\n",
    "from sklearn.preprocessing import StandardScaler\n",
    "from sklearn.model_selection import cross_validate\n",
    "from sklearn.metrics import mean_squared_error\n",
    "from sklearn.metrics import r2_score\n",
    "\n",
    "import statsmodels.api as sm\n",
    "\n",
    "import pymongo\n",
    "from pymongo import MongoClient\n",
    "\n",
    "import matplotlib.pyplot as plt\n",
    "\n",
    "plt.style.use(\"ggplot\")\n",
    "\n",
    "%matplotlib inline"
   ]
  },
  {
   "cell_type": "code",
   "execution_count": 8,
   "metadata": {},
   "outputs": [],
   "source": [
    "# Load in our parameters file\n",
    "with open('../parameters.json') as f:\n",
    "    params = json.load(f)\n",
    "\n",
    "# Get relevant parameters\n",
    "database = params['database']\n",
    "# labeled_collection = params['labeled_collection']\n",
    "# chunk_collection = params['chunk_collection']\n",
    "# duration_collection = params['duration_collection']\n",
    "# two_chunk_collection = params['two_chunk_collection']\n",
    "six_chunk_collection = params['six_chunk_collection']\n",
    "\n",
    "# Connect to our database/collection\n",
    "client = MongoClient('localhost', 27017)\n",
    "db = client[database]\n",
    "# trip_coll = db[labeled_collection]\n",
    "# chunk_coll = db[chunk_collection]\n",
    "# duration_coll = db[duration_collection]\n",
    "# two_chunk_coll = db[two_chunk_collection]\n",
    "six_chunk_coll = db[six_chunk_collection]"
   ]
  },
  {
   "cell_type": "code",
   "execution_count": 9,
   "metadata": {},
   "outputs": [
    {
     "data": {
      "text/plain": [
       "{'_id': ObjectId('5af10f573ad39ed891accff2'),\n",
       " 'seconds_chnk_1': 416.0,\n",
       " 'mfn_sq_chnk_1': 481636,\n",
       " 'avg_speed_chnk_1': 5.7828181818181825,\n",
       " 'seconds_chnk_2': 350.0,\n",
       " 'mfn_sq_chnk_2': 470596,\n",
       " 'avg_speed_chnk_2': 5.208333333333333,\n",
       " 'seconds_chnk_3': 440.0,\n",
       " 'mfn_sq_chnk_3': 462400,\n",
       " 'avg_speed_chnk_3': 5.694499999999999,\n",
       " 'seconds_chnk_4': 270.0,\n",
       " 'mfn_sq_chnk_4': 452929,\n",
       " 'avg_speed_chnk_4': 4.722200000000001,\n",
       " 'seconds_chnk_5': 243.0,\n",
       " 'mfn_sq_chnk_5': 446224,\n",
       " 'avg_speed_chnk_5': 5.158857142857142,\n",
       " 'seconds_chnk_6': 481.0,\n",
       " 'mfn_sq_chnk_6': 440896,\n",
       " 'avg_speed_chnk_6': 5.3473125}"
      ]
     },
     "execution_count": 9,
     "metadata": {},
     "output_type": "execute_result"
    }
   ],
   "source": [
    "six_chunk_coll.find_one()"
   ]
  },
  {
   "cell_type": "code",
   "execution_count": 12,
   "metadata": {},
   "outputs": [
    {
     "data": {
      "text/html": [
       "<div>\n",
       "<style scoped>\n",
       "    .dataframe tbody tr th:only-of-type {\n",
       "        vertical-align: middle;\n",
       "    }\n",
       "\n",
       "    .dataframe tbody tr th {\n",
       "        vertical-align: top;\n",
       "    }\n",
       "\n",
       "    .dataframe thead th {\n",
       "        text-align: right;\n",
       "    }\n",
       "</style>\n",
       "<table border=\"1\" class=\"dataframe\">\n",
       "  <thead>\n",
       "    <tr style=\"text-align: right;\">\n",
       "      <th></th>\n",
       "      <th>avg_speed_chnk_1</th>\n",
       "      <th>avg_speed_chnk_2</th>\n",
       "      <th>avg_speed_chnk_3</th>\n",
       "      <th>avg_speed_chnk_4</th>\n",
       "      <th>avg_speed_chnk_5</th>\n",
       "      <th>avg_speed_chnk_6</th>\n",
       "      <th>mfn_sq_chnk_1</th>\n",
       "      <th>mfn_sq_chnk_2</th>\n",
       "      <th>mfn_sq_chnk_3</th>\n",
       "      <th>mfn_sq_chnk_4</th>\n",
       "      <th>mfn_sq_chnk_5</th>\n",
       "      <th>mfn_sq_chnk_6</th>\n",
       "      <th>seconds_chnk_1</th>\n",
       "      <th>seconds_chnk_2</th>\n",
       "      <th>seconds_chnk_3</th>\n",
       "      <th>seconds_chnk_4</th>\n",
       "      <th>seconds_chnk_5</th>\n",
       "      <th>seconds_chnk_6</th>\n",
       "    </tr>\n",
       "  </thead>\n",
       "  <tbody>\n",
       "    <tr>\n",
       "      <th>0</th>\n",
       "      <td>5.782818</td>\n",
       "      <td>5.208333</td>\n",
       "      <td>5.694500</td>\n",
       "      <td>4.722200</td>\n",
       "      <td>5.158857</td>\n",
       "      <td>5.347313</td>\n",
       "      <td>481636</td>\n",
       "      <td>470596</td>\n",
       "      <td>462400</td>\n",
       "      <td>452929</td>\n",
       "      <td>446224</td>\n",
       "      <td>440896</td>\n",
       "      <td>416.0</td>\n",
       "      <td>350.0</td>\n",
       "      <td>440.0</td>\n",
       "      <td>270.0</td>\n",
       "      <td>243.0</td>\n",
       "      <td>481.0</td>\n",
       "    </tr>\n",
       "    <tr>\n",
       "      <th>1</th>\n",
       "      <td>4.974773</td>\n",
       "      <td>5.540111</td>\n",
       "      <td>4.678316</td>\n",
       "      <td>4.907333</td>\n",
       "      <td>4.120083</td>\n",
       "      <td>5.711080</td>\n",
       "      <td>12321</td>\n",
       "      <td>10609</td>\n",
       "      <td>9025</td>\n",
       "      <td>7396</td>\n",
       "      <td>6400</td>\n",
       "      <td>5184</td>\n",
       "      <td>450.0</td>\n",
       "      <td>424.0</td>\n",
       "      <td>480.0</td>\n",
       "      <td>352.0</td>\n",
       "      <td>410.0</td>\n",
       "      <td>576.0</td>\n",
       "    </tr>\n",
       "    <tr>\n",
       "      <th>2</th>\n",
       "      <td>5.145619</td>\n",
       "      <td>4.204591</td>\n",
       "      <td>5.277826</td>\n",
       "      <td>4.314800</td>\n",
       "      <td>2.800833</td>\n",
       "      <td>3.485710</td>\n",
       "      <td>729</td>\n",
       "      <td>1296</td>\n",
       "      <td>2025</td>\n",
       "      <td>2916</td>\n",
       "      <td>3721</td>\n",
       "      <td>4489</td>\n",
       "      <td>508.0</td>\n",
       "      <td>536.0</td>\n",
       "      <td>454.0</td>\n",
       "      <td>398.0</td>\n",
       "      <td>346.0</td>\n",
       "      <td>1020.0</td>\n",
       "    </tr>\n",
       "    <tr>\n",
       "      <th>3</th>\n",
       "      <td>6.510500</td>\n",
       "      <td>3.465524</td>\n",
       "      <td>4.514000</td>\n",
       "      <td>2.896810</td>\n",
       "      <td>2.648200</td>\n",
       "      <td>5.785130</td>\n",
       "      <td>28900</td>\n",
       "      <td>31684</td>\n",
       "      <td>35721</td>\n",
       "      <td>39204</td>\n",
       "      <td>43264</td>\n",
       "      <td>46225</td>\n",
       "      <td>464.0</td>\n",
       "      <td>640.0</td>\n",
       "      <td>540.0</td>\n",
       "      <td>524.0</td>\n",
       "      <td>404.0</td>\n",
       "      <td>540.0</td>\n",
       "    </tr>\n",
       "    <tr>\n",
       "      <th>4</th>\n",
       "      <td>4.621318</td>\n",
       "      <td>4.507500</td>\n",
       "      <td>4.638850</td>\n",
       "      <td>2.806895</td>\n",
       "      <td>2.991462</td>\n",
       "      <td>5.611150</td>\n",
       "      <td>96100</td>\n",
       "      <td>102400</td>\n",
       "      <td>108900</td>\n",
       "      <td>114244</td>\n",
       "      <td>121104</td>\n",
       "      <td>125316</td>\n",
       "      <td>568.0</td>\n",
       "      <td>598.0</td>\n",
       "      <td>468.0</td>\n",
       "      <td>544.0</td>\n",
       "      <td>350.0</td>\n",
       "      <td>596.0</td>\n",
       "    </tr>\n",
       "  </tbody>\n",
       "</table>\n",
       "</div>"
      ],
      "text/plain": [
       "   avg_speed_chnk_1  avg_speed_chnk_2  avg_speed_chnk_3  avg_speed_chnk_4  \\\n",
       "0          5.782818          5.208333          5.694500          4.722200   \n",
       "1          4.974773          5.540111          4.678316          4.907333   \n",
       "2          5.145619          4.204591          5.277826          4.314800   \n",
       "3          6.510500          3.465524          4.514000          2.896810   \n",
       "4          4.621318          4.507500          4.638850          2.806895   \n",
       "\n",
       "   avg_speed_chnk_5  avg_speed_chnk_6  mfn_sq_chnk_1  mfn_sq_chnk_2  \\\n",
       "0          5.158857          5.347313         481636         470596   \n",
       "1          4.120083          5.711080          12321          10609   \n",
       "2          2.800833          3.485710            729           1296   \n",
       "3          2.648200          5.785130          28900          31684   \n",
       "4          2.991462          5.611150          96100         102400   \n",
       "\n",
       "   mfn_sq_chnk_3  mfn_sq_chnk_4  mfn_sq_chnk_5  mfn_sq_chnk_6  seconds_chnk_1  \\\n",
       "0         462400         452929         446224         440896           416.0   \n",
       "1           9025           7396           6400           5184           450.0   \n",
       "2           2025           2916           3721           4489           508.0   \n",
       "3          35721          39204          43264          46225           464.0   \n",
       "4         108900         114244         121104         125316           568.0   \n",
       "\n",
       "   seconds_chnk_2  seconds_chnk_3  seconds_chnk_4  seconds_chnk_5  \\\n",
       "0           350.0           440.0           270.0           243.0   \n",
       "1           424.0           480.0           352.0           410.0   \n",
       "2           536.0           454.0           398.0           346.0   \n",
       "3           640.0           540.0           524.0           404.0   \n",
       "4           598.0           468.0           544.0           350.0   \n",
       "\n",
       "   seconds_chnk_6  \n",
       "0           481.0  \n",
       "1           576.0  \n",
       "2          1020.0  \n",
       "3           540.0  \n",
       "4           596.0  "
      ]
     },
     "execution_count": 12,
     "metadata": {},
     "output_type": "execute_result"
    }
   ],
   "source": [
    "chunk_df = pd.DataFrame(list(six_chunk_coll.find({},{'_id':0})))\n",
    "\n",
    "chunk_df.head()"
   ]
  },
  {
   "cell_type": "code",
   "execution_count": 15,
   "metadata": {},
   "outputs": [],
   "source": [
    "y = chunk_df['seconds_chnk_3'].values\n",
    "y = y.reshape(-1,1)\n",
    "\n",
    "X = chunk_df[['seconds_chnk_2', 'mfn_sq_chnk_2']].values"
   ]
  },
  {
   "cell_type": "code",
   "execution_count": 16,
   "metadata": {},
   "outputs": [
    {
     "name": "stdout",
     "output_type": "stream",
     "text": [
      "R-squared:  0.14\n",
      "RMSE:  66.54\n"
     ]
    }
   ],
   "source": [
    "scaler = StandardScaler()\n",
    "X_norm = scaler.fit_transform(X)\n",
    "scaler_y = StandardScaler()\n",
    "y_norm = scaler_y.fit_transform(y)\n",
    "\n",
    "X_train, X_test, y_train, y_test = train_test_split(X_norm, y_norm)\n",
    "\n",
    "# Build our model\n",
    "ridge_cv = RidgeCV(alphas=[5,10,20,30], cv=20)\n",
    "ridge_cv.fit(X_train, y_train)\n",
    "\n",
    "#Score our model, R-Squared\n",
    "r_squared = ridge_cv.score(X_test, y_test)\n",
    "\n",
    "#Score our model, Root Mean Squared Error\n",
    "y_predict = ridge_cv.predict(X_test)\n",
    "rmse_norm = (mean_squared_error(y_test, y_predict))**.5\n",
    "rmse_dev = scaler_y.inverse_transform([rmse_norm])\n",
    "diff = rmse_dev[0] - scaler_y.mean_[0]\n",
    "\n",
    "print (\"R-squared: \", \"{0:.2f}\".format(r_squared))\n",
    "print ('RMSE: ', \"{0:.2f}\".format(diff))"
   ]
  },
  {
   "cell_type": "code",
   "execution_count": 17,
   "metadata": {},
   "outputs": [
    {
     "data": {
      "text/plain": [
       "447.0887605042017"
      ]
     },
     "execution_count": 17,
     "metadata": {},
     "output_type": "execute_result"
    }
   ],
   "source": [
    "chunk_df['seconds_chnk_3'].mean()"
   ]
  },
  {
   "cell_type": "code",
   "execution_count": 20,
   "metadata": {},
   "outputs": [
    {
     "name": "stdout",
     "output_type": "stream",
     "text": [
      "R-squared:  -0.84\n",
      "RMSE:  67.59\n"
     ]
    }
   ],
   "source": [
    "regr = RandomForestRegressor(n_estimators=50, max_depth=2)\n",
    "\n",
    "crossed = cross_validate(regr, X_train, y_train.flatten(), cv=20, \n",
    "                         scoring=['neg_mean_squared_error','r2'], return_train_score=False)\n",
    "\n",
    "r_squared = crossed['test_neg_mean_squared_error'].mean()\n",
    "\n",
    "#Score our model, Root Mean Squared Error\n",
    "rmse_norm = (abs(crossed['test_neg_mean_squared_error'].mean()))**.5\n",
    "rmse_dev = scaler_y.inverse_transform([rmse_norm])\n",
    "diff = rmse_dev[0] - scaler_y.mean_[0]\n",
    "\n",
    "print (\"R-squared: \", \"{0:.2f}\".format(r_squared))\n",
    "print ('RMSE: ', \"{0:.2f}\".format(diff))"
   ]
  },
  {
   "cell_type": "code",
   "execution_count": 24,
   "metadata": {},
   "outputs": [
    {
     "name": "stderr",
     "output_type": "stream",
     "text": [
      "/anaconda3/lib/python3.6/site-packages/ipykernel_launcher.py:1: DataConversionWarning: A column-vector y was passed when a 1d array was expected. Please change the shape of y to (n_samples,), for example using ravel().\n",
      "  \"\"\"Entry point for launching an IPython kernel.\n"
     ]
    },
    {
     "data": {
      "text/plain": [
       "array([0.38841085, 0.61158915])"
      ]
     },
     "execution_count": 24,
     "metadata": {},
     "output_type": "execute_result"
    }
   ],
   "source": [
    "regr.fit(X_train, y_train)\n",
    "\n",
    "regr.feature_importances_"
   ]
  },
  {
   "cell_type": "code",
   "execution_count": 22,
   "metadata": {},
   "outputs": [
    {
     "data": {
      "text/html": [
       "<table class=\"simpletable\">\n",
       "<caption>OLS Regression Results</caption>\n",
       "<tr>\n",
       "  <th>Dep. Variable:</th>            <td>y</td>        <th>  R-squared:         </th> <td>   0.147</td>\n",
       "</tr>\n",
       "<tr>\n",
       "  <th>Model:</th>                   <td>OLS</td>       <th>  Adj. R-squared:    </th> <td>   0.146</td>\n",
       "</tr>\n",
       "<tr>\n",
       "  <th>Method:</th>             <td>Least Squares</td>  <th>  F-statistic:       </th> <td>   122.7</td>\n",
       "</tr>\n",
       "<tr>\n",
       "  <th>Date:</th>             <td>Tue, 08 May 2018</td> <th>  Prob (F-statistic):</th> <td>6.87e-50</td>\n",
       "</tr>\n",
       "<tr>\n",
       "  <th>Time:</th>                 <td>09:01:35</td>     <th>  Log-Likelihood:    </th> <td> -1928.8</td>\n",
       "</tr>\n",
       "<tr>\n",
       "  <th>No. Observations:</th>      <td>  1428</td>      <th>  AIC:               </th> <td>   3862.</td>\n",
       "</tr>\n",
       "<tr>\n",
       "  <th>Df Residuals:</th>          <td>  1426</td>      <th>  BIC:               </th> <td>   3872.</td>\n",
       "</tr>\n",
       "<tr>\n",
       "  <th>Df Model:</th>              <td>     2</td>      <th>                     </th>     <td> </td>   \n",
       "</tr>\n",
       "<tr>\n",
       "  <th>Covariance Type:</th>      <td>nonrobust</td>    <th>                     </th>     <td> </td>   \n",
       "</tr>\n",
       "</table>\n",
       "<table class=\"simpletable\">\n",
       "<tr>\n",
       "   <td></td>     <th>coef</th>     <th>std err</th>      <th>t</th>      <th>P>|t|</th>  <th>[0.025</th>    <th>0.975]</th>  \n",
       "</tr>\n",
       "<tr>\n",
       "  <th>x1</th> <td>    0.2972</td> <td>    0.027</td> <td>   10.843</td> <td> 0.000</td> <td>    0.243</td> <td>    0.351</td>\n",
       "</tr>\n",
       "<tr>\n",
       "  <th>x2</th> <td>   -0.1709</td> <td>    0.027</td> <td>   -6.340</td> <td> 0.000</td> <td>   -0.224</td> <td>   -0.118</td>\n",
       "</tr>\n",
       "</table>\n",
       "<table class=\"simpletable\">\n",
       "<tr>\n",
       "  <th>Omnibus:</th>       <td>644.044</td> <th>  Durbin-Watson:     </th> <td>   1.959</td> \n",
       "</tr>\n",
       "<tr>\n",
       "  <th>Prob(Omnibus):</th> <td> 0.000</td>  <th>  Jarque-Bera (JB):  </th> <td>12621.654</td>\n",
       "</tr>\n",
       "<tr>\n",
       "  <th>Skew:</th>          <td> 1.613</td>  <th>  Prob(JB):          </th> <td>    0.00</td> \n",
       "</tr>\n",
       "<tr>\n",
       "  <th>Kurtosis:</th>      <td>17.203</td>  <th>  Cond. No.          </th> <td>    1.49</td> \n",
       "</tr>\n",
       "</table>"
      ],
      "text/plain": [
       "<class 'statsmodels.iolib.summary.Summary'>\n",
       "\"\"\"\n",
       "                            OLS Regression Results                            \n",
       "==============================================================================\n",
       "Dep. Variable:                      y   R-squared:                       0.147\n",
       "Model:                            OLS   Adj. R-squared:                  0.146\n",
       "Method:                 Least Squares   F-statistic:                     122.7\n",
       "Date:                Tue, 08 May 2018   Prob (F-statistic):           6.87e-50\n",
       "Time:                        09:01:35   Log-Likelihood:                -1928.8\n",
       "No. Observations:                1428   AIC:                             3862.\n",
       "Df Residuals:                    1426   BIC:                             3872.\n",
       "Df Model:                           2                                         \n",
       "Covariance Type:            nonrobust                                         \n",
       "==============================================================================\n",
       "                 coef    std err          t      P>|t|      [0.025      0.975]\n",
       "------------------------------------------------------------------------------\n",
       "x1             0.2972      0.027     10.843      0.000       0.243       0.351\n",
       "x2            -0.1709      0.027     -6.340      0.000      -0.224      -0.118\n",
       "==============================================================================\n",
       "Omnibus:                      644.044   Durbin-Watson:                   1.959\n",
       "Prob(Omnibus):                  0.000   Jarque-Bera (JB):            12621.654\n",
       "Skew:                           1.613   Prob(JB):                         0.00\n",
       "Kurtosis:                      17.203   Cond. No.                         1.49\n",
       "==============================================================================\n",
       "\n",
       "Warnings:\n",
       "[1] Standard Errors assume that the covariance matrix of the errors is correctly specified.\n",
       "\"\"\""
      ]
     },
     "execution_count": 22,
     "metadata": {},
     "output_type": "execute_result"
    }
   ],
   "source": [
    "# fit with statsmodels\n",
    "model1 = sm.OLS(y_train,X_train)\n",
    "results = model1.fit()\n",
    "results.summary()"
   ]
  },
  {
   "cell_type": "code",
   "execution_count": 28,
   "metadata": {},
   "outputs": [],
   "source": [
    "mask = (chunk_df['seconds_chnk_2'] < 1000) & (chunk_df['seconds_chnk_3'] < 1000)\n",
    "trimed_chnk_df = chunk_df[mask]"
   ]
  },
  {
   "cell_type": "code",
   "execution_count": 33,
   "metadata": {},
   "outputs": [
    {
     "data": {
      "image/png": "[encoded data removed]",
      "text/plain": [
       "<Figure size 576x432 with 1 Axes>"
      ]
     },
     "metadata": {},
     "output_type": "display_data"
    }
   ],
   "source": [
    "x = trimed_chnk_df['seconds_chnk_2'].values\n",
    "y = trimed_chnk_df['seconds_chnk_3'].values\n",
    "fig, ax = plt.subplots(figsize=(8, 6))\n",
    "ax.scatter(x, y)\n",
    "ax.set_xlabel(\"Chunk 2 of 6 Duration\")\n",
    "ax.set_ylabel(\"Chunk 3 of 6 Duration\")\n",
    "plt.savefig('chunk_6_prior.jpg');"
   ]
  },
  {
   "cell_type": "code",
   "execution_count": null,
   "metadata": {},
   "outputs": [],
   "source": []
  },
  {
   "cell_type": "code",
   "execution_count": null,
   "metadata": {},
   "outputs": [],
   "source": []
  },
  {
   "cell_type": "code",
   "execution_count": null,
   "metadata": {},
   "outputs": [],
   "source": []
  },
  {
   "cell_type": "code",
   "execution_count": null,
   "metadata": {},
   "outputs": [],
   "source": []
  },
  {
   "cell_type": "code",
   "execution_count": null,
   "metadata": {},
   "outputs": [],
   "source": []
  },
  {
   "cell_type": "code",
   "execution_count": null,
   "metadata": {},
   "outputs": [],
   "source": []
  },
  {
   "cell_type": "code",
   "execution_count": null,
   "metadata": {},
   "outputs": [],
   "source": []
  },
  {
   "cell_type": "code",
   "execution_count": 30,
   "metadata": {},
   "outputs": [],
   "source": [
    "six_cnk_info = chnk_coll.find_one({'number_chunks':6})"
   ]
  },
  {
   "cell_type": "code",
   "execution_count": 11,
   "metadata": {},
   "outputs": [],
   "source": [
    "all_trips = trip_coll.distinct('trip_id_iso')\n",
    "# # Testing\n",
    "# all_trips = all_trips[33:34]"
   ]
  },
  {
   "cell_type": "code",
   "execution_count": 5,
   "metadata": {
    "collapsed": true
   },
   "outputs": [
    {
     "ename": "NameError",
     "evalue": "name 'all_trips' is not defined",
     "output_type": "error",
     "traceback": [
      "\u001b[0;31m---------------------------------------------------------------------------\u001b[0m",
      "\u001b[0;31mNameError\u001b[0m                                 Traceback (most recent call last)",
      "\u001b[0;32m<ipython-input-5-69a97410560b>\u001b[0m in \u001b[0;36m<module>\u001b[0;34m()\u001b[0m\n\u001b[1;32m      1\u001b[0m \u001b[0mtrip_list\u001b[0m \u001b[0;34m=\u001b[0m \u001b[0;34m[\u001b[0m\u001b[0;34m]\u001b[0m\u001b[0;34m\u001b[0m\u001b[0m\n\u001b[1;32m      2\u001b[0m \u001b[0;34m\u001b[0m\u001b[0m\n\u001b[0;32m----> 3\u001b[0;31m \u001b[0;32mfor\u001b[0m \u001b[0midx\u001b[0m\u001b[0;34m,\u001b[0m \u001b[0mtrip\u001b[0m \u001b[0;32min\u001b[0m \u001b[0menumerate\u001b[0m\u001b[0;34m(\u001b[0m\u001b[0mall_trips\u001b[0m\u001b[0;34m)\u001b[0m\u001b[0;34m:\u001b[0m\u001b[0;34m\u001b[0m\u001b[0m\n\u001b[0m\u001b[1;32m      4\u001b[0m \u001b[0;34m\u001b[0m\u001b[0m\n\u001b[1;32m      5\u001b[0m     \u001b[0mprint\u001b[0m \u001b[0;34m(\u001b[0m\u001b[0;34m\"Getting Two-Chunk data for \"\u001b[0m\u001b[0;34m,\u001b[0m \u001b[0mtrip\u001b[0m\u001b[0;34m)\u001b[0m\u001b[0;34m\u001b[0m\u001b[0m\n",
      "\u001b[0;31mNameError\u001b[0m: name 'all_trips' is not defined"
     ]
    }
   ],
   "source": [
    "trip_list = []\n",
    "\n",
    "for idx, trip in enumerate(all_trips):\n",
    "\n",
    "    print (\"Getting Two-Chunk data for \", trip)\n",
    "    print (\"Number \", idx+1, \" of \", len(all_trips))\n",
    "    \n",
    "    trip_data = {}\n",
    "    \n",
    "    breakin = 0\n",
    "    \n",
    "    for chnk_seq, chnk_data in six_cnk_info['chunks'].items():\n",
    "        \n",
    "        if chnk_seq in ['1','2', '3']:\n",
    "        \n",
    "            search = {\n",
    "                'trip_id_iso': trip,\n",
    "                'chunk_6': chnk_seq\n",
    "            }\n",
    "\n",
    "            chnk_str = '_chnk_' + chnk_seq\n",
    "\n",
    "            chnk_cursor = trip_coll.find(search)\n",
    "            \n",
    "            if chnk_cursor.count() == 0:\n",
    "                continue\n",
    "\n",
    "            chnk_df = pd.DataFrame(list(chnk_cursor))\n",
    "\n",
    "            min_ts = chnk_df['time_stamp'].min()\n",
    "            max_ts = chnk_df['time_stamp'].max()\n",
    "            chnk_secs = max_ts - min_ts\n",
    "            \n",
    "            if chnk_secs > 2500:\n",
    "                breakin += 1\n",
    "                break\n",
    "\n",
    "            trip_data['seconds' + chnk_str ] = chnk_secs\n",
    "\n",
    "            min_dt = datetime.fromtimestamp(min_ts)\n",
    "            mfn_sq = (((min_dt.hour * 60) + min_dt.minute) - 720)**2\n",
    "\n",
    "            mfn_abs = abs(((min_dt.hour * 60) + min_dt.minute) - 720)\n",
    "        \n",
    "            trip_data['mfn_sq' + chnk_str] = mfn_sq\n",
    "            trip_data['mfn_abs' + chnk_str] = mfn_abs\n",
    "            \n",
    "            avg_spd = chnk_df['SPEED'].astype('float').mean()\n",
    "\n",
    "            trip_data['avg_speed' + chnk_str] = avg_spd\n",
    "        \n",
    "    \n",
    "    if breakin == 0:\n",
    "    \n",
    "        trip_list.append(trip_data)"
   ]
  },
  {
   "cell_type": "code",
   "execution_count": 38,
   "metadata": {},
   "outputs": [],
   "source": [
    "chnky_df = pd.DataFrame(trip_list)"
   ]
  },
  {
   "cell_type": "code",
   "execution_count": 52,
   "metadata": {
    "scrolled": true
   },
   "outputs": [],
   "source": [
    "chnky_df = chnky_df.dropna()"
   ]
  },
  {
   "cell_type": "code",
   "execution_count": 54,
   "metadata": {},
   "outputs": [
    {
     "data": {
      "text/plain": [
       "avg_speed_chnk_1             5.212797\n",
       "avg_speed_chnk_2             5.333654\n",
       "avg_speed_chnk_3             5.676692\n",
       "chnk1_mfn_abs_chnk_1       292.667925\n",
       "chnk1_mfn_abs_chnk_2       294.511698\n",
       "chnk1_mfn_abs_chnk_3       296.801509\n",
       "chnk1_mfn_sq_chnk_1     124639.798491\n",
       "chnk1_mfn_sq_chnk_2     126523.470189\n",
       "chnk1_mfn_sq_chnk_3     128583.806792\n",
       "seconds_chnk_1             499.183396\n",
       "seconds_chnk_2             467.242264\n",
       "seconds_chnk_3             443.842264\n",
       "dtype: float64"
      ]
     },
     "execution_count": 54,
     "metadata": {},
     "output_type": "execute_result"
    }
   ],
   "source": [
    "chnky_df.mean()"
   ]
  },
  {
   "cell_type": "code",
   "execution_count": 55,
   "metadata": {},
   "outputs": [],
   "source": [
    "y = chnky_df['seconds_chnk_3'].values\n",
    "y = y.reshape(-1,1)"
   ]
  },
  {
   "cell_type": "code",
   "execution_count": 60,
   "metadata": {},
   "outputs": [],
   "source": [
    "# X = chnky_df[['chnk1_mfn_sq_chnk_1', 'seconds_chnk_1']].values\n",
    "\n",
    "X = chnky_df[['seconds_chnk_2', 'chnk1_mfn_abs_chnk_2']].values\n",
    "# X = X.reshape(-1,1)\n"
   ]
  },
  {
   "cell_type": "code",
   "execution_count": 61,
   "metadata": {},
   "outputs": [],
   "source": [
    "scaler = StandardScaler()\n",
    "X_norm = scaler.fit_transform(X)\n",
    "\n",
    "scaler_y = StandardScaler()\n",
    "y_norm = scaler_y.fit_transform(y)\n",
    "\n",
    "# X_train, X_test, y_train, y_test = train_test_split(X_norm, y_norm)\n",
    "\n",
    "# X_norm = X\n",
    "# y_norm = y\n",
    "\n",
    "X_train, X_test, y_train, y_test = train_test_split(X_norm, y_norm)"
   ]
  },
  {
   "cell_type": "code",
   "execution_count": 62,
   "metadata": {},
   "outputs": [
    {
     "data": {
      "text/html": [
       "<table class=\"simpletable\">\n",
       "<caption>OLS Regression Results</caption>\n",
       "<tr>\n",
       "  <th>Dep. Variable:</th>            <td>y</td>        <th>  R-squared:         </th> <td>   0.095</td>\n",
       "</tr>\n",
       "<tr>\n",
       "  <th>Model:</th>                   <td>OLS</td>       <th>  Adj. R-squared:    </th> <td>   0.094</td>\n",
       "</tr>\n",
       "<tr>\n",
       "  <th>Method:</th>             <td>Least Squares</td>  <th>  F-statistic:       </th> <td>   52.23</td>\n",
       "</tr>\n",
       "<tr>\n",
       "  <th>Date:</th>             <td>Fri, 04 May 2018</td> <th>  Prob (F-statistic):</th> <td>2.72e-22</td>\n",
       "</tr>\n",
       "<tr>\n",
       "  <th>Time:</th>                 <td>13:24:04</td>     <th>  Log-Likelihood:    </th> <td> -1375.8</td>\n",
       "</tr>\n",
       "<tr>\n",
       "  <th>No. Observations:</th>      <td>   993</td>      <th>  AIC:               </th> <td>   2756.</td>\n",
       "</tr>\n",
       "<tr>\n",
       "  <th>Df Residuals:</th>          <td>   991</td>      <th>  BIC:               </th> <td>   2765.</td>\n",
       "</tr>\n",
       "<tr>\n",
       "  <th>Df Model:</th>              <td>     2</td>      <th>                     </th>     <td> </td>   \n",
       "</tr>\n",
       "<tr>\n",
       "  <th>Covariance Type:</th>      <td>nonrobust</td>    <th>                     </th>     <td> </td>   \n",
       "</tr>\n",
       "</table>\n",
       "<table class=\"simpletable\">\n",
       "<tr>\n",
       "   <td></td>     <th>coef</th>     <th>std err</th>      <th>t</th>      <th>P>|t|</th>  <th>[0.025</th>    <th>0.975]</th>  \n",
       "</tr>\n",
       "<tr>\n",
       "  <th>x1</th> <td>    0.2134</td> <td>    0.033</td> <td>    6.533</td> <td> 0.000</td> <td>    0.149</td> <td>    0.277</td>\n",
       "</tr>\n",
       "<tr>\n",
       "  <th>x2</th> <td>   -0.1698</td> <td>    0.033</td> <td>   -5.164</td> <td> 0.000</td> <td>   -0.234</td> <td>   -0.105</td>\n",
       "</tr>\n",
       "</table>\n",
       "<table class=\"simpletable\">\n",
       "<tr>\n",
       "  <th>Omnibus:</th>       <td>388.122</td> <th>  Durbin-Watson:     </th> <td>   1.971</td>\n",
       "</tr>\n",
       "<tr>\n",
       "  <th>Prob(Omnibus):</th> <td> 0.000</td>  <th>  Jarque-Bera (JB):  </th> <td>7871.391</td>\n",
       "</tr>\n",
       "<tr>\n",
       "  <th>Skew:</th>          <td> 1.278</td>  <th>  Prob(JB):          </th> <td>    0.00</td>\n",
       "</tr>\n",
       "<tr>\n",
       "  <th>Kurtosis:</th>      <td>16.554</td>  <th>  Cond. No.          </th> <td>    1.43</td>\n",
       "</tr>\n",
       "</table>"
      ],
      "text/plain": [
       "<class 'statsmodels.iolib.summary.Summary'>\n",
       "\"\"\"\n",
       "                            OLS Regression Results                            \n",
       "==============================================================================\n",
       "Dep. Variable:                      y   R-squared:                       0.095\n",
       "Model:                            OLS   Adj. R-squared:                  0.094\n",
       "Method:                 Least Squares   F-statistic:                     52.23\n",
       "Date:                Fri, 04 May 2018   Prob (F-statistic):           2.72e-22\n",
       "Time:                        13:24:04   Log-Likelihood:                -1375.8\n",
       "No. Observations:                 993   AIC:                             2756.\n",
       "Df Residuals:                     991   BIC:                             2765.\n",
       "Df Model:                           2                                         \n",
       "Covariance Type:            nonrobust                                         \n",
       "==============================================================================\n",
       "                 coef    std err          t      P>|t|      [0.025      0.975]\n",
       "------------------------------------------------------------------------------\n",
       "x1             0.2134      0.033      6.533      0.000       0.149       0.277\n",
       "x2            -0.1698      0.033     -5.164      0.000      -0.234      -0.105\n",
       "==============================================================================\n",
       "Omnibus:                      388.122   Durbin-Watson:                   1.971\n",
       "Prob(Omnibus):                  0.000   Jarque-Bera (JB):             7871.391\n",
       "Skew:                           1.278   Prob(JB):                         0.00\n",
       "Kurtosis:                      16.554   Cond. No.                         1.43\n",
       "==============================================================================\n",
       "\n",
       "Warnings:\n",
       "[1] Standard Errors assume that the covariance matrix of the errors is correctly specified.\n",
       "\"\"\""
      ]
     },
     "execution_count": 62,
     "metadata": {},
     "output_type": "execute_result"
    }
   ],
   "source": [
    "# fit with statsmodels\n",
    "model1 = sm.OLS(y_train,X_train)\n",
    "results = model1.fit()\n",
    "results.summary()"
   ]
  },
  {
   "cell_type": "code",
   "execution_count": 63,
   "metadata": {},
   "outputs": [
    {
     "name": "stdout",
     "output_type": "stream",
     "text": [
      "R-squared:  -0.9742037246446124\n",
      "RMSE:  530.5401597908635\n"
     ]
    }
   ],
   "source": [
    "regr = RandomForestRegressor(n_estimators=50)\n",
    "\n",
    "crossed = cross_validate(regr, X_norm, y_norm.flatten(), cv=20, \n",
    "                         scoring=['neg_mean_squared_error','r2'], return_train_score=False)\n",
    "\n",
    "rmse_norm = (abs(crossed['test_neg_mean_squared_error'].mean()))**.5\n",
    "r2 = crossed['test_neg_mean_squared_error'].mean()\n",
    "\n",
    "print (\"R-squared: \", r2)\n",
    "print ('RMSE: ', scaler_y.inverse_transform([rmse_norm])[0])"
   ]
  },
  {
   "cell_type": "code",
   "execution_count": 64,
   "metadata": {},
   "outputs": [],
   "source": [
    "x = chnky_df['seconds_chnk_3'].values\n",
    "y = chnky_df['seconds_chnk_2'].values"
   ]
  },
  {
   "cell_type": "code",
   "execution_count": 65,
   "metadata": {},
   "outputs": [
    {
     "data": {
      "image/png": "[encoded data removed]",
      "text/plain": [
       "<Figure size 864x576 with 1 Axes>"
      ]
     },
     "metadata": {},
     "output_type": "display_data"
    }
   ],
   "source": [
    "fig, ax = plt.subplots(figsize=(12, 8))\n",
    "ax.scatter(x, y);"
   ]
  },
  {
   "cell_type": "code",
   "execution_count": null,
   "metadata": {},
   "outputs": [],
   "source": []
  },
  {
   "cell_type": "code",
   "execution_count": null,
   "metadata": {},
   "outputs": [],
   "source": []
  },
  {
   "cell_type": "code",
   "execution_count": null,
   "metadata": {},
   "outputs": [],
   "source": []
  },
  {
   "cell_type": "code",
   "execution_count": null,
   "metadata": {},
   "outputs": [],
   "source": []
  }
 ],
 "metadata": {
  "kernelspec": {
   "display_name": "Python 3",
   "language": "python",
   "name": "python3"
  },
  "language_info": {
   "codemirror_mode": {
    "name": "ipython",
    "version": 3
   },
   "file_extension": ".py",
   "mimetype": "text/x-python",
   "name": "python",
   "nbconvert_exporter": "python",
   "pygments_lexer": "ipython3",
   "version": "3.6.5"
  }
 },
 "nbformat": 4,
 "nbformat_minor": 2
}
