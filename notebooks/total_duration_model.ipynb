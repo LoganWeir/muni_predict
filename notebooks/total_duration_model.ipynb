{
 "cells": [
  {
   "cell_type": "code",
   "execution_count": 22,
   "metadata": {},
   "outputs": [],
   "source": [
    "def warn(*args, **kwargs):\n",
    "    pass\n",
    "import warnings\n",
    "warnings.warn = warn\n",
    "\n",
    "import model_utilities as mdl_util\n",
    "\n",
    "import json\n",
    "from datetime import datetime\n",
    "import pandas as pd\n",
    "import numpy as np\n",
    "\n",
    "import pymongo\n",
    "from pymongo import MongoClient\n",
    "\n",
    "from sklearn.preprocessing import StandardScaler\n",
    "from sklearn.model_selection import train_test_split\n",
    "from sklearn.linear_model import RidgeCV\n",
    "from sklearn.metrics import mean_squared_error\n",
    "from sklearn.ensemble import RandomForestRegressor\n",
    "from sklearn.model_selection import cross_validate\n",
    "from sklearn.metrics import r2_score\n",
    "\n",
    "import matplotlib.pyplot as plt\n",
    "plt.style.use(\"ggplot\")\n",
    "%matplotlib inline"
   ]
  },
  {
   "cell_type": "code",
   "execution_count": 23,
   "metadata": {},
   "outputs": [
    {
     "data": {
      "text/plain": [
       "{'ftp_days': 50,\n",
       " 'gtfs_period': 0,\n",
       " 'database': 'muni_prediction_data',\n",
       " 'avl_collection': 'avl_raw',\n",
       " 'labeled_collection': 'labeled_trips',\n",
       " 'chunk_collection': 'chunk_details',\n",
       " 'duration_collection': 'trips_total_duration',\n",
       " 'bus': '33',\n",
       " 'direction': 0,\n",
       " 'chunks': [2, 6],\n",
       " 'chunk_2_collection': 'chunk_2_collection',\n",
       " 'chunk_6_collection': 'chunk_6_collection'}"
      ]
     },
     "execution_count": 23,
     "metadata": {},
     "output_type": "execute_result"
    }
   ],
   "source": [
    "# Load in our parameters file\n",
    "with open('../parameters.json') as f:\n",
    "    params = json.load(f)\n",
    "\n",
    "params"
   ]
  },
  {
   "cell_type": "code",
   "execution_count": 3,
   "metadata": {},
   "outputs": [],
   "source": [
    "database = params['database']\n",
    "duration_collection = params['duration_collection']\n",
    "\n",
    "# Connect to our database/collection\n",
    "client = MongoClient('localhost', 27017)\n",
    "db = client[database]\n",
    "duration_coll = db[duration_collection]"
   ]
  },
  {
   "cell_type": "code",
   "execution_count": 8,
   "metadata": {},
   "outputs": [
    {
     "data": {
      "text/html": [
       "<div>\n",
       "<style scoped>\n",
       "    .dataframe tbody tr th:only-of-type {\n",
       "        vertical-align: middle;\n",
       "    }\n",
       "\n",
       "    .dataframe tbody tr th {\n",
       "        vertical-align: top;\n",
       "    }\n",
       "\n",
       "    .dataframe thead th {\n",
       "        text-align: right;\n",
       "    }\n",
       "</style>\n",
       "<table border=\"1\" class=\"dataframe\">\n",
       "  <thead>\n",
       "    <tr style=\"text-align: right;\">\n",
       "      <th></th>\n",
       "      <th>duration</th>\n",
       "      <th>min_noon_sqr</th>\n",
       "      <th>min_since_midnight</th>\n",
       "      <th>start_timestamp</th>\n",
       "      <th>trip_id_iso</th>\n",
       "    </tr>\n",
       "  </thead>\n",
       "  <tbody>\n",
       "    <tr>\n",
       "      <th>0</th>\n",
       "      <td>2341.0</td>\n",
       "      <td>481636</td>\n",
       "      <td>26</td>\n",
       "      <td>1.475912e+09</td>\n",
       "      <td>7253717_2016-10-08_4489K</td>\n",
       "    </tr>\n",
       "    <tr>\n",
       "      <th>1</th>\n",
       "      <td>2940.0</td>\n",
       "      <td>12321</td>\n",
       "      <td>609</td>\n",
       "      <td>1.475947e+09</td>\n",
       "      <td>7253845_2016-10-08_GHNYG</td>\n",
       "    </tr>\n",
       "    <tr>\n",
       "      <th>2</th>\n",
       "      <td>3450.0</td>\n",
       "      <td>729</td>\n",
       "      <td>747</td>\n",
       "      <td>1.475955e+09</td>\n",
       "      <td>7253837_2016-10-08_8Q6DP</td>\n",
       "    </tr>\n",
       "    <tr>\n",
       "      <th>3</th>\n",
       "      <td>3268.0</td>\n",
       "      <td>28900</td>\n",
       "      <td>890</td>\n",
       "      <td>1.475963e+09</td>\n",
       "      <td>7253830_2016-10-08_SR1KP</td>\n",
       "    </tr>\n",
       "    <tr>\n",
       "      <th>4</th>\n",
       "      <td>3274.0</td>\n",
       "      <td>96100</td>\n",
       "      <td>1030</td>\n",
       "      <td>1.475972e+09</td>\n",
       "      <td>7253823_2016-10-08_TDW9M</td>\n",
       "    </tr>\n",
       "  </tbody>\n",
       "</table>\n",
       "</div>"
      ],
      "text/plain": [
       "   duration  min_noon_sqr  min_since_midnight  start_timestamp  \\\n",
       "0    2341.0        481636                  26     1.475912e+09   \n",
       "1    2940.0         12321                 609     1.475947e+09   \n",
       "2    3450.0           729                 747     1.475955e+09   \n",
       "3    3268.0         28900                 890     1.475963e+09   \n",
       "4    3274.0         96100                1030     1.475972e+09   \n",
       "\n",
       "                trip_id_iso  \n",
       "0  7253717_2016-10-08_4489K  \n",
       "1  7253845_2016-10-08_GHNYG  \n",
       "2  7253837_2016-10-08_8Q6DP  \n",
       "3  7253830_2016-10-08_SR1KP  \n",
       "4  7253823_2016-10-08_TDW9M  "
      ]
     },
     "execution_count": 8,
     "metadata": {},
     "output_type": "execute_result"
    }
   ],
   "source": [
    "time_df = pd.DataFrame(list(duration_coll.find({},{'_id':0})))\n",
    "trimed_df = time_df[time_df['duration'] < 4500]\n",
    "trimed_df.head()"
   ]
  },
  {
   "cell_type": "code",
   "execution_count": 17,
   "metadata": {},
   "outputs": [],
   "source": [
    "time_sort_df = trimed_df.sort_values('start_timestamp')\n",
    "time_sort_df.reset_index(drop=True, inplace=True)\n",
    "\n",
    "data_with_priors = []\n",
    "\n",
    "for idx, row in time_sort_df.iterrows():\n",
    "\n",
    "    if idx != 0:\n",
    "        \n",
    "        data_dict = {}\n",
    "        \n",
    "        prior = time_sort_df.iloc[idx-1]\n",
    "        \n",
    "        current_ts = row['start_timestamp']\n",
    "        prior_ts = prior['start_timestamp']\n",
    "        \n",
    "        diff =  current_ts - prior_ts\n",
    "        \n",
    "        if diff < 1800:\n",
    "            \n",
    "            data_dict['min_noon_sqr'] = row['min_noon_sqr']\n",
    "            data_dict['duration'] = row['duration']\n",
    "            data_dict['prior_duration'] = prior['duration']\n",
    "            \n",
    "            data_with_priors.append(data_dict)\n",
    "            \n",
    "            "
   ]
  },
  {
   "cell_type": "code",
   "execution_count": 27,
   "metadata": {},
   "outputs": [],
   "source": [
    "prior_df = pd.DataFrame(data_with_priors)\n",
    "y = prior_df['duration'].values.reshape(-1,1)\n",
    "X = prior_df[['min_noon_sqr', 'prior_duration']].values"
   ]
  },
  {
   "cell_type": "code",
   "execution_count": 21,
   "metadata": {},
   "outputs": [
    {
     "name": "stdout",
     "output_type": "stream",
     "text": [
      "R-squared:  0.44\n",
      "RMSE:  254.12\n"
     ]
    }
   ],
   "source": [
    "\n",
    "\n",
    "scaler = StandardScaler()\n",
    "X_norm = scaler.fit_transform(X)\n",
    "scaler_y = StandardScaler()\n",
    "y_norm = scaler_y.fit_transform(y)\n",
    "\n",
    "X_train, X_test, y_train, y_test = train_test_split(X_norm, y_norm)\n",
    "\n",
    "# Build our model\n",
    "ridge_cv = RidgeCV(alphas=[5,10,20,30], cv=20)\n",
    "ridge_cv.fit(X_train, y_train)\n",
    "\n",
    "#Score our model, R-Squared\n",
    "r_squared = ridge_cv.score(X_test, y_test)\n",
    "\n",
    "#Score our model, Root Mean Squared Error\n",
    "y_predict = ridge_cv.predict(X_test)\n",
    "rmse_norm = (mean_squared_error(y_test, y_predict))**.5\n",
    "rmse_dev = scaler_y.inverse_transform([rmse_norm])\n",
    "diff = rmse_dev[0] - scaler_y.mean_[0]\n",
    "\n",
    "print (\"R-squared: \", \"{0:.2f}\".format(r_squared))\n",
    "print ('RMSE: ', \"{0:.2f}\".format(diff))"
   ]
  },
  {
   "cell_type": "code",
   "execution_count": 26,
   "metadata": {},
   "outputs": [
    {
     "ename": "ValueError",
     "evalue": "Found input variables with inconsistent numbers of samples: [1346, 1907]",
     "output_type": "error",
     "traceback": [
      "\u001b[0;31m---------------------------------------------------------------------------\u001b[0m",
      "\u001b[0;31mValueError\u001b[0m                                Traceback (most recent call last)",
      "\u001b[0;32m<ipython-input-26-d21cfa094b88>\u001b[0m in \u001b[0;36m<module>\u001b[0;34m()\u001b[0m\n\u001b[1;32m      5\u001b[0m \u001b[0my_norm\u001b[0m \u001b[0;34m=\u001b[0m \u001b[0mscaler_y\u001b[0m\u001b[0;34m.\u001b[0m\u001b[0mfit_transform\u001b[0m\u001b[0;34m(\u001b[0m\u001b[0my\u001b[0m\u001b[0;34m)\u001b[0m\u001b[0;34m\u001b[0m\u001b[0m\n\u001b[1;32m      6\u001b[0m \u001b[0;34m\u001b[0m\u001b[0m\n\u001b[0;32m----> 7\u001b[0;31m \u001b[0mX_train\u001b[0m\u001b[0;34m,\u001b[0m \u001b[0mX_test\u001b[0m\u001b[0;34m,\u001b[0m \u001b[0my_train\u001b[0m\u001b[0;34m,\u001b[0m \u001b[0my_test\u001b[0m \u001b[0;34m=\u001b[0m \u001b[0mtrain_test_split\u001b[0m\u001b[0;34m(\u001b[0m\u001b[0mX_norm\u001b[0m\u001b[0;34m,\u001b[0m \u001b[0my_norm\u001b[0m\u001b[0;34m)\u001b[0m\u001b[0;34m\u001b[0m\u001b[0m\n\u001b[0m\u001b[1;32m      8\u001b[0m \u001b[0;34m\u001b[0m\u001b[0m\n\u001b[1;32m      9\u001b[0m \u001b[0mregr\u001b[0m \u001b[0;34m=\u001b[0m \u001b[0mRandomForestRegressor\u001b[0m\u001b[0;34m(\u001b[0m\u001b[0mn_estimators\u001b[0m\u001b[0;34m=\u001b[0m\u001b[0;36m50\u001b[0m\u001b[0;34m,\u001b[0m \u001b[0mmax_depth\u001b[0m\u001b[0;34m=\u001b[0m\u001b[0;36m2\u001b[0m\u001b[0;34m)\u001b[0m\u001b[0;34m\u001b[0m\u001b[0m\n",
      "\u001b[0;32m/anaconda3/lib/python3.6/site-packages/sklearn/model_selection/_split.py\u001b[0m in \u001b[0;36mtrain_test_split\u001b[0;34m(*arrays, **options)\u001b[0m\n\u001b[1;32m   2029\u001b[0m         \u001b[0mtest_size\u001b[0m \u001b[0;34m=\u001b[0m \u001b[0;36m0.25\u001b[0m\u001b[0;34m\u001b[0m\u001b[0m\n\u001b[1;32m   2030\u001b[0m \u001b[0;34m\u001b[0m\u001b[0m\n\u001b[0;32m-> 2031\u001b[0;31m     \u001b[0marrays\u001b[0m \u001b[0;34m=\u001b[0m \u001b[0mindexable\u001b[0m\u001b[0;34m(\u001b[0m\u001b[0;34m*\u001b[0m\u001b[0marrays\u001b[0m\u001b[0;34m)\u001b[0m\u001b[0;34m\u001b[0m\u001b[0m\n\u001b[0m\u001b[1;32m   2032\u001b[0m \u001b[0;34m\u001b[0m\u001b[0m\n\u001b[1;32m   2033\u001b[0m     \u001b[0;32mif\u001b[0m \u001b[0mshuffle\u001b[0m \u001b[0;32mis\u001b[0m \u001b[0;32mFalse\u001b[0m\u001b[0;34m:\u001b[0m\u001b[0;34m\u001b[0m\u001b[0m\n",
      "\u001b[0;32m/anaconda3/lib/python3.6/site-packages/sklearn/utils/validation.py\u001b[0m in \u001b[0;36mindexable\u001b[0;34m(*iterables)\u001b[0m\n\u001b[1;32m    227\u001b[0m         \u001b[0;32melse\u001b[0m\u001b[0;34m:\u001b[0m\u001b[0;34m\u001b[0m\u001b[0m\n\u001b[1;32m    228\u001b[0m             \u001b[0mresult\u001b[0m\u001b[0;34m.\u001b[0m\u001b[0mappend\u001b[0m\u001b[0;34m(\u001b[0m\u001b[0mnp\u001b[0m\u001b[0;34m.\u001b[0m\u001b[0marray\u001b[0m\u001b[0;34m(\u001b[0m\u001b[0mX\u001b[0m\u001b[0;34m)\u001b[0m\u001b[0;34m)\u001b[0m\u001b[0;34m\u001b[0m\u001b[0m\n\u001b[0;32m--> 229\u001b[0;31m     \u001b[0mcheck_consistent_length\u001b[0m\u001b[0;34m(\u001b[0m\u001b[0;34m*\u001b[0m\u001b[0mresult\u001b[0m\u001b[0;34m)\u001b[0m\u001b[0;34m\u001b[0m\u001b[0m\n\u001b[0m\u001b[1;32m    230\u001b[0m     \u001b[0;32mreturn\u001b[0m \u001b[0mresult\u001b[0m\u001b[0;34m\u001b[0m\u001b[0m\n\u001b[1;32m    231\u001b[0m \u001b[0;34m\u001b[0m\u001b[0m\n",
      "\u001b[0;32m/anaconda3/lib/python3.6/site-packages/sklearn/utils/validation.py\u001b[0m in \u001b[0;36mcheck_consistent_length\u001b[0;34m(*arrays)\u001b[0m\n\u001b[1;32m    202\u001b[0m     \u001b[0;32mif\u001b[0m \u001b[0mlen\u001b[0m\u001b[0;34m(\u001b[0m\u001b[0muniques\u001b[0m\u001b[0;34m)\u001b[0m \u001b[0;34m>\u001b[0m \u001b[0;36m1\u001b[0m\u001b[0;34m:\u001b[0m\u001b[0;34m\u001b[0m\u001b[0m\n\u001b[1;32m    203\u001b[0m         raise ValueError(\"Found input variables with inconsistent numbers of\"\n\u001b[0;32m--> 204\u001b[0;31m                          \" samples: %r\" % [int(l) for l in lengths])\n\u001b[0m\u001b[1;32m    205\u001b[0m \u001b[0;34m\u001b[0m\u001b[0m\n\u001b[1;32m    206\u001b[0m \u001b[0;34m\u001b[0m\u001b[0m\n",
      "\u001b[0;31mValueError\u001b[0m: Found input variables with inconsistent numbers of samples: [1346, 1907]"
     ]
    }
   ],
   "source": [
    "scaler = StandardScaler()\n",
    "X_norm = scaler.fit_transform(X)\n",
    "\n",
    "scaler_y = StandardScaler()\n",
    "y_norm = scaler_y.fit_transform(y)\n",
    "\n",
    "X_train, X_test, y_train, y_test = train_test_split(X_norm, y_norm)\n",
    "\n",
    "regr = RandomForestRegressor(n_estimators=50, max_depth=2)\n",
    "\n",
    "crossed = cross_validate(regr, X_train, y_train.flatten(), cv=20, \n",
    "                         scoring=['neg_mean_squared_error','r2'], return_train_score=False)\n",
    "\n",
    "r_squared = crossed['test_neg_mean_squared_error'].mean()\n",
    "\n",
    "#Score our model, Root Mean Squared Error\n",
    "rmse_norm = (abs(crossed['test_neg_mean_squared_error'].mean()))**.5\n",
    "rmse_dev = scaler_y.inverse_transform([rmse_norm])\n",
    "diff = rmse_dev[0] - scaler_y.mean_[0]\n",
    "\n",
    "print (\"R-squared: \", \"{0:.2f}\".format(r_squared))\n",
    "print ('RMSE: ', \"{0:.2f}\".format(diff))"
   ]
  },
  {
   "cell_type": "code",
   "execution_count": null,
   "metadata": {},
   "outputs": [],
   "source": []
  }
 ],
 "metadata": {
  "kernelspec": {
   "display_name": "Python 3",
   "language": "python",
   "name": "python3"
  },
  "language_info": {
   "codemirror_mode": {
    "name": "ipython",
    "version": 3
   },
   "file_extension": ".py",
   "mimetype": "text/x-python",
   "name": "python",
   "nbconvert_exporter": "python",
   "pygments_lexer": "ipython3",
   "version": "3.6.5"
  }
 },
 "nbformat": 4,
 "nbformat_minor": 2
}
