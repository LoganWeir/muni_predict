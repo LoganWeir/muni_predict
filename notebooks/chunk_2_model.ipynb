{
 "cells": [
  {
   "cell_type": "code",
   "execution_count": 20,
   "metadata": {},
   "outputs": [],
   "source": [
    "import pandas as pd\n",
    "import numpy as np\n",
    "import json\n",
    "\n",
    "from sklearn.model_selection import train_test_split\n",
    "from sklearn.linear_model import RidgeCV\n",
    "from sklearn.ensemble import RandomForestRegressor\n",
    "from sklearn.preprocessing import StandardScaler\n",
    "from sklearn.model_selection import cross_validate\n",
    "from sklearn.metrics import mean_squared_error\n",
    "from sklearn.metrics import r2_score\n",
    "from sklearn.ensemble import GradientBoostingRegressor\n",
    "from sklearn.model_selection import GridSearchCV\n",
    "\n",
    "import pymongo\n",
    "from pymongo import MongoClient"
   ]
  },
  {
   "cell_type": "code",
   "execution_count": 2,
   "metadata": {},
   "outputs": [],
   "source": [
    "# Load in our parameters file\n",
    "with open('../parameters.json') as f:\n",
    "    params = json.load(f)"
   ]
  },
  {
   "cell_type": "code",
   "execution_count": 3,
   "metadata": {},
   "outputs": [],
   "source": [
    "# Get relevant parameters\n",
    "database = params['database']\n",
    "two_chunk_collection = params['chunk_2_collection']\n",
    "\n",
    "# Connect to our database/collection\n",
    "client = MongoClient('localhost', 27017)\n",
    "db = client[database]\n",
    "two_chunk_coll = db[two_chunk_collection]"
   ]
  },
  {
   "cell_type": "code",
   "execution_count": 4,
   "metadata": {},
   "outputs": [
    {
     "data": {
      "text/html": [
       "<div>\n",
       "<style scoped>\n",
       "    .dataframe tbody tr th:only-of-type {\n",
       "        vertical-align: middle;\n",
       "    }\n",
       "\n",
       "    .dataframe tbody tr th {\n",
       "        vertical-align: top;\n",
       "    }\n",
       "\n",
       "    .dataframe thead th {\n",
       "        text-align: right;\n",
       "    }\n",
       "</style>\n",
       "<table border=\"1\" class=\"dataframe\">\n",
       "  <thead>\n",
       "    <tr style=\"text-align: right;\">\n",
       "      <th></th>\n",
       "      <th>avg_speed_chnk_1</th>\n",
       "      <th>avg_speed_chnk_2</th>\n",
       "      <th>mfn_sq_chnk_1</th>\n",
       "      <th>mfn_sq_chnk_2</th>\n",
       "      <th>seconds_chnk_1</th>\n",
       "      <th>seconds_chnk_2</th>\n",
       "      <th>start_timestamp</th>\n",
       "      <th>trip_id_iso</th>\n",
       "    </tr>\n",
       "  </thead>\n",
       "  <tbody>\n",
       "    <tr>\n",
       "      <th>0</th>\n",
       "      <td>5.563081</td>\n",
       "      <td>5.117909</td>\n",
       "      <td>481636</td>\n",
       "      <td>452929</td>\n",
       "      <td>1250.0</td>\n",
       "      <td>1027.0</td>\n",
       "      <td>1.475912e+09</td>\n",
       "      <td>7253717_2016-10-08_4489K</td>\n",
       "    </tr>\n",
       "    <tr>\n",
       "      <th>1</th>\n",
       "      <td>5.051780</td>\n",
       "      <td>5.112077</td>\n",
       "      <td>12321</td>\n",
       "      <td>7396</td>\n",
       "      <td>1438.0</td>\n",
       "      <td>1428.0</td>\n",
       "      <td>1.475947e+09</td>\n",
       "      <td>7253845_2016-10-08_GHNYG</td>\n",
       "    </tr>\n",
       "    <tr>\n",
       "      <th>2</th>\n",
       "      <td>4.878015</td>\n",
       "      <td>3.558431</td>\n",
       "      <td>729</td>\n",
       "      <td>2916</td>\n",
       "      <td>1560.0</td>\n",
       "      <td>1806.0</td>\n",
       "      <td>1.475955e+09</td>\n",
       "      <td>7253837_2016-10-08_8Q6DP</td>\n",
       "    </tr>\n",
       "    <tr>\n",
       "      <th>3</th>\n",
       "      <td>4.676721</td>\n",
       "      <td>3.959559</td>\n",
       "      <td>28900</td>\n",
       "      <td>39204</td>\n",
       "      <td>1682.0</td>\n",
       "      <td>1550.0</td>\n",
       "      <td>1.475963e+09</td>\n",
       "      <td>7253830_2016-10-08_SR1KP</td>\n",
       "    </tr>\n",
       "    <tr>\n",
       "      <th>4</th>\n",
       "      <td>4.587672</td>\n",
       "      <td>3.931596</td>\n",
       "      <td>96100</td>\n",
       "      <td>114244</td>\n",
       "      <td>1678.0</td>\n",
       "      <td>1534.0</td>\n",
       "      <td>1.475972e+09</td>\n",
       "      <td>7253823_2016-10-08_TDW9M</td>\n",
       "    </tr>\n",
       "  </tbody>\n",
       "</table>\n",
       "</div>"
      ],
      "text/plain": [
       "   avg_speed_chnk_1  avg_speed_chnk_2  mfn_sq_chnk_1  mfn_sq_chnk_2  \\\n",
       "0          5.563081          5.117909         481636         452929   \n",
       "1          5.051780          5.112077          12321           7396   \n",
       "2          4.878015          3.558431            729           2916   \n",
       "3          4.676721          3.959559          28900          39204   \n",
       "4          4.587672          3.931596          96100         114244   \n",
       "\n",
       "   seconds_chnk_1  seconds_chnk_2  start_timestamp               trip_id_iso  \n",
       "0          1250.0          1027.0     1.475912e+09  7253717_2016-10-08_4489K  \n",
       "1          1438.0          1428.0     1.475947e+09  7253845_2016-10-08_GHNYG  \n",
       "2          1560.0          1806.0     1.475955e+09  7253837_2016-10-08_8Q6DP  \n",
       "3          1682.0          1550.0     1.475963e+09  7253830_2016-10-08_SR1KP  \n",
       "4          1678.0          1534.0     1.475972e+09  7253823_2016-10-08_TDW9M  "
      ]
     },
     "execution_count": 4,
     "metadata": {},
     "output_type": "execute_result"
    }
   ],
   "source": [
    "chunk_df = pd.DataFrame(list(two_chunk_coll.find({},{'_id':0})))\n",
    "chunk_df.head()"
   ]
  },
  {
   "cell_type": "code",
   "execution_count": 5,
   "metadata": {},
   "outputs": [],
   "source": [
    "sort_df = chunk_df.sort_values('start_timestamp')\n",
    "sort_df.reset_index(drop=True, inplace=True)\n",
    "\n",
    "data_with_priors = []\n",
    "\n",
    "for idx, row in sort_df.iterrows():\n",
    "\n",
    "    if idx != 0:\n",
    "        \n",
    "        data_dict = {}\n",
    "        \n",
    "        prior = sort_df.iloc[idx-1]\n",
    "        \n",
    "        current_ts = row['start_timestamp']\n",
    "        prior_ts = prior['start_timestamp']\n",
    "        \n",
    "        diff =  current_ts - prior_ts\n",
    "        \n",
    "        if diff < 1800:\n",
    "            \n",
    "            data_dict['seconds_chnk_1'] = row['seconds_chnk_1']\n",
    "            data_dict['seconds_chnk_2'] = row['seconds_chnk_2']\n",
    "            data_dict['mfn_sq_chnk_1'] = row['mfn_sq_chnk_1']\n",
    "            data_dict['prior_seconds_chnk_2'] = prior['seconds_chnk_2']\n",
    "            \n",
    "            data_with_priors.append(data_dict)"
   ]
  },
  {
   "cell_type": "code",
   "execution_count": 6,
   "metadata": {},
   "outputs": [],
   "source": [
    "prior_df = pd.DataFrame(data_with_priors)\n",
    "\n",
    "mask = (prior_df['seconds_chnk_2'] < 2500) & (prior_df['seconds_chnk_1'] < 2500)\n",
    "prior_trimed_df = prior_df[mask]\n",
    "\n",
    "y = prior_trimed_df['seconds_chnk_2'].values.reshape(-1,1)\n",
    "X = prior_trimed_df[['seconds_chnk_1', 'mfn_sq_chnk_1', 'prior_seconds_chnk_2']].values\n",
    "\n",
    "scaler = StandardScaler()\n",
    "X_norm = scaler.fit_transform(X)\n",
    "scaler_y = StandardScaler()\n",
    "y_norm = scaler_y.fit_transform(y)\n",
    "\n",
    "X_train, X_test, y_train, y_test = train_test_split(X_norm, y_norm)"
   ]
  },
  {
   "cell_type": "code",
   "execution_count": 7,
   "metadata": {},
   "outputs": [
    {
     "name": "stdout",
     "output_type": "stream",
     "text": [
      "R-squared:  0.51\n",
      "RMSE:  148.25\n"
     ]
    }
   ],
   "source": [
    "# Build our model\n",
    "ridge_cv = RidgeCV(alphas=[5,10,20,30], cv=20)\n",
    "ridge_cv.fit(X_train, y_train)\n",
    "\n",
    "#Score our model, R-Squared\n",
    "r_squared = ridge_cv.score(X_test, y_test)\n",
    "\n",
    "#Score our model, Root Mean Squared Error\n",
    "y_predict = ridge_cv.predict(X_test)\n",
    "rmse_norm = (mean_squared_error(y_test, y_predict))**.5\n",
    "rmse_dev = scaler_y.inverse_transform([rmse_norm])\n",
    "diff = rmse_dev[0] - scaler_y.mean_[0]\n",
    "\n",
    "print (\"R-squared: \", \"{0:.2f}\".format(r_squared))\n",
    "print ('RMSE: ', \"{0:.2f}\".format(diff))"
   ]
  },
  {
   "cell_type": "code",
   "execution_count": 18,
   "metadata": {},
   "outputs": [
    {
     "name": "stdout",
     "output_type": "stream",
     "text": [
      "R-squared:  -0.46\n",
      "RMSE:  142.68\n"
     ]
    }
   ],
   "source": [
    "regr = RandomForestRegressor(n_estimators=100, max_leaf_nodes=20)\n",
    "\n",
    "crossed = cross_validate(regr, X_train, y_train.flatten(), cv=20, \n",
    "                         scoring=['neg_mean_squared_error','r2'], return_train_score=False)\n",
    "\n",
    "r_squared = crossed['test_neg_mean_squared_error'].mean()\n",
    "\n",
    "#Score our model, Root Mean Squared Error\n",
    "rmse_norm = (abs(crossed['test_neg_mean_squared_error'].mean()))**.5\n",
    "rmse_dev = scaler_y.inverse_transform([rmse_norm])\n",
    "diff = rmse_dev[0] - scaler_y.mean_[0]\n",
    "\n",
    "print (\"R-squared: \", \"{0:.2f}\".format(r_squared))\n",
    "print ('RMSE: ', \"{0:.2f}\".format(diff))"
   ]
  },
  {
   "cell_type": "code",
   "execution_count": 19,
   "metadata": {},
   "outputs": [
    {
     "name": "stdout",
     "output_type": "stream",
     "text": [
      "R-squared:  -0.46\n",
      "RMSE:  142.79\n"
     ]
    }
   ],
   "source": [
    "grd_boost = GradientBoostingRegressor(learning_rate=.01, max_depth=2, n_estimators=500)\n",
    "\n",
    "crossed = cross_validate(grd_boost, X_train, y_train.flatten(), cv=20, \n",
    "                         scoring=['neg_mean_squared_error','r2'], return_train_score=False)\n",
    "\n",
    "r_squared = crossed['test_neg_mean_squared_error'].mean()\n",
    "\n",
    "#Score our model, Root Mean Squared Error\n",
    "rmse_norm = (abs(crossed['test_neg_mean_squared_error'].mean()))**.5\n",
    "rmse_dev = scaler_y.inverse_transform([rmse_norm])\n",
    "diff = rmse_dev[0] - scaler_y.mean_[0]\n",
    "\n",
    "print (\"R-squared: \", \"{0:.2f}\".format(r_squared))\n",
    "print ('RMSE: ', \"{0:.2f}\".format(diff))"
   ]
  },
  {
   "cell_type": "code",
   "execution_count": 27,
   "metadata": {},
   "outputs": [
    {
     "data": {
      "text/plain": [
       "RandomForestRegressor(bootstrap=True, criterion='mse', max_depth=4,\n",
       "           max_features=1, max_leaf_nodes=30, min_impurity_decrease=0.0,\n",
       "           min_impurity_split=None, min_samples_leaf=1,\n",
       "           min_samples_split=2, min_weight_fraction_leaf=0.0,\n",
       "           n_estimators=10, n_jobs=1, oob_score=False, random_state=None,\n",
       "           verbose=0, warm_start=False)"
      ]
     },
     "execution_count": 27,
     "metadata": {},
     "output_type": "execute_result"
    }
   ],
   "source": [
    "regr = RandomForestRegressor()\n",
    "\n",
    "params = {\n",
    "    'max_leaf_nodes': [2,5,10,15,20,25,30,50],\n",
    "    'max_depth': [1,2,3,4,5,10,None],\n",
    "    'max_features': ['auto', 1, 2]\n",
    "}\n",
    "\n",
    "clf = GridSearchCV(regr, params)\n",
    "\n",
    "clf.fit(X_train, y_train.flatten())\n",
    "clf.best_estimator_"
   ]
  },
  {
   "cell_type": "code",
   "execution_count": 28,
   "metadata": {},
   "outputs": [
    {
     "name": "stdout",
     "output_type": "stream",
     "text": [
      "R-squared:  -0.46\n",
      "RMSE:  142.57\n"
     ]
    }
   ],
   "source": [
    "regr = RandomForestRegressor(max_features=1, max_depth=4, max_leaf_nodes=30)\n",
    "\n",
    "crossed = cross_validate(regr, X_train, y_train.flatten(), cv=20, \n",
    "                         scoring=['neg_mean_squared_error','r2'], return_train_score=False)\n",
    "\n",
    "r_squared = crossed['test_neg_mean_squared_error'].mean()\n",
    "\n",
    "#Score our model, Root Mean Squared Error\n",
    "rmse_norm = (abs(crossed['test_neg_mean_squared_error'].mean()))**.5\n",
    "rmse_dev = scaler_y.inverse_transform([rmse_norm])\n",
    "diff = rmse_dev[0] - scaler_y.mean_[0]\n",
    "\n",
    "print (\"R-squared: \", \"{0:.2f}\".format(r_squared))\n",
    "print ('RMSE: ', \"{0:.2f}\".format(diff))"
   ]
  },
  {
   "cell_type": "code",
   "execution_count": null,
   "metadata": {},
   "outputs": [],
   "source": []
  }
 ],
 "metadata": {
  "kernelspec": {
   "display_name": "Python 3",
   "language": "python",
   "name": "python3"
  },
  "language_info": {
   "codemirror_mode": {
    "name": "ipython",
    "version": 3
   },
   "file_extension": ".py",
   "mimetype": "text/x-python",
   "name": "python",
   "nbconvert_exporter": "python",
   "pygments_lexer": "ipython3",
   "version": "3.6.5"
  }
 },
 "nbformat": 4,
 "nbformat_minor": 2
}
