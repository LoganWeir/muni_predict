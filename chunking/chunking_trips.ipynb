{
 "cells": [
  {
   "cell_type": "code",
   "execution_count": 54,
   "metadata": {},
   "outputs": [],
   "source": [
    "from datetime import datetime\n",
    "import pandas as pd\n",
    "from geopy.distance import distance\n",
    "import numpy as np\n",
    "\n",
    "import random\n",
    "\n",
    "import pymongo\n",
    "from pymongo import MongoClient"
   ]
  },
  {
   "cell_type": "code",
   "execution_count": 55,
   "metadata": {},
   "outputs": [],
   "source": [
    "client = MongoClient('localhost', 27017)\n",
    "\n",
    "db = client['avl_pipeline_test']\n",
    "\n",
    "trip_coll = db['clean_trips']\n",
    "chnk_coll = db['chunk_info']"
   ]
  },
  {
   "cell_type": "code",
   "execution_count": 56,
   "metadata": {},
   "outputs": [],
   "source": [
    "all_trips = trip_coll.distinct('trip_id_iso')"
   ]
  },
  {
   "cell_type": "code",
   "execution_count": 57,
   "metadata": {},
   "outputs": [],
   "source": [
    "for trip in all_trips:\n",
    "    \n",
    "    for chunk in chnk_coll.find():\n",
    "\n",
    "        chnk_num = \"chunk_\" + str(chunk['number_chunks'])\n",
    "\n",
    "        start_ts = 0\n",
    "\n",
    "        for seq, chunk_info in chunk['chunks'].items():\n",
    "\n",
    "            best_dist = {\n",
    "                'stop_dist':100000, \n",
    "                'time_stamp': 0}\n",
    "\n",
    "            filter_search = {\n",
    "                \"trip_id_iso\": trip,\n",
    "                \"time_stamp\": {\"$gte\": start_ts}\n",
    "            }\n",
    "\n",
    "            for doc in trip_coll.find(filter_search).sort('time_stamp'):\n",
    "\n",
    "                doc_lat = doc['LATITUDE']\n",
    "                doc_lon = doc['LONGITUDE']\n",
    "\n",
    "                cnk_lat = chunk_info['chunk_stop_lat']\n",
    "                cnk_lon = chunk_info['chunk_stop_lon']\n",
    "\n",
    "                doc_dist = distance((doc_lat, doc_lon), (cnk_lat, cnk_lon)).m\n",
    "\n",
    "                if doc_dist < best_dist['stop_dist']:\n",
    "                    best_dist['stop_dist'] = doc_dist\n",
    "                    best_dist['time_stamp'] = doc['time_stamp']\n",
    "\n",
    "            label_search = {\n",
    "                \"trip_id_iso\": trip,\n",
    "                \"time_stamp\": {\n",
    "                    \"$gte\": start_ts,\n",
    "                    \"$lt\": best_dist['time_stamp']\n",
    "                }\n",
    "            }\n",
    "\n",
    "            for doc in trip_coll.find(label_search).sort('time_stamp'):\n",
    "\n",
    "                doc_id = doc['_id']\n",
    "\n",
    "                trip_coll.update_one({\"_id\": doc_id}, {\n",
    "                    \"$set\": {\n",
    "                        chnk_num: seq\n",
    "                    }\n",
    "                })\n",
    "\n",
    "\n",
    "            start_ts = best_dist['time_stamp']"
   ]
  },
  {
   "cell_type": "code",
   "execution_count": null,
   "metadata": {},
   "outputs": [],
   "source": []
  },
  {
   "cell_type": "code",
   "execution_count": null,
   "metadata": {},
   "outputs": [],
   "source": []
  },
  {
   "cell_type": "code",
   "execution_count": null,
   "metadata": {},
   "outputs": [],
   "source": []
  },
  {
   "cell_type": "code",
   "execution_count": 58,
   "metadata": {},
   "outputs": [],
   "source": [
    "samp_start = list(trip_coll.aggregate([{'$sample':{'size':1}}]))[0]"
   ]
  },
  {
   "cell_type": "code",
   "execution_count": 59,
   "metadata": {},
   "outputs": [
    {
     "data": {
      "text/plain": [
       "{'_id': ObjectId('5ae4da383ad39e17213cfc47'),\n",
       " 'HEADING': '118.0',\n",
       " 'LATITUDE': '37.75848',\n",
       " 'LONGITUDE': '-122.44506',\n",
       " 'PREDICTABLE': '1',\n",
       " 'REPORT_TIME': '11/19/2016 16:50:51',\n",
       " 'REV': '1526',\n",
       " 'SPEED': '6.111',\n",
       " 'TRAIN_ASSIGNMENT': '3307',\n",
       " 'VEHICLE_TAG': '5489',\n",
       " 'time_stamp': 1479603051.0,\n",
       " 'trip_id_iso': '7253825_2016-11-19_MWYFC',\n",
       " 'chunk_2': '1',\n",
       " 'chunk_6': '3',\n",
       " 'chunk_12': '6'}"
      ]
     },
     "execution_count": 59,
     "metadata": {},
     "output_type": "execute_result"
    }
   ],
   "source": [
    "samp_start"
   ]
  },
  {
   "cell_type": "code",
   "execution_count": 33,
   "metadata": {},
   "outputs": [],
   "source": [
    "samp_id = samp_start['trip_id_iso']"
   ]
  },
  {
   "cell_type": "code",
   "execution_count": 34,
   "metadata": {},
   "outputs": [],
   "source": [
    "chnk_samp = chnk_coll.find_one()"
   ]
  },
  {
   "cell_type": "code",
   "execution_count": 35,
   "metadata": {},
   "outputs": [],
   "source": [
    "chnk_num = \"chunk_\" + str(chnk_samp['number_chunks'])"
   ]
  },
  {
   "cell_type": "code",
   "execution_count": 36,
   "metadata": {},
   "outputs": [],
   "source": [
    "start_ts = 0\n",
    "\n",
    "for seq, chunk_info in chnk_samp['chunks'].items():\n",
    "    \n",
    "    # For each section of the chunk, I want to get all \n",
    "    # documents that begin at the start of that chunk.\n",
    "    \n",
    "    # I get the last chunk timestamp from the row that's closest.\n",
    "    best_dist = {\n",
    "        'stop_dist':100000, \n",
    "        'time_stamp': 0}\n",
    "    \n",
    "    filter_search = {\n",
    "        \"trip_id_iso\": samp_id,\n",
    "        \"time_stamp\": {\"$gte\": start_ts}\n",
    "    }\n",
    "    \n",
    "    for doc in trip_coll.find(filter_search).sort('time_stamp'):\n",
    "\n",
    "        \n",
    "        doc_lat = doc['LATITUDE']\n",
    "        doc_lon = doc['LONGITUDE']\n",
    "        \n",
    "        cnk_lat = chunk_info['chunk_stop_lat']\n",
    "        cnk_lon = chunk_info['chunk_stop_lon']\n",
    "        \n",
    "        doc_dist = distance((doc_lat, doc_lon), (cnk_lat, cnk_lon)).m\n",
    "        \n",
    "        if doc_dist < best_dist['stop_dist']:\n",
    "            best_dist['stop_dist'] = doc_dist\n",
    "            best_dist['time_stamp'] = doc['time_stamp']\n",
    "            \n",
    "    label_search = {\n",
    "        \"trip_id_iso\": samp_id,\n",
    "        \"time_stamp\": {\n",
    "            \"$gte\": start_ts,\n",
    "            \"$lt\": best_dist['time_stamp']\n",
    "        }\n",
    "    }\n",
    "    \n",
    "    for doc in trip_coll.find(filter_search).sort('time_stamp'):\n",
    "        \n",
    "        doc_id = doc['_id']\n",
    "        \n",
    "        trip_coll.update_one({\"_id\": doc_id}, {\n",
    "            \"$set\": {\n",
    "                chnk_num: seq\n",
    "            }\n",
    "        })\n",
    "        \n",
    "        \n",
    "    start_ts = best_dist['time_stamp']"
   ]
  },
  {
   "cell_type": "code",
   "execution_count": 37,
   "metadata": {},
   "outputs": [
    {
     "data": {
      "text/plain": [
       "{'_id': ObjectId('5ae4dcb33ad39e1721401dad'),\n",
       " 'HEADING': '82.0',\n",
       " 'LATITUDE': '37.78693',\n",
       " 'LONGITUDE': '-122.4565',\n",
       " 'PREDICTABLE': '1',\n",
       " 'REPORT_TIME': '10/28/2016 00:27:57',\n",
       " 'REV': '1526',\n",
       " 'SPEED': '0.0',\n",
       " 'TRAIN_ASSIGNMENT': '3305',\n",
       " 'VEHICLE_TAG': '5419',\n",
       " 'minutes_noon_sqr': 480249,\n",
       " 'sched_time_diff_seconds': 123,\n",
       " 'service_id': 1,\n",
       " 'time_stamp': 1477639677.0,\n",
       " 'trip_id': 7253717,\n",
       " 'trip_id_iso': '7253717_2016-10-28_JRMFT',\n",
       " 'trip_start': 1,\n",
       " 'chunk_2': '1'}"
      ]
     },
     "execution_count": 37,
     "metadata": {},
     "output_type": "execute_result"
    }
   ],
   "source": [
    "trip_coll.find_one()"
   ]
  },
  {
   "cell_type": "code",
   "execution_count": 43,
   "metadata": {},
   "outputs": [],
   "source": [
    "trip_id = '7253708_2016-12-05_DK564'"
   ]
  },
  {
   "cell_type": "code",
   "execution_count": 44,
   "metadata": {},
   "outputs": [
    {
     "data": {
      "text/plain": [
       "78"
      ]
     },
     "execution_count": 44,
     "metadata": {},
     "output_type": "execute_result"
    }
   ],
   "source": [
    "trip_coll.find({\"trip_id_iso\": trip_id}).count()"
   ]
  },
  {
   "cell_type": "code",
   "execution_count": 48,
   "metadata": {},
   "outputs": [
    {
     "data": {
      "text/plain": [
       "{'_id': ObjectId('5ae4d96e3ad39e17213bf219'),\n",
       " 'HEADING': '0.0',\n",
       " 'LATITUDE': '37.78698',\n",
       " 'LONGITUDE': '-122.45645',\n",
       " 'PREDICTABLE': '1',\n",
       " 'REPORT_TIME': '12/05/2016 07:53:36',\n",
       " 'REV': '1526',\n",
       " 'SPEED': '0.0',\n",
       " 'TRAIN_ASSIGNMENT': '3302',\n",
       " 'VEHICLE_TAG': '5423',\n",
       " 'minutes_noon_sqr': 61009,\n",
       " 'sched_time_diff_seconds': 84,\n",
       " 'service_id': 1,\n",
       " 'time_stamp': 1480953216.0,\n",
       " 'trip_id': 7253708,\n",
       " 'trip_id_iso': '7253708_2016-12-05_DK564',\n",
       " 'trip_start': 1,\n",
       " 'chunk_2': '1'}"
      ]
     },
     "execution_count": 48,
     "metadata": {},
     "output_type": "execute_result"
    }
   ],
   "source": [
    "trip_coll.find_one({\"trip_id_iso\": trip_id, 'chunk_2': '1'})"
   ]
  },
  {
   "cell_type": "code",
   "execution_count": 47,
   "metadata": {},
   "outputs": [
    {
     "data": {
      "text/plain": [
       "{'_id': ObjectId('5ae4d96e3ad39e17213bf240'),\n",
       " 'HEADING': '84.0',\n",
       " 'LATITUDE': '37.7608',\n",
       " 'LONGITUDE': '-122.4364',\n",
       " 'PREDICTABLE': '1',\n",
       " 'REPORT_TIME': '12/05/2016 08:19:06',\n",
       " 'REV': '1526',\n",
       " 'SPEED': '7.5',\n",
       " 'TRAIN_ASSIGNMENT': '3302',\n",
       " 'VEHICLE_TAG': '5423',\n",
       " 'time_stamp': 1480954746.0,\n",
       " 'trip_id_iso': '7253708_2016-12-05_DK564',\n",
       " 'chunk_2': '2'}"
      ]
     },
     "execution_count": 47,
     "metadata": {},
     "output_type": "execute_result"
    }
   ],
   "source": [
    "trip_coll.find_one({\"trip_id_iso\": trip_id, 'chunk_2': '2'})"
   ]
  },
  {
   "cell_type": "code",
   "execution_count": 23,
   "metadata": {},
   "outputs": [],
   "source": [
    "test_id = test['_id']"
   ]
  },
  {
   "cell_type": "code",
   "execution_count": 24,
   "metadata": {},
   "outputs": [],
   "source": [
    "sample = {'chunk_2':'1'}"
   ]
  },
  {
   "cell_type": "code",
   "execution_count": 26,
   "metadata": {},
   "outputs": [
    {
     "data": {
      "text/plain": [
       "<pymongo.results.UpdateResult at 0x1131e85a0>"
      ]
     },
     "execution_count": 26,
     "metadata": {},
     "output_type": "execute_result"
    }
   ],
   "source": [
    "trip_coll.update_one({\"_id\": test_id}, {\n",
    "    \"$set\": {\n",
    "        \"chunk_2\": '1'\n",
    "    }\n",
    "})"
   ]
  },
  {
   "cell_type": "code",
   "execution_count": 27,
   "metadata": {},
   "outputs": [
    {
     "data": {
      "text/plain": [
       "{'_id': ObjectId('5ae4dcb33ad39e1721401dad'),\n",
       " 'HEADING': '82.0',\n",
       " 'LATITUDE': '37.78693',\n",
       " 'LONGITUDE': '-122.4565',\n",
       " 'PREDICTABLE': '1',\n",
       " 'REPORT_TIME': '10/28/2016 00:27:57',\n",
       " 'REV': '1526',\n",
       " 'SPEED': '0.0',\n",
       " 'TRAIN_ASSIGNMENT': '3305',\n",
       " 'VEHICLE_TAG': '5419',\n",
       " 'minutes_noon_sqr': 480249,\n",
       " 'sched_time_diff_seconds': 123,\n",
       " 'service_id': 1,\n",
       " 'time_stamp': 1477639677.0,\n",
       " 'trip_id': 7253717,\n",
       " 'trip_id_iso': '7253717_2016-10-28_JRMFT',\n",
       " 'trip_start': 1,\n",
       " 'chunk_2': '1'}"
      ]
     },
     "execution_count": 27,
     "metadata": {},
     "output_type": "execute_result"
    }
   ],
   "source": [
    "trip_coll.find_one()"
   ]
  },
  {
   "cell_type": "code",
   "execution_count": null,
   "metadata": {},
   "outputs": [],
   "source": []
  }
 ],
 "metadata": {
  "kernelspec": {
   "display_name": "Python 3",
   "language": "python",
   "name": "python3"
  },
  "language_info": {
   "codemirror_mode": {
    "name": "ipython",
    "version": 3
   },
   "file_extension": ".py",
   "mimetype": "text/x-python",
   "name": "python",
   "nbconvert_exporter": "python",
   "pygments_lexer": "ipython3",
   "version": "3.6.5"
  }
 },
 "nbformat": 4,
 "nbformat_minor": 2
}
