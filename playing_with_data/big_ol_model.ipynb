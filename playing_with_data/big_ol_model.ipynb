{
 "cells": [
  {
   "cell_type": "code",
   "execution_count": 2,
   "metadata": {},
   "outputs": [],
   "source": [
    "from datetime import datetime\n",
    "import pandas as pd\n",
    "from geopy import distance\n",
    "import numpy as np\n",
    "\n",
    "from sklearn.model_selection import train_test_split\n",
    "from sklearn.linear_model import LinearRegression\n",
    "\n",
    "from sklearn.ensemble import RandomForestRegressor\n",
    "\n",
    "from sklearn.preprocessing import normalize\n",
    "\n",
    "import statsmodels.api as sm\n",
    "\n",
    "\n",
    "import pymongo\n",
    "from pymongo import MongoClient\n",
    "\n",
    "import matplotlib.pyplot as plt\n",
    "\n",
    "plt.style.use(\"ggplot\")\n",
    "\n",
    "%matplotlib inline"
   ]
  },
  {
   "cell_type": "code",
   "execution_count": 3,
   "metadata": {},
   "outputs": [],
   "source": [
    "client = MongoClient('localhost', 27017)\n",
    "\n",
    "db = client['avl_pipeline_test']\n",
    "in_coll = db['edges_normed']"
   ]
  },
  {
   "cell_type": "code",
   "execution_count": 4,
   "metadata": {},
   "outputs": [],
   "source": [
    "cursor = in_coll.find()"
   ]
  },
  {
   "cell_type": "code",
   "execution_count": 5,
   "metadata": {},
   "outputs": [],
   "source": [
    "df =  pd.DataFrame(list(cursor))"
   ]
  },
  {
   "cell_type": "code",
   "execution_count": 6,
   "metadata": {},
   "outputs": [
    {
     "data": {
      "text/html": [
       "<div>\n",
       "<style scoped>\n",
       "    .dataframe tbody tr th:only-of-type {\n",
       "        vertical-align: middle;\n",
       "    }\n",
       "\n",
       "    .dataframe tbody tr th {\n",
       "        vertical-align: top;\n",
       "    }\n",
       "\n",
       "    .dataframe thead th {\n",
       "        text-align: right;\n",
       "    }\n",
       "</style>\n",
       "<table border=\"1\" class=\"dataframe\">\n",
       "  <thead>\n",
       "    <tr style=\"text-align: right;\">\n",
       "      <th></th>\n",
       "      <th>_id</th>\n",
       "      <th>edge_id</th>\n",
       "      <th>first_prior</th>\n",
       "      <th>midday</th>\n",
       "      <th>normed_edge</th>\n",
       "      <th>rush_hour</th>\n",
       "      <th>second_prior</th>\n",
       "      <th>sequence</th>\n",
       "      <th>weekend</th>\n",
       "    </tr>\n",
       "  </thead>\n",
       "  <tbody>\n",
       "    <tr>\n",
       "      <th>0</th>\n",
       "      <td>5ae7ccf03ad39e78321c4444</td>\n",
       "      <td>7253717_2016-10-28_HKH3O_1</td>\n",
       "      <td>0.000000</td>\n",
       "      <td>0</td>\n",
       "      <td>0.165269</td>\n",
       "      <td>0</td>\n",
       "      <td>0.000000</td>\n",
       "      <td>1</td>\n",
       "      <td>0</td>\n",
       "    </tr>\n",
       "    <tr>\n",
       "      <th>1</th>\n",
       "      <td>5ae7ccf03ad39e78321c4445</td>\n",
       "      <td>7253717_2016-10-28_HKH3O_2</td>\n",
       "      <td>0.165269</td>\n",
       "      <td>0</td>\n",
       "      <td>-0.061655</td>\n",
       "      <td>0</td>\n",
       "      <td>0.000000</td>\n",
       "      <td>2</td>\n",
       "      <td>0</td>\n",
       "    </tr>\n",
       "    <tr>\n",
       "      <th>2</th>\n",
       "      <td>5ae7ccf03ad39e78321c4446</td>\n",
       "      <td>7253717_2016-10-28_HKH3O_3</td>\n",
       "      <td>-0.061655</td>\n",
       "      <td>0</td>\n",
       "      <td>-0.542964</td>\n",
       "      <td>0</td>\n",
       "      <td>0.165269</td>\n",
       "      <td>3</td>\n",
       "      <td>0</td>\n",
       "    </tr>\n",
       "    <tr>\n",
       "      <th>3</th>\n",
       "      <td>5ae7ccf03ad39e78321c4447</td>\n",
       "      <td>7253717_2016-10-28_HKH3O_4</td>\n",
       "      <td>-0.542964</td>\n",
       "      <td>0</td>\n",
       "      <td>0.301291</td>\n",
       "      <td>0</td>\n",
       "      <td>-0.061655</td>\n",
       "      <td>4</td>\n",
       "      <td>0</td>\n",
       "    </tr>\n",
       "    <tr>\n",
       "      <th>4</th>\n",
       "      <td>5ae7ccf03ad39e78321c4448</td>\n",
       "      <td>7253717_2016-10-28_HKH3O_5</td>\n",
       "      <td>0.301291</td>\n",
       "      <td>0</td>\n",
       "      <td>-0.059600</td>\n",
       "      <td>0</td>\n",
       "      <td>-0.542964</td>\n",
       "      <td>5</td>\n",
       "      <td>0</td>\n",
       "    </tr>\n",
       "  </tbody>\n",
       "</table>\n",
       "</div>"
      ],
      "text/plain": [
       "                        _id                     edge_id  first_prior  midday  \\\n",
       "0  5ae7ccf03ad39e78321c4444  7253717_2016-10-28_HKH3O_1     0.000000       0   \n",
       "1  5ae7ccf03ad39e78321c4445  7253717_2016-10-28_HKH3O_2     0.165269       0   \n",
       "2  5ae7ccf03ad39e78321c4446  7253717_2016-10-28_HKH3O_3    -0.061655       0   \n",
       "3  5ae7ccf03ad39e78321c4447  7253717_2016-10-28_HKH3O_4    -0.542964       0   \n",
       "4  5ae7ccf03ad39e78321c4448  7253717_2016-10-28_HKH3O_5     0.301291       0   \n",
       "\n",
       "   normed_edge  rush_hour  second_prior sequence  weekend  \n",
       "0     0.165269          0      0.000000        1        0  \n",
       "1    -0.061655          0      0.000000        2        0  \n",
       "2    -0.542964          0      0.165269        3        0  \n",
       "3     0.301291          0     -0.061655        4        0  \n",
       "4    -0.059600          0     -0.542964        5        0  "
      ]
     },
     "execution_count": 6,
     "metadata": {},
     "output_type": "execute_result"
    }
   ],
   "source": [
    "df.head()"
   ]
  },
  {
   "cell_type": "code",
   "execution_count": 13,
   "metadata": {},
   "outputs": [],
   "source": [
    "y = df['normed_edge'].values.reshape(-1,1)\n",
    "X = df[['first_prior', 'second_prior', 'midday', 'rush_hour', 'weekend']].values"
   ]
  },
  {
   "cell_type": "code",
   "execution_count": 15,
   "metadata": {},
   "outputs": [
    {
     "data": {
      "text/plain": [
       "(53561, 1)"
      ]
     },
     "execution_count": 15,
     "metadata": {},
     "output_type": "execute_result"
    }
   ],
   "source": [
    "y.shape"
   ]
  },
  {
   "cell_type": "code",
   "execution_count": 16,
   "metadata": {},
   "outputs": [
    {
     "data": {
      "text/plain": [
       "(53561, 5)"
      ]
     },
     "execution_count": 16,
     "metadata": {},
     "output_type": "execute_result"
    }
   ],
   "source": [
    "X.shape"
   ]
  },
  {
   "cell_type": "code",
   "execution_count": 17,
   "metadata": {},
   "outputs": [],
   "source": [
    "X_train, X_test, y_train, y_test = train_test_split(X, y)"
   ]
  },
  {
   "cell_type": "code",
   "execution_count": 18,
   "metadata": {},
   "outputs": [
    {
     "data": {
      "text/html": [
       "<table class=\"simpletable\">\n",
       "<caption>OLS Regression Results</caption>\n",
       "<tr>\n",
       "  <th>Dep. Variable:</th>            <td>y</td>        <th>  R-squared:         </th> <td>   0.028</td> \n",
       "</tr>\n",
       "<tr>\n",
       "  <th>Model:</th>                   <td>OLS</td>       <th>  Adj. R-squared:    </th> <td>   0.028</td> \n",
       "</tr>\n",
       "<tr>\n",
       "  <th>Method:</th>             <td>Least Squares</td>  <th>  F-statistic:       </th> <td>   232.6</td> \n",
       "</tr>\n",
       "<tr>\n",
       "  <th>Date:</th>             <td>Mon, 30 Apr 2018</td> <th>  Prob (F-statistic):</th> <td>1.08e-245</td>\n",
       "</tr>\n",
       "<tr>\n",
       "  <th>Time:</th>                 <td>19:25:45</td>     <th>  Log-Likelihood:    </th> <td> -56662.</td> \n",
       "</tr>\n",
       "<tr>\n",
       "  <th>No. Observations:</th>      <td> 40170</td>      <th>  AIC:               </th> <td>1.133e+05</td>\n",
       "</tr>\n",
       "<tr>\n",
       "  <th>Df Residuals:</th>          <td> 40165</td>      <th>  BIC:               </th> <td>1.134e+05</td>\n",
       "</tr>\n",
       "<tr>\n",
       "  <th>Df Model:</th>              <td>     5</td>      <th>                     </th>     <td> </td>    \n",
       "</tr>\n",
       "<tr>\n",
       "  <th>Covariance Type:</th>      <td>nonrobust</td>    <th>                     </th>     <td> </td>    \n",
       "</tr>\n",
       "</table>\n",
       "<table class=\"simpletable\">\n",
       "<tr>\n",
       "   <td></td>     <th>coef</th>     <th>std err</th>      <th>t</th>      <th>P>|t|</th>  <th>[0.025</th>    <th>0.975]</th>  \n",
       "</tr>\n",
       "<tr>\n",
       "  <th>x1</th> <td>   -0.1446</td> <td>    0.005</td> <td>  -28.964</td> <td> 0.000</td> <td>   -0.154</td> <td>   -0.135</td>\n",
       "</tr>\n",
       "<tr>\n",
       "  <th>x2</th> <td>   -0.0281</td> <td>    0.005</td> <td>   -5.537</td> <td> 0.000</td> <td>   -0.038</td> <td>   -0.018</td>\n",
       "</tr>\n",
       "<tr>\n",
       "  <th>x3</th> <td>    0.1520</td> <td>    0.009</td> <td>   16.823</td> <td> 0.000</td> <td>    0.134</td> <td>    0.170</td>\n",
       "</tr>\n",
       "<tr>\n",
       "  <th>x4</th> <td>    0.1267</td> <td>    0.009</td> <td>   14.320</td> <td> 0.000</td> <td>    0.109</td> <td>    0.144</td>\n",
       "</tr>\n",
       "<tr>\n",
       "  <th>x5</th> <td>   -0.0939</td> <td>    0.010</td> <td>   -9.016</td> <td> 0.000</td> <td>   -0.114</td> <td>   -0.073</td>\n",
       "</tr>\n",
       "</table>\n",
       "<table class=\"simpletable\">\n",
       "<tr>\n",
       "  <th>Omnibus:</th>       <td>37824.714</td> <th>  Durbin-Watson:     </th>  <td>   1.994</td>  \n",
       "</tr>\n",
       "<tr>\n",
       "  <th>Prob(Omnibus):</th>  <td> 0.000</td>   <th>  Jarque-Bera (JB):  </th> <td>5379951.200</td>\n",
       "</tr>\n",
       "<tr>\n",
       "  <th>Skew:</th>           <td> 4.130</td>   <th>  Prob(JB):          </th>  <td>    0.00</td>  \n",
       "</tr>\n",
       "<tr>\n",
       "  <th>Kurtosis:</th>       <td>59.090</td>   <th>  Cond. No.          </th>  <td>    2.53</td>  \n",
       "</tr>\n",
       "</table>"
      ],
      "text/plain": [
       "<class 'statsmodels.iolib.summary.Summary'>\n",
       "\"\"\"\n",
       "                            OLS Regression Results                            \n",
       "==============================================================================\n",
       "Dep. Variable:                      y   R-squared:                       0.028\n",
       "Model:                            OLS   Adj. R-squared:                  0.028\n",
       "Method:                 Least Squares   F-statistic:                     232.6\n",
       "Date:                Mon, 30 Apr 2018   Prob (F-statistic):          1.08e-245\n",
       "Time:                        19:25:45   Log-Likelihood:                -56662.\n",
       "No. Observations:               40170   AIC:                         1.133e+05\n",
       "Df Residuals:                   40165   BIC:                         1.134e+05\n",
       "Df Model:                           5                                         \n",
       "Covariance Type:            nonrobust                                         \n",
       "==============================================================================\n",
       "                 coef    std err          t      P>|t|      [0.025      0.975]\n",
       "------------------------------------------------------------------------------\n",
       "x1            -0.1446      0.005    -28.964      0.000      -0.154      -0.135\n",
       "x2            -0.0281      0.005     -5.537      0.000      -0.038      -0.018\n",
       "x3             0.1520      0.009     16.823      0.000       0.134       0.170\n",
       "x4             0.1267      0.009     14.320      0.000       0.109       0.144\n",
       "x5            -0.0939      0.010     -9.016      0.000      -0.114      -0.073\n",
       "==============================================================================\n",
       "Omnibus:                    37824.714   Durbin-Watson:                   1.994\n",
       "Prob(Omnibus):                  0.000   Jarque-Bera (JB):          5379951.200\n",
       "Skew:                           4.130   Prob(JB):                         0.00\n",
       "Kurtosis:                      59.090   Cond. No.                         2.53\n",
       "==============================================================================\n",
       "\n",
       "Warnings:\n",
       "[1] Standard Errors assume that the covariance matrix of the errors is correctly specified.\n",
       "\"\"\""
      ]
     },
     "execution_count": 18,
     "metadata": {},
     "output_type": "execute_result"
    }
   ],
   "source": [
    "# fit with statsmodels\n",
    "model1 = sm.OLS(y_train,X_train)\n",
    "results = model1.fit()\n",
    "results.summary()"
   ]
  },
  {
   "cell_type": "code",
   "execution_count": 20,
   "metadata": {},
   "outputs": [
    {
     "data": {
      "text/plain": [
       "0.04986341995087151"
      ]
     },
     "execution_count": 20,
     "metadata": {},
     "output_type": "execute_result"
    }
   ],
   "source": [
    "# fit with sklearn OLS\n",
    "ols = LinearRegression()\n",
    "ols.fit(X_train, y_train)\n",
    "ols.score(X_test, y_test)"
   ]
  },
  {
   "cell_type": "code",
   "execution_count": 21,
   "metadata": {},
   "outputs": [
    {
     "data": {
      "text/plain": [
       "0.037839429839948036"
      ]
     },
     "execution_count": 21,
     "metadata": {},
     "output_type": "execute_result"
    }
   ],
   "source": [
    "# With RF\n",
    "regr = RandomForestRegressor(max_depth=2, random_state=0)\n",
    "regr.fit(X_train, y_train.flatten())\n",
    "regr.score(X_test, y_test.flatten())"
   ]
  },
  {
   "cell_type": "markdown",
   "metadata": {},
   "source": [
    "What about just weekend data?"
   ]
  },
  {
   "cell_type": "code",
   "execution_count": 24,
   "metadata": {},
   "outputs": [],
   "source": [
    "wk_df = df[df['weekend'] == 1]\n",
    "y = wk_df['normed_edge'].values.reshape(-1,1)\n",
    "X = wk_df[['first_prior', 'second_prior', 'midday', 'rush_hour']].values\n",
    "X_train, X_test, y_train, y_test = train_test_split(X, y)"
   ]
  },
  {
   "cell_type": "code",
   "execution_count": 26,
   "metadata": {},
   "outputs": [
    {
     "data": {
      "text/plain": [
       "0.03648310841755453"
      ]
     },
     "execution_count": 26,
     "metadata": {},
     "output_type": "execute_result"
    }
   ],
   "source": [
    "# fit with sklearn OLS\n",
    "ols = LinearRegression()\n",
    "ols.fit(X_train, y_train)\n",
    "ols.score(X_test, y_test)"
   ]
  },
  {
   "cell_type": "code",
   "execution_count": 27,
   "metadata": {},
   "outputs": [
    {
     "data": {
      "text/plain": [
       "0.028506925814792194"
      ]
     },
     "execution_count": 27,
     "metadata": {},
     "output_type": "execute_result"
    }
   ],
   "source": [
    "# With RF\n",
    "regr = RandomForestRegressor(max_depth=2, random_state=0)\n",
    "regr.fit(X_train, y_train.flatten())\n",
    "regr.score(X_test, y_test.flatten())"
   ]
  },
  {
   "cell_type": "markdown",
   "metadata": {},
   "source": [
    "# What about non-normalized?"
   ]
  },
  {
   "cell_type": "code",
   "execution_count": 30,
   "metadata": {},
   "outputs": [],
   "source": [
    "stand_coll = db['edges_standardized']\n",
    "std_cursor = stand_coll.find()\n",
    "std_df =  pd.DataFrame(list(std_cursor))"
   ]
  },
  {
   "cell_type": "code",
   "execution_count": 33,
   "metadata": {},
   "outputs": [],
   "source": [
    "y = std_df['standard_edge'].values.reshape(-1,1)\n",
    "X = std_df[['first_prior', 'second_prior', 'midday', 'rush_hour', 'weekend']].values\n",
    "X_train, X_test, y_train, y_test = train_test_split(X, y)"
   ]
  },
  {
   "cell_type": "code",
   "execution_count": 34,
   "metadata": {},
   "outputs": [
    {
     "data": {
      "text/plain": [
       "0.01391835062696567"
      ]
     },
     "execution_count": 34,
     "metadata": {},
     "output_type": "execute_result"
    }
   ],
   "source": [
    "# fit with sklearn OLS\n",
    "ols = LinearRegression()\n",
    "ols.fit(X_train, y_train)\n",
    "ols.score(X_test, y_test)"
   ]
  },
  {
   "cell_type": "code",
   "execution_count": 35,
   "metadata": {},
   "outputs": [
    {
     "data": {
      "text/plain": [
       "0.02045907040064232"
      ]
     },
     "execution_count": 35,
     "metadata": {},
     "output_type": "execute_result"
    }
   ],
   "source": [
    "# With RF\n",
    "regr = RandomForestRegressor(max_depth=2, random_state=0)\n",
    "regr.fit(X_train, y_train.flatten())\n",
    "regr.score(X_test, y_test.flatten())"
   ]
  },
  {
   "cell_type": "code",
   "execution_count": null,
   "metadata": {},
   "outputs": [],
   "source": []
  }
 ],
 "metadata": {
  "kernelspec": {
   "display_name": "Python 3",
   "language": "python",
   "name": "python3"
  },
  "language_info": {
   "codemirror_mode": {
    "name": "ipython",
    "version": 3
   },
   "file_extension": ".py",
   "mimetype": "text/x-python",
   "name": "python",
   "nbconvert_exporter": "python",
   "pygments_lexer": "ipython3",
   "version": "3.6.5"
  }
 },
 "nbformat": 4,
 "nbformat_minor": 2
}
