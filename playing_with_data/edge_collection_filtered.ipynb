{
 "cells": [
  {
   "cell_type": "code",
   "execution_count": 4,
   "metadata": {},
   "outputs": [],
   "source": [
    "from datetime import datetime\n",
    "import pandas as pd\n",
    "from geopy import distance\n",
    "import numpy as np\n",
    "\n",
    "import pymongo\n",
    "from pymongo import MongoClient\n",
    "\n",
    "import matplotlib.pyplot as plt\n",
    "plt.style.use(\"ggplot\")\n",
    "%matplotlib inline"
   ]
  },
  {
   "cell_type": "code",
   "execution_count": 5,
   "metadata": {},
   "outputs": [],
   "source": [
    "client = MongoClient('localhost', 27017)\n",
    "\n",
    "db = client['avl_pipeline_test']\n",
    "in_coll = db['trips']\n",
    "out_coll = db['edges_filtered']"
   ]
  },
  {
   "cell_type": "code",
   "execution_count": 6,
   "metadata": {},
   "outputs": [],
   "source": [
    "# Optional - Clean the output collection!\n",
    "out_coll.delete_many({});"
   ]
  },
  {
   "cell_type": "code",
   "execution_count": 7,
   "metadata": {},
   "outputs": [],
   "source": [
    "sample = in_coll.find_one()\n",
    "edge_list = list(sample['edges'].keys())"
   ]
  },
  {
   "cell_type": "code",
   "execution_count": 8,
   "metadata": {},
   "outputs": [],
   "source": [
    "for edge in edge_list:\n",
    "    \n",
    "    edge_dict = {}\n",
    "    \n",
    "    edge_dict['sequence'] = edge\n",
    "    \n",
    "    search_str = 'edges.' + edge\n",
    "    prj_str = search_str + '.edge_time'\n",
    "\n",
    "    search = {\n",
    "        search_str: { '$exists': True }\n",
    "    }\n",
    "    \n",
    "    projection = {\n",
    "        '_id': 0, \n",
    "        prj_str: 1\n",
    "        }\n",
    "\n",
    "    edge_duration_list = []\n",
    "\n",
    "    for edge_duration in in_coll.find(search, projection):\n",
    "\n",
    "        edge_time = edge_duration['edges'][edge]['edge_time']\n",
    "        if edge_time > 300:\n",
    "            continue\n",
    "        if edge_time == 0:\n",
    "            continue\n",
    "\n",
    "        edge_duration_list.append(edge_time)\n",
    "        \n",
    "    np_edge = np.array(edge_duration_list)\n",
    "    \n",
    "    edge_dict['mean'] = np_edge.mean()\n",
    "    edge_dict['std_dev'] = np.std(np_edge)\n",
    "    \n",
    "    out_coll.insert_one(edge_dict)\n",
    "\n"
   ]
  },
  {
   "cell_type": "code",
   "execution_count": 9,
   "metadata": {},
   "outputs": [
    {
     "data": {
      "text/plain": [
       "{'_id': ObjectId('5ae8d44e3ad39e8b31aa41e9'),\n",
       " 'sequence': '1',\n",
       " 'mean': 86.96867061812024,\n",
       " 'std_dev': 33.760097003926674}"
      ]
     },
     "execution_count": 9,
     "metadata": {},
     "output_type": "execute_result"
    }
   ],
   "source": [
    "out_coll.find_one()"
   ]
  },
  {
   "cell_type": "code",
   "execution_count": null,
   "metadata": {},
   "outputs": [],
   "source": []
  }
 ],
 "metadata": {
  "kernelspec": {
   "display_name": "Python 3",
   "language": "python",
   "name": "python3"
  },
  "language_info": {
   "codemirror_mode": {
    "name": "ipython",
    "version": 3
   },
   "file_extension": ".py",
   "mimetype": "text/x-python",
   "name": "python",
   "nbconvert_exporter": "python",
   "pygments_lexer": "ipython3",
   "version": "3.6.5"
  }
 },
 "nbformat": 4,
 "nbformat_minor": 2
}
