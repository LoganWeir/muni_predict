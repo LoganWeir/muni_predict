{
 "cells": [
  {
   "cell_type": "code",
   "execution_count": 178,
   "metadata": {},
   "outputs": [],
   "source": [
    "import pandas as pd\n",
    "from ftplib import FTP\n",
    "from datetime import datetime\n",
    "import time\n",
    "import numpy as np\n",
    "import pymongo\n",
    "from pymongo import MongoClient\n",
    "\n",
    "from geopy import distance\n",
    "\n",
    "import get_recent_days as gtdys\n",
    "import muni_etl\n",
    "import labelling as lblng"
   ]
  },
  {
   "cell_type": "code",
   "execution_count": 179,
   "metadata": {},
   "outputs": [],
   "source": [
    "client = MongoClient('localhost', 27017)\n",
    "\n",
    "db = client['testavl']\n",
    "in_coll = db['clean']\n",
    "out_coll = db['clean_out']"
   ]
  },
  {
   "cell_type": "code",
   "execution_count": 180,
   "metadata": {},
   "outputs": [
    {
     "data": {
      "text/plain": [
       "0"
      ]
     },
     "execution_count": 180,
     "metadata": {},
     "output_type": "execute_result"
    }
   ],
   "source": [
    "out_coll.delete_many({})\n",
    "out_coll.count()"
   ]
  },
  {
   "cell_type": "code",
   "execution_count": 181,
   "metadata": {
    "scrolled": true
   },
   "outputs": [],
   "source": [
    "labeler = lblng.Labeling(in_coll, out_coll)"
   ]
  },
  {
   "cell_type": "code",
   "execution_count": 182,
   "metadata": {
    "scrolled": true
   },
   "outputs": [
    {
     "name": "stdout",
     "output_type": "stream",
     "text": [
      "Start Count:  45\n",
      "\n",
      "\n",
      "Duplicate ID Count:  0\n",
      "\n",
      "\n"
     ]
    }
   ],
   "source": [
    "labeler.label_single_starts()"
   ]
  },
  {
   "cell_type": "code",
   "execution_count": 183,
   "metadata": {
    "scrolled": false
   },
   "outputs": [
    {
     "name": "stdout",
     "output_type": "stream",
     "text": [
      "Total Good Trips:  40\n",
      "\n",
      "\n",
      "Total Emtpy Trips:  0\n",
      "\n",
      "\n",
      "Total Sparse Trips:  3\n",
      "\n",
      "\n",
      "Total Dense Trips:  1\n",
      "\n",
      "\n",
      "Total 'Endless' Trips:  2\n"
     ]
    }
   ],
   "source": [
    "labeler.label_trips()"
   ]
  },
  {
   "cell_type": "code",
   "execution_count": 184,
   "metadata": {},
   "outputs": [
    {
     "data": {
      "text/plain": [
       "3030"
      ]
     },
     "execution_count": 184,
     "metadata": {},
     "output_type": "execute_result"
    }
   ],
   "source": [
    "out_coll.count()"
   ]
  },
  {
   "cell_type": "code",
   "execution_count": null,
   "metadata": {},
   "outputs": [],
   "source": []
  },
  {
   "cell_type": "code",
   "execution_count": null,
   "metadata": {},
   "outputs": [],
   "source": []
  },
  {
   "cell_type": "code",
   "execution_count": null,
   "metadata": {},
   "outputs": [],
   "source": []
  },
  {
   "cell_type": "code",
   "execution_count": 132,
   "metadata": {},
   "outputs": [
    {
     "data": {
      "text/plain": [
       "45"
      ]
     },
     "execution_count": 132,
     "metadata": {},
     "output_type": "execute_result"
    }
   ],
   "source": [
    "len(out_coll.find().distinct('trip_id_iso'))"
   ]
  },
  {
   "cell_type": "code",
   "execution_count": 144,
   "metadata": {},
   "outputs": [
    {
     "name": "stdout",
     "output_type": "stream",
     "text": [
      "{'_id': '7253809_2016-11-19', 'count': 2}\n"
     ]
    }
   ],
   "source": [
    "params = [\n",
    "            {\"$group\" : { \"_id\": \"$trip_id_iso\", \"count\": { \"$sum\": 1 }}},\n",
    "            {\"$match\": {\"count\" : {\"$gt\": 1}}}\n",
    "         ]\n",
    "hoop = out_coll.aggregate(params)\n",
    "\n",
    "for item in hoop:\n",
    "    print (item)"
   ]
  },
  {
   "cell_type": "code",
   "execution_count": 146,
   "metadata": {},
   "outputs": [
    {
     "name": "stdout",
     "output_type": "stream",
     "text": [
      "{'_id': ObjectId('5ae20f963ad39e1a4fce3782'), 'HEADING': '79.0', 'LATITUDE': '37.78693', 'LONGITUDE': '-122.45655', 'PREDICTABLE': '1', 'REPORT_TIME': '11/19/2016 22:00:55', 'REV': '1526', 'SPEED': '0.833', 'TRAIN_ASSIGNMENT': '3304', 'VEHICLE_TAG': '5445', 'sched_time_diff_seconds': 55, 'service_id': 2, 'time_stamp': 1479621655.0, 'trip_id': 7253809, 'trip_id_iso': '7253809_2016-11-19', 'trip_start': 1}\n",
      "{'_id': ObjectId('5ae20f963ad39e1a4fce381f'), 'HEADING': '82.0', 'LATITUDE': '37.7869', 'LONGITUDE': '-122.4565', 'PREDICTABLE': '1', 'REPORT_TIME': '11/19/2016 23:59:28', 'REV': '1526', 'SPEED': '0.0', 'TRAIN_ASSIGNMENT': '3304', 'VEHICLE_TAG': '5445', 'sched_time_diff_seconds': 7168, 'service_id': 2, 'time_stamp': 1479628768.0, 'trip_id': 7253809, 'trip_id_iso': '7253809_2016-11-19', 'trip_start': 1}\n"
     ]
    }
   ],
   "source": [
    "for pica in out_coll.find({'trip_id_iso': '7253809_2016-11-19'}):\n",
    "    print (pica)"
   ]
  },
  {
   "cell_type": "code",
   "execution_count": 147,
   "metadata": {},
   "outputs": [
    {
     "data": {
      "text/plain": [
       "119.46666666666667"
      ]
     },
     "execution_count": 147,
     "metadata": {},
     "output_type": "execute_result"
    }
   ],
   "source": [
    "7168/60"
   ]
  },
  {
   "cell_type": "code",
   "execution_count": 148,
   "metadata": {},
   "outputs": [
    {
     "data": {
      "text/plain": [
       "1800"
      ]
     },
     "execution_count": 148,
     "metadata": {},
     "output_type": "execute_result"
    }
   ],
   "source": [
    "30 * 60"
   ]
  },
  {
   "cell_type": "code",
   "execution_count": null,
   "metadata": {},
   "outputs": [],
   "source": []
  },
  {
   "cell_type": "code",
   "execution_count": null,
   "metadata": {},
   "outputs": [],
   "source": []
  },
  {
   "cell_type": "code",
   "execution_count": null,
   "metadata": {},
   "outputs": [],
   "source": []
  },
  {
   "cell_type": "code",
   "execution_count": null,
   "metadata": {},
   "outputs": [],
   "source": []
  },
  {
   "cell_type": "code",
   "execution_count": null,
   "metadata": {},
   "outputs": [],
   "source": []
  },
  {
   "cell_type": "code",
   "execution_count": 102,
   "metadata": {},
   "outputs": [
    {
     "data": {
      "text/plain": [
       "(58, 7)"
      ]
     },
     "execution_count": 102,
     "metadata": {},
     "output_type": "execute_result"
    }
   ],
   "source": [
    "trips = labeler.trip_blocks[labeler.trip_blocks['service_id'] == 2]\n",
    "trips.shape"
   ]
  },
  {
   "cell_type": "code",
   "execution_count": null,
   "metadata": {},
   "outputs": [],
   "source": []
  },
  {
   "cell_type": "code",
   "execution_count": null,
   "metadata": {},
   "outputs": [],
   "source": []
  },
  {
   "cell_type": "code",
   "execution_count": 37,
   "metadata": {
    "scrolled": true
   },
   "outputs": [
    {
     "data": {
      "text/html": [
       "<div>\n",
       "<style scoped>\n",
       "    .dataframe tbody tr th:only-of-type {\n",
       "        vertical-align: middle;\n",
       "    }\n",
       "\n",
       "    .dataframe tbody tr th {\n",
       "        vertical-align: top;\n",
       "    }\n",
       "\n",
       "    .dataframe thead th {\n",
       "        text-align: right;\n",
       "    }\n",
       "</style>\n",
       "<table border=\"1\" class=\"dataframe\">\n",
       "  <thead>\n",
       "    <tr style=\"text-align: right;\">\n",
       "      <th></th>\n",
       "      <th>trip_id</th>\n",
       "      <th>arrival_time</th>\n",
       "      <th>departure_time</th>\n",
       "      <th>stop_id</th>\n",
       "      <th>stop_sequence</th>\n",
       "      <th>stop_headsign</th>\n",
       "      <th>pickup_type</th>\n",
       "      <th>drop_off_type</th>\n",
       "      <th>shape_dist_traveled</th>\n",
       "    </tr>\n",
       "  </thead>\n",
       "  <tbody>\n",
       "    <tr>\n",
       "      <th>476240</th>\n",
       "      <td>7253651</td>\n",
       "      <td>24:00:00</td>\n",
       "      <td>24:00:00</td>\n",
       "      <td>6293</td>\n",
       "      <td>1</td>\n",
       "      <td></td>\n",
       "      <td></td>\n",
       "      <td></td>\n",
       "      <td></td>\n",
       "    </tr>\n",
       "    <tr>\n",
       "      <th>476241</th>\n",
       "      <td>7253651</td>\n",
       "      <td>24:00:56</td>\n",
       "      <td>24:00:56</td>\n",
       "      <td>3879</td>\n",
       "      <td>2</td>\n",
       "      <td></td>\n",
       "      <td></td>\n",
       "      <td></td>\n",
       "      <td></td>\n",
       "    </tr>\n",
       "    <tr>\n",
       "      <th>476242</th>\n",
       "      <td>7253651</td>\n",
       "      <td>24:01:32</td>\n",
       "      <td>24:01:32</td>\n",
       "      <td>3852</td>\n",
       "      <td>3</td>\n",
       "      <td></td>\n",
       "      <td></td>\n",
       "      <td></td>\n",
       "      <td></td>\n",
       "    </tr>\n",
       "    <tr>\n",
       "      <th>476243</th>\n",
       "      <td>7253651</td>\n",
       "      <td>24:02:28</td>\n",
       "      <td>24:02:28</td>\n",
       "      <td>3644</td>\n",
       "      <td>4</td>\n",
       "      <td></td>\n",
       "      <td></td>\n",
       "      <td></td>\n",
       "      <td></td>\n",
       "    </tr>\n",
       "    <tr>\n",
       "      <th>476244</th>\n",
       "      <td>7253651</td>\n",
       "      <td>24:03:39</td>\n",
       "      <td>24:03:39</td>\n",
       "      <td>3645</td>\n",
       "      <td>5</td>\n",
       "      <td></td>\n",
       "      <td></td>\n",
       "      <td></td>\n",
       "      <td></td>\n",
       "    </tr>\n",
       "  </tbody>\n",
       "</table>\n",
       "</div>"
      ],
      "text/plain": [
       "        trip_id arrival_time departure_time  stop_id  stop_sequence  \\\n",
       "476240  7253651     24:00:00       24:00:00     6293              1   \n",
       "476241  7253651     24:00:56       24:00:56     3879              2   \n",
       "476242  7253651     24:01:32       24:01:32     3852              3   \n",
       "476243  7253651     24:02:28       24:02:28     3644              4   \n",
       "476244  7253651     24:03:39       24:03:39     3645              5   \n",
       "\n",
       "       stop_headsign pickup_type drop_off_type shape_dist_traveled  \n",
       "476240                                                              \n",
       "476241                                                              \n",
       "476242                                                              \n",
       "476243                                                              \n",
       "476244                                                              "
      ]
     },
     "execution_count": 37,
     "metadata": {},
     "output_type": "execute_result"
    }
   ],
   "source": [
    "labeler.sched_trps.head()"
   ]
  },
  {
   "cell_type": "code",
   "execution_count": 59,
   "metadata": {},
   "outputs": [],
   "source": [
    "lst_seq = labeler.sched_trps.groupby('trip_id')['stop_sequence'].max().unique()"
   ]
  },
  {
   "cell_type": "code",
   "execution_count": 61,
   "metadata": {},
   "outputs": [
    {
     "data": {
      "text/plain": [
       "array([3282, 3511])"
      ]
     },
     "execution_count": 61,
     "metadata": {},
     "output_type": "execute_result"
    }
   ],
   "source": [
    "last_stop_id = labeler.sched_trps[labeler.sched_trps['stop_sequence'].isin(lst_seq)]['stop_id'].unique()\n",
    "last_stop_id"
   ]
  },
  {
   "cell_type": "code",
   "execution_count": 62,
   "metadata": {},
   "outputs": [
    {
     "data": {
      "text/html": [
       "<div>\n",
       "<style scoped>\n",
       "    .dataframe tbody tr th:only-of-type {\n",
       "        vertical-align: middle;\n",
       "    }\n",
       "\n",
       "    .dataframe tbody tr th {\n",
       "        vertical-align: top;\n",
       "    }\n",
       "\n",
       "    .dataframe thead th {\n",
       "        text-align: right;\n",
       "    }\n",
       "</style>\n",
       "<table border=\"1\" class=\"dataframe\">\n",
       "  <thead>\n",
       "    <tr style=\"text-align: right;\">\n",
       "      <th></th>\n",
       "      <th>stop_id</th>\n",
       "      <th>stop_name</th>\n",
       "      <th>stop_desc</th>\n",
       "      <th>stop_lat</th>\n",
       "      <th>stop_lon</th>\n",
       "      <th>zone_id</th>\n",
       "      <th>stop_url</th>\n",
       "    </tr>\n",
       "  </thead>\n",
       "  <tbody>\n",
       "    <tr>\n",
       "      <th>353</th>\n",
       "      <td>3282</td>\n",
       "      <td>16th St &amp; Bryant St</td>\n",
       "      <td></td>\n",
       "      <td>37.765595</td>\n",
       "      <td>-122.410408</td>\n",
       "      <td></td>\n",
       "      <td></td>\n",
       "    </tr>\n",
       "    <tr>\n",
       "      <th>574</th>\n",
       "      <td>3511</td>\n",
       "      <td>25th St &amp; Potrero Ave</td>\n",
       "      <td></td>\n",
       "      <td>37.751407</td>\n",
       "      <td>-122.406680</td>\n",
       "      <td></td>\n",
       "      <td></td>\n",
       "    </tr>\n",
       "  </tbody>\n",
       "</table>\n",
       "</div>"
      ],
      "text/plain": [
       "     stop_id              stop_name stop_desc   stop_lat    stop_lon zone_id  \\\n",
       "353     3282    16th St & Bryant St            37.765595 -122.410408           \n",
       "574     3511  25th St & Potrero Ave            37.751407 -122.406680           \n",
       "\n",
       "    stop_url  \n",
       "353           \n",
       "574           "
      ]
     },
     "execution_count": 62,
     "metadata": {},
     "output_type": "execute_result"
    }
   ],
   "source": [
    "labeler.stop_sched[labeler.stop_sched['stop_id'].isin(last_stop_id)]"
   ]
  },
  {
   "cell_type": "code",
   "execution_count": 151,
   "metadata": {},
   "outputs": [
    {
     "data": {
      "text/html": [
       "<div style=\"width:100%;\"><div style=\"position:relative;width:100%;height:0;padding-bottom:60%;\"><iframe src=\"data:text/html;charset=utf-8;base64,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\" style=\"position:absolute;width:100%;height:100%;left:0;top:0;border:none !important;\" allowfullscreen webkitallowfullscreen mozallowfullscreen></iframe></div></div>"
      ],
      "text/plain": [
       "<folium.folium.Map at 0x10f5fb940>"
      ]
     },
     "execution_count": 151,
     "metadata": {},
     "output_type": "execute_result"
    }
   ],
   "source": [
    "import folium\n",
    "\n",
    "map_2 = folium.Map(location=[37.770373, -122.436064],\n",
    "                   tiles='Stamen Terrain',\n",
    "                   zoom_start=13)\n",
    "\n",
    "#16 Bryant\n",
    "last_stop = (37.765595, -122.410408)\n",
    "\n",
    "# #25 Potrero\n",
    "# last_stop = (37.751407, -122.406680)\n",
    "\n",
    "for data in labeler.testdocs['7253850_2016-11-19']:\n",
    "\n",
    "    lat = data['LATITUDE']\n",
    "    lon = data['LONGITUDE']\n",
    "\n",
    "    rprt_time = data['REPORT_TIME']\n",
    "    \n",
    "    dist = distance.distance(last_stop, (float(lat), float(lon))).m\n",
    "\n",
    "    folium.Marker([float(lat), float(lon)], popup=rprt_time + \"  \" + str(dist)).add_to(map_2)\n",
    "\n",
    "\n",
    "\n",
    "# folium.Marker([endstp_latlon[0], endstp_latlon[1]], icon=folium.Icon(color='red')).add_to(map_2)\n",
    "    \n",
    "map_2\n"
   ]
  },
  {
   "cell_type": "code",
   "execution_count": null,
   "metadata": {},
   "outputs": [],
   "source": []
  }
 ],
 "metadata": {
  "kernelspec": {
   "display_name": "Python 3",
   "language": "python",
   "name": "python3"
  },
  "language_info": {
   "codemirror_mode": {
    "name": "ipython",
    "version": 3
   },
   "file_extension": ".py",
   "mimetype": "text/x-python",
   "name": "python",
   "nbconvert_exporter": "python",
   "pygments_lexer": "ipython3",
   "version": "3.6.5"
  }
 },
 "nbformat": 4,
 "nbformat_minor": 2
}
