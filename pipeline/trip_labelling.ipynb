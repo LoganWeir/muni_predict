{
 "cells": [
  {
   "cell_type": "code",
   "execution_count": 44,
   "metadata": {},
   "outputs": [],
   "source": [
    "import pandas as pd\n",
    "import numpy as np\n",
    "from pprint import pprint\n",
    "\n",
    "import pymongo\n",
    "from pymongo import MongoClient\n",
    "\n",
    "import trip_labelling as trp_lblng"
   ]
  },
  {
   "cell_type": "code",
   "execution_count": 45,
   "metadata": {},
   "outputs": [],
   "source": [
    "client = MongoClient('localhost', 27017)\n",
    "\n",
    "db = client['avl_pipeline_test']\n",
    "in_coll = db['avl_raw']\n",
    "start_coll = db['redux_starts']\n",
    "trip_coll = db['redux_trips']"
   ]
  },
  {
   "cell_type": "code",
   "execution_count": 46,
   "metadata": {},
   "outputs": [],
   "source": [
    "trip_coll.delete_many({});"
   ]
  },
  {
   "cell_type": "code",
   "execution_count": 47,
   "metadata": {},
   "outputs": [],
   "source": [
    "trp_labeler = trp_lblng.TripLabeling(in_coll, start_coll, trip_coll)"
   ]
  },
  {
   "cell_type": "code",
   "execution_count": 48,
   "metadata": {},
   "outputs": [
    {
     "name": "stdout",
     "output_type": "stream",
     "text": [
      "Total Starts:  1570\n",
      "\n",
      "\n",
      "Total Good Trips:  1412\n",
      "\n",
      "\n",
      "Total Emtpy Trips:  1\n",
      "\n",
      "\n",
      "Total Sparse Trips:  106\n",
      "\n",
      "\n",
      "Total Dense Trips:  21\n",
      "\n",
      "\n",
      "Total 'Endless' Trips:  30\n",
      "Total Trips:  1570\n",
      "\n",
      "\n"
     ]
    }
   ],
   "source": [
    "trp_labeler.label_trips()"
   ]
  }
 ],
 "metadata": {
  "kernelspec": {
   "display_name": "Python 3",
   "language": "python",
   "name": "python3"
  },
  "language_info": {
   "codemirror_mode": {
    "name": "ipython",
    "version": 3
   },
   "file_extension": ".py",
   "mimetype": "text/x-python",
   "name": "python",
   "nbconvert_exporter": "python",
   "pygments_lexer": "ipython3",
   "version": "3.6.5"
  }
 },
 "nbformat": 4,
 "nbformat_minor": 2
}
