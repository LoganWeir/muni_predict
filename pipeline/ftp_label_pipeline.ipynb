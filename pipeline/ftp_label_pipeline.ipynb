{
 "cells": [
  {
   "cell_type": "code",
   "execution_count": 1,
   "metadata": {},
   "outputs": [],
   "source": [
    "import pandas as pd\n",
    "from ftplib import FTP\n",
    "from datetime import datetime\n",
    "import time\n",
    "import numpy as np\n",
    "import pymongo\n",
    "from pymongo import MongoClient\n",
    "from geopy import distance\n",
    "\n",
    "import get_recent_days as gtdys\n",
    "import muni_etl\n",
    "import labelling as lblng"
   ]
  },
  {
   "cell_type": "markdown",
   "metadata": {},
   "source": [
    "Build a Dataframe which has data on each day we will be loading and labeling"
   ]
  },
  {
   "cell_type": "code",
   "execution_count": 2,
   "metadata": {},
   "outputs": [],
   "source": [
    "file_df = gtdys.x_recent_days(30)"
   ]
  },
  {
   "cell_type": "markdown",
   "metadata": {},
   "source": [
    "Load in the Block and Sign reference dataframes\n",
    "\n",
    "This gives us the appropriate blocks for each day"
   ]
  },
  {
   "cell_type": "code",
   "execution_count": 3,
   "metadata": {},
   "outputs": [],
   "source": [
    "blockref = pd.read_csv('data/lookUpBlockIDToBlockNumNam.csv')\n",
    "signref = pd.read_csv('data/lookUpSignUpPeriods.csv', parse_dates=[2,3])"
   ]
  },
  {
   "cell_type": "markdown",
   "metadata": {},
   "source": [
    "Connect to MongoDB, create our database and two tables"
   ]
  },
  {
   "cell_type": "code",
   "execution_count": 4,
   "metadata": {},
   "outputs": [],
   "source": [
    "client = MongoClient('localhost', 27017)\n",
    "\n",
    "db = client['avl_pipeline_test']\n",
    "in_collection = db['avl_raw']\n",
    "out_collection = db['labeled_trips']\n",
    "\n",
    "# Optional - Clean the collections\n",
    "in_collection.delete_many({})\n",
    "out_collection.delete_many({});"
   ]
  },
  {
   "cell_type": "markdown",
   "metadata": {},
   "source": [
    "For each day, filter and load in the data from the FTP server"
   ]
  },
  {
   "cell_type": "code",
   "execution_count": 5,
   "metadata": {},
   "outputs": [
    {
     "name": "stdout",
     "output_type": "stream",
     "text": [
      "Loading Data from: 2016-12-05\n",
      "Loading Data from: 2016-12-04\n",
      "Loading Data from: 2016-12-03\n",
      "Loading Data from: 2016-11-23\n",
      "Loading Data from: 2016-11-22\n",
      "Loading Data from: 2016-11-21\n",
      "Loading Data from: 2016-11-20\n",
      "Loading Data from: 2016-11-19\n",
      "Loading Data from: 2016-11-18\n",
      "Loading Data from: 2016-11-17\n",
      "Loading Data from: 2016-11-16\n",
      "Loading Data from: 2016-11-15\n",
      "Loading Data from: 2016-11-14\n",
      "Loading Data from: 2016-11-13\n",
      "Loading Data from: 2016-11-12\n",
      "Loading Data from: 2016-11-11\n",
      "Loading Data from: 2016-11-10\n",
      "Loading Data from: 2016-11-09\n",
      "Loading Data from: 2016-11-08\n",
      "Loading Data from: 2016-11-07\n",
      "Loading Data from: 2016-11-06\n",
      "Loading Data from: 2016-11-05\n",
      "Loading Data from: 2016-11-04\n",
      "Loading Data from: 2016-11-03\n",
      "Loading Data from: 2016-11-02\n",
      "Loading Data from: 2016-11-01\n",
      "Loading Data from: 2016-10-31\n",
      "Loading Data from: 2016-10-30\n",
      "Loading Data from: 2016-10-29\n",
      "Loading Data from: 2016-10-28\n"
     ]
    }
   ],
   "source": [
    "for series in file_df.iterrows():\n",
    "    print (\"Loading Data from: \" + series[1]['iso_string'])\n",
    "    series_transform = series[1].to_frame().T\n",
    "    etl = muni_etl.MuniETL(series_transform, blockref, signref, 'avl_pipeline_test', 'avl_raw')\n",
    "    etl.run_everything()"
   ]
  },
  {
   "cell_type": "markdown",
   "metadata": {},
   "source": [
    "Verify the amount of data in our collection"
   ]
  },
  {
   "cell_type": "code",
   "execution_count": 6,
   "metadata": {},
   "outputs": [
    {
     "data": {
      "text/plain": [
       "283822"
      ]
     },
     "execution_count": 6,
     "metadata": {},
     "output_type": "execute_result"
    }
   ],
   "source": [
    "in_collection.find().count()"
   ]
  },
  {
   "cell_type": "markdown",
   "metadata": {},
   "source": [
    "Great! Now let's label everything\n",
    "\n",
    "Let's create a class instance"
   ]
  },
  {
   "cell_type": "code",
   "execution_count": 7,
   "metadata": {},
   "outputs": [],
   "source": [
    "labeler = lblng.Labeling(in_collection, out_collection)"
   ]
  },
  {
   "cell_type": "markdown",
   "metadata": {},
   "source": [
    "Let's find all the trip starts"
   ]
  },
  {
   "cell_type": "code",
   "execution_count": 8,
   "metadata": {},
   "outputs": [
    {
     "name": "stdout",
     "output_type": "stream",
     "text": [
      "Start Count:  301\n",
      "\n",
      "\n",
      "Duplicate ID Count:  0\n",
      "\n",
      "\n"
     ]
    }
   ],
   "source": [
    "labeler.label_single_starts()"
   ]
  },
  {
   "cell_type": "markdown",
   "metadata": {},
   "source": [
    "Finally, let's use all those starts to label the rest of the data!"
   ]
  },
  {
   "cell_type": "code",
   "execution_count": 9,
   "metadata": {},
   "outputs": [
    {
     "name": "stdout",
     "output_type": "stream",
     "text": [
      "Total Good Trips:  285\n",
      "\n",
      "\n",
      "Total Emtpy Trips:  0\n",
      "\n",
      "\n",
      "Total Sparse Trips:  11\n",
      "\n",
      "\n",
      "Total Dense Trips:  4\n",
      "\n",
      "\n",
      "Total 'Endless' Trips:  5\n"
     ]
    }
   ],
   "source": [
    "labeler.label_trips()"
   ]
  },
  {
   "cell_type": "markdown",
   "metadata": {},
   "source": [
    "Sweet!! How many documents in our labeled collection?"
   ]
  },
  {
   "cell_type": "code",
   "execution_count": 10,
   "metadata": {},
   "outputs": [
    {
     "data": {
      "text/plain": [
       "22232"
      ]
     },
     "execution_count": 10,
     "metadata": {},
     "output_type": "execute_result"
    }
   ],
   "source": [
    "out_collection.find().count()"
   ]
  }
 ],
 "metadata": {
  "kernelspec": {
   "display_name": "Python 3",
   "language": "python",
   "name": "python3"
  },
  "language_info": {
   "codemirror_mode": {
    "name": "ipython",
    "version": 3
   },
   "file_extension": ".py",
   "mimetype": "text/x-python",
   "name": "python",
   "nbconvert_exporter": "python",
   "pygments_lexer": "ipython3",
   "version": "3.6.5"
  }
 },
 "nbformat": 4,
 "nbformat_minor": 2
}
